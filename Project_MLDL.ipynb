{
  "nbformat": 4,
  "nbformat_minor": 0,
  "metadata": {
    "colab": {
      "name": "Project_MLDL.ipynb",
      "provenance": [],
      "collapsed_sections": [],
      "include_colab_link": true
    },
    "kernelspec": {
      "name": "python3",
      "display_name": "Python 3"
    },
    "accelerator": "GPU"
  },
  "cells": [
    {
      "cell_type": "markdown",
      "metadata": {
        "id": "view-in-github",
        "colab_type": "text"
      },
      "source": [
        "<a href=\"https://colab.research.google.com/github/Nicordaro/Project_MLDL/blob/master/Project_MLDL.ipynb\" target=\"_parent\"><img src=\"https://colab.research.google.com/assets/colab-badge.svg\" alt=\"Open In Colab\"/></a>"
      ]
    },
    {
      "cell_type": "markdown",
      "metadata": {
        "id": "mZYQvS3r5xTI",
        "colab_type": "text"
      },
      "source": [
        "**Politecnico di Torino**\n",
        "\n",
        "**01TXFSM - Machine learning and Deep learning**\n",
        "\n",
        "**Incremental Learning in Image Classification**\n",
        "\n",
        "**Cordaro Nicolò - s272145**\n",
        "\n",
        "**Di Nepi Marco - s277959**\n",
        "\n",
        "**Falletta Alberto - s277971**\n"
      ]
    },
    {
      "cell_type": "code",
      "metadata": {
        "id": "U2p8HF2uz69h",
        "colab_type": "code",
        "colab": {}
      },
      "source": [
        "# !pip3 install 'torch==1.4.0'\n",
        "# !pip3 install 'torchvision==0.5.0'\n",
        "# !pip3 install 'Pillow-SIMD'\n",
        "# !pip3 install 'tqdm'"
      ],
      "execution_count": 0,
      "outputs": []
    },
    {
      "cell_type": "markdown",
      "metadata": {
        "id": "AZiyg_uxCzrX",
        "colab_type": "text"
      },
      "source": [
        "**Imports**"
      ]
    },
    {
      "cell_type": "code",
      "metadata": {
        "id": "waVhyQpu0xCP",
        "colab_type": "code",
        "colab": {}
      },
      "source": [
        "import os\n",
        "import logging\n",
        "\n",
        "import torch\n",
        "import torch.nn as nn\n",
        "import torch.optim as optim\n",
        "from torch.utils.data import Subset, DataLoader\n",
        "from torch.backends import cudnn\n",
        "\n",
        "\n",
        "import torchvision\n",
        "from torchvision import transforms\n",
        "from torchvision.models import resnet18\n",
        "from torchvision.models import resnet34\n",
        "from PIL import Image\n",
        "from tqdm import tqdm\n",
        "\n",
        "import matplotlib.pyplot as plt\n",
        "from google.colab import drive"
      ],
      "execution_count": 0,
      "outputs": []
    },
    {
      "cell_type": "markdown",
      "metadata": {
        "id": "PBXEJBSFC2vv",
        "colab_type": "text"
      },
      "source": [
        "**Arguments**"
      ]
    },
    {
      "cell_type": "code",
      "metadata": {
        "id": "u3w4eQ0z6smK",
        "colab_type": "code",
        "colab": {}
      },
      "source": [
        "DEVICE = 'cuda' # 'cuda' or 'cpu'\n",
        "\n",
        "# Init at 10 because first train is on 10 classes\n",
        "NUM_CLASSES = 10\n",
        "\n",
        "# Used for the pseudorandom shuffle of the split\n",
        "SEED = 42\n",
        "\n",
        "BATCH_SIZE = 128     # Higher batch sizes allows for larger learning rates. An empirical heuristic suggests that, when changing\n",
        "                     # the batch size, learning rate should change by the same factor to have comparable results\n",
        "\n",
        "LR = 0.01            # The initial Learning Rate\n",
        "MOMENTUM = 0.9       # Hyperparameter for SGD, keep this at 0.9 when using SGD\n",
        "WEIGHT_DECAY = 5e-5  # Regularization, you can keep this at the default\n",
        "\n",
        "NUM_EPOCHS = 10      # Total number of training epochs (iterations over dataset)\n",
        "STEP_SIZE = 1000     # How many epochs before decreasing learning rate (if using a step-down policy)\n",
        "GAMMA = 0.1          # Multiplicative factor for learning rate step-down\n",
        "\n",
        "LOG_FREQUENCY = 50"
      ],
      "execution_count": 0,
      "outputs": []
    },
    {
      "cell_type": "markdown",
      "metadata": {
        "id": "Zz6lTECKCnrn",
        "colab_type": "text"
      },
      "source": [
        "**Pre-processing**"
      ]
    },
    {
      "cell_type": "code",
      "metadata": {
        "id": "ca0Dsj2e6zRY",
        "colab_type": "code",
        "colab": {}
      },
      "source": [
        "# Define transforms for training phase\n",
        "train_transform = transforms.Compose([transforms.Resize(256),      # Resizes short size of the PIL image to 256\n",
        "                                      transforms.CenterCrop(224),  # Crops a central square patch of the image\n",
        "                                                                   # 224 because torchvision's AlexNet needs a 224x224 input!\n",
        "                                                                   # Remember this when applying different transformations, otherwise you get an error\n",
        "                                      transforms.ToTensor(), # Turn PIL Image to torch.Tensor\n",
        "                                      transforms.Normalize((0.5071, 0.4867, 0.4408), (0.2675, 0.2565, 0.2761))  # https://gist.github.com/weiaicunzai/e623931921efefd4c331622c344d8151\n",
        "])\n",
        "# Define transforms for the evaluation phase\n",
        "eval_transform = transforms.Compose([transforms.Resize(256),\n",
        "                                      transforms.CenterCrop(224),\n",
        "                                      transforms.ToTensor(),\n",
        "                                      transforms.Normalize((0.5071, 0.4867, 0.4408), (0.2675, 0.2565, 0.2761))                                 \n",
        "])"
      ],
      "execution_count": 0,
      "outputs": []
    },
    {
      "cell_type": "markdown",
      "metadata": {
        "id": "jurLa0kcDVAd",
        "colab_type": "text"
      },
      "source": [
        "**Prepare Dataset**\n",
        "\n",
        "CIFAR100 has 100 classes containing 600 images each. There are 500 training images and 100 testing images per class. The 100 classes in the CIFAR-100 are grouped into 20 superclasses. Each image comes with a \"fine\" label (the class to which it belongs) and a \"coarse\" label (the superclass to which it belongs).\n",
        "\n",
        "The dataset is divided into five training batches and one test batch, each with 10000 images. The test batch contains exactly 1000 randomly-selected images from each class. The training batches contain the remaining images in random order, but some training batches may contain more images from one class than another.\n",
        "\n",
        "Each of the downloaded files is a Python \"pickled\" object produced with cPickle."
      ]
    },
    {
      "cell_type": "code",
      "metadata": {
        "id": "I23d3NGY31hd",
        "colab_type": "code",
        "colab": {
          "base_uri": "https://localhost:8080/",
          "height": 146
        },
        "outputId": "2dad1e0f-2974-41b8-cf79-8b437e3e3727"
      },
      "source": [
        "# Clone github repository with data\n",
        "# if os.path.isdir('./Project_MLDL'):\n",
        "!rm -rf Project_MLDL\n",
        "if not os.path.isdir('./CIFAR100_tError'):\n",
        "  !git clone https://github.com/Nicordaro/Project_MLDL\n"
      ],
      "execution_count": 26,
      "outputs": [
        {
          "output_type": "stream",
          "text": [
            "Cloning into 'Project_MLDL'...\n",
            "remote: Enumerating objects: 107, done.\u001b[K\n",
            "remote: Counting objects:   0% (1/107)\u001b[K\rremote: Counting objects:   1% (2/107)\u001b[K\rremote: Counting objects:   2% (3/107)\u001b[K\rremote: Counting objects:   3% (4/107)\u001b[K\rremote: Counting objects:   4% (5/107)\u001b[K\rremote: Counting objects:   5% (6/107)\u001b[K\rremote: Counting objects:   6% (7/107)\u001b[K\rremote: Counting objects:   7% (8/107)\u001b[K\rremote: Counting objects:   8% (9/107)\u001b[K\rremote: Counting objects:   9% (10/107)\u001b[K\rremote: Counting objects:  10% (11/107)\u001b[K\rremote: Counting objects:  11% (12/107)\u001b[K\rremote: Counting objects:  12% (13/107)\u001b[K\rremote: Counting objects:  13% (14/107)\u001b[K\rremote: Counting objects:  14% (15/107)\u001b[K\rremote: Counting objects:  15% (17/107)\u001b[K\rremote: Counting objects:  16% (18/107)\u001b[K\rremote: Counting objects:  17% (19/107)\u001b[K\rremote: Counting objects:  18% (20/107)\u001b[K\rremote: Counting objects:  19% (21/107)\u001b[K\rremote: Counting objects:  20% (22/107)\u001b[K\rremote: Counting objects:  21% (23/107)\u001b[K\rremote: Counting objects:  22% (24/107)\u001b[K\rremote: Counting objects:  23% (25/107)\u001b[K\rremote: Counting objects:  24% (26/107)\u001b[K\rremote: Counting objects:  25% (27/107)\u001b[K\rremote: Counting objects:  26% (28/107)\u001b[K\rremote: Counting objects:  27% (29/107)\u001b[K\rremote: Counting objects:  28% (30/107)\u001b[K\rremote: Counting objects:  29% (32/107)\u001b[K\rremote: Counting objects:  30% (33/107)\u001b[K\rremote: Counting objects:  31% (34/107)\u001b[K\rremote: Counting objects:  32% (35/107)\u001b[K\rremote: Counting objects:  33% (36/107)\u001b[K\rremote: Counting objects:  34% (37/107)\u001b[K\rremote: Counting objects:  35% (38/107)\u001b[K\rremote: Counting objects:  36% (39/107)\u001b[K\rremote: Counting objects:  37% (40/107)\u001b[K\rremote: Counting objects:  38% (41/107)\u001b[K\rremote: Counting objects:  39% (42/107)\u001b[K\rremote: Counting objects:  40% (43/107)\u001b[K\rremote: Counting objects:  41% (44/107)\u001b[K\rremote: Counting objects:  42% (45/107)\u001b[K\rremote: Counting objects:  43% (47/107)\u001b[K\rremote: Counting objects:  44% (48/107)\u001b[K\rremote: Counting objects:  45% (49/107)\u001b[K\rremote: Counting objects:  46% (50/107)\u001b[K\rremote: Counting objects:  47% (51/107)\u001b[K\rremote: Counting objects:  48% (52/107)\u001b[K\rremote: Counting objects:  49% (53/107)\u001b[K\rremote: Counting objects:  50% (54/107)\u001b[K\rremote: Counting objects:  51% (55/107)\u001b[K\rremote: Counting objects:  52% (56/107)\u001b[K\rremote: Counting objects:  53% (57/107)\u001b[K\rremote: Counting objects:  54% (58/107)\u001b[K\rremote: Counting objects:  55% (59/107)\u001b[K\rremote: Counting objects:  56% (60/107)\u001b[K\rremote: Counting objects:  57% (61/107)\u001b[K\rremote: Counting objects:  58% (63/107)\u001b[K\rremote: Counting objects:  59% (64/107)\u001b[K\rremote: Counting objects:  60% (65/107)\u001b[K\rremote: Counting objects:  61% (66/107)\u001b[K\rremote: Counting objects:  62% (67/107)\u001b[K\rremote: Counting objects:  63% (68/107)\u001b[K\rremote: Counting objects:  64% (69/107)\u001b[K\rremote: Counting objects:  65% (70/107)\u001b[K\rremote: Counting objects:  66% (71/107)\u001b[K\rremote: Counting objects:  67% (72/107)\u001b[K\rremote: Counting objects:  68% (73/107)\u001b[K\rremote: Counting objects:  69% (74/107)\u001b[K\rremote: Counting objects:  70% (75/107)\u001b[K\rremote: Counting objects:  71% (76/107)\u001b[K\rremote: Counting objects:  72% (78/107)\u001b[K\rremote: Counting objects:  73% (79/107)\u001b[K\rremote: Counting objects:  74% (80/107)\u001b[K\rremote: Counting objects:  75% (81/107)\u001b[K\rremote: Counting objects:  76% (82/107)\u001b[K\rremote: Counting objects:  77% (83/107)\u001b[K\rremote: Counting objects:  78% (84/107)\u001b[K\rremote: Counting objects:  79% (85/107)\u001b[K\rremote: Counting objects:  80% (86/107)\u001b[K\rremote: Counting objects:  81% (87/107)\u001b[K\rremote: Counting objects:  82% (88/107)\u001b[K\rremote: Counting objects:  83% (89/107)\u001b[K\rremote: Counting objects:  84% (90/107)\u001b[K\rremote: Counting objects:  85% (91/107)\u001b[K\rremote: Counting objects:  86% (93/107)\u001b[K\rremote: Counting objects:  87% (94/107)\u001b[K\rremote: Counting objects:  88% (95/107)\u001b[K\rremote: Counting objects:  89% (96/107)\u001b[K\rremote: Counting objects:  90% (97/107)\u001b[K\rremote: Counting objects:  91% (98/107)\u001b[K\rremote: Counting objects:  92% (99/107)\u001b[K\rremote: Counting objects:  93% (100/107)\u001b[K\rremote: Counting objects:  94% (101/107)\u001b[K\rremote: Counting objects:  95% (102/107)\u001b[K\rremote: Counting objects:  96% (103/107)\u001b[K\rremote: Counting objects:  97% (104/107)\u001b[K\rremote: Counting objects:  98% (105/107)\u001b[K\rremote: Counting objects:  99% (106/107)\u001b[K\rremote: Counting objects: 100% (107/107)\u001b[K\rremote: Counting objects: 100% (107/107), done.\u001b[K\n",
            "remote: Compressing objects:   0% (1/105)\u001b[K\rremote: Compressing objects:   1% (2/105)\u001b[K\rremote: Compressing objects:   2% (3/105)\u001b[K\rremote: Compressing objects:   3% (4/105)\u001b[K\rremote: Compressing objects:   4% (5/105)\u001b[K\rremote: Compressing objects:   5% (6/105)\u001b[K\rremote: Compressing objects:   6% (7/105)\u001b[K\rremote: Compressing objects:   7% (8/105)\u001b[K\rremote: Compressing objects:   8% (9/105)\u001b[K\rremote: Compressing objects:   9% (10/105)\u001b[K\rremote: Compressing objects:  10% (11/105)\u001b[K\rremote: Compressing objects:  11% (12/105)\u001b[K\rremote: Compressing objects:  12% (13/105)\u001b[K\rremote: Compressing objects:  13% (14/105)\u001b[K\rremote: Compressing objects:  14% (15/105)\u001b[K\rremote: Compressing objects:  15% (16/105)\u001b[K\rremote: Compressing objects:  16% (17/105)\u001b[K\rremote: Compressing objects:  17% (18/105)\u001b[K\rremote: Compressing objects:  18% (19/105)\u001b[K\rremote: Compressing objects:  19% (20/105)\u001b[K\rremote: Compressing objects:  20% (21/105)\u001b[K\rremote: Compressing objects:  21% (23/105)\u001b[K\rremote: Compressing objects:  22% (24/105)\u001b[K\rremote: Compressing objects:  23% (25/105)\u001b[K\rremote: Compressing objects:  24% (26/105)\u001b[K\rremote: Compressing objects:  25% (27/105)\u001b[K\rremote: Compressing objects:  26% (28/105)\u001b[K\rremote: Compressing objects:  27% (29/105)\u001b[K\rremote: Compressing objects:  28% (30/105)\u001b[K\rremote: Compressing objects:  29% (31/105)\u001b[K\rremote: Compressing objects:  30% (32/105)\u001b[K\rremote: Compressing objects:  31% (33/105)\u001b[K\rremote: Compressing objects:  32% (34/105)\u001b[K\rremote: Compressing objects:  33% (35/105)\u001b[K\rremote: Compressing objects:  34% (36/105)\u001b[K\rremote: Compressing objects:  35% (37/105)\u001b[K\rremote: Compressing objects:  36% (38/105)\u001b[K\rremote: Compressing objects:  37% (39/105)\u001b[K\rremote: Compressing objects:  38% (40/105)\u001b[K\rremote: Compressing objects:  39% (41/105)\u001b[K\rremote: Compressing objects:  40% (42/105)\u001b[K\rremote: Compressing objects:  41% (44/105)\u001b[K\rremote: Compressing objects:  42% (45/105)\u001b[K\rremote: Compressing objects:  43% (46/105)\u001b[K\rremote: Compressing objects:  44% (47/105)\u001b[K\rremote: Compressing objects:  45% (48/105)\u001b[K\rremote: Compressing objects:  46% (49/105)\u001b[K\rremote: Compressing objects:  47% (50/105)\u001b[K\rremote: Compressing objects:  48% (51/105)\u001b[K\rremote: Compressing objects:  49% (52/105)\u001b[K\rremote: Compressing objects:  50% (53/105)\u001b[K\rremote: Compressing objects:  51% (54/105)\u001b[K\rremote: Compressing objects:  52% (55/105)\u001b[K\rremote: Compressing objects:  53% (56/105)\u001b[K\rremote: Compressing objects:  54% (57/105)\u001b[K\rremote: Compressing objects:  55% (58/105)\u001b[K\rremote: Compressing objects:  56% (59/105)\u001b[K\rremote: Compressing objects:  57% (60/105)\u001b[K\rremote: Compressing objects:  58% (61/105)\u001b[K\rremote: Compressing objects:  59% (62/105)\u001b[K\rremote: Compressing objects:  60% (63/105)\u001b[K\rremote: Compressing objects:  61% (65/105)\u001b[K\rremote: Compressing objects:  62% (66/105)\u001b[K\rremote: Compressing objects:  63% (67/105)\u001b[K\rremote: Compressing objects:  64% (68/105)\u001b[K\rremote: Compressing objects:  65% (69/105)\u001b[K\rremote: Compressing objects:  66% (70/105)\u001b[K\rremote: Compressing objects:  67% (71/105)\u001b[K\rremote: Compressing objects:  68% (72/105)\u001b[K\rremote: Compressing objects:  69% (73/105)\u001b[K\rremote: Compressing objects:  70% (74/105)\u001b[K\rremote: Compressing objects:  71% (75/105)\u001b[K\rremote: Compressing objects:  72% (76/105)\u001b[K\rremote: Compressing objects:  73% (77/105)\u001b[K\rremote: Compressing objects:  74% (78/105)\u001b[K\rremote: Compressing objects:  75% (79/105)\u001b[K\rremote: Compressing objects:  76% (80/105)\u001b[K\rremote: Compressing objects:  77% (81/105)\u001b[K\rremote: Compressing objects:  78% (82/105)\u001b[K\rremote: Compressing objects:  79% (83/105)\u001b[K\rremote: Compressing objects:  80% (84/105)\u001b[K\rremote: Compressing objects:  81% (86/105)\u001b[K\rremote: Compressing objects:  82% (87/105)\u001b[K\rremote: Compressing objects:  83% (88/105)\u001b[K\rremote: Compressing objects:  84% (89/105)\u001b[K\rremote: Compressing objects:  85% (90/105)\u001b[K\rremote: Compressing objects:  86% (91/105)\u001b[K\rremote: Compressing objects:  87% (92/105)\u001b[K\rremote: Compressing objects:  88% (93/105)\u001b[K\rremote: Compressing objects:  89% (94/105)\u001b[K\rremote: Compressing objects:  90% (95/105)\u001b[K\rremote: Compressing objects:  91% (96/105)\u001b[K\rremote: Compressing objects:  92% (97/105)\u001b[K\rremote: Compressing objects:  93% (98/105)\u001b[K\rremote: Compressing objects:  94% (99/105)\u001b[K\rremote: Compressing objects:  95% (100/105)\u001b[K\rremote: Compressing objects:  96% (101/105)\u001b[K\rremote: Compressing objects:  97% (102/105)\u001b[K\rremote: Compressing objects:  98% (103/105)\u001b[K\rremote: Compressing objects:  99% (104/105)\u001b[K\rremote: Compressing objects: 100% (105/105)\u001b[K\rremote: Compressing objects: 100% (105/105), done.\u001b[K\n",
            "Receiving objects:   0% (1/107)   \rReceiving objects:   1% (2/107)   \rReceiving objects:   2% (3/107)   \rReceiving objects:   3% (4/107)   \rReceiving objects:   4% (5/107)   \rReceiving objects:   5% (6/107)   \rReceiving objects:   6% (7/107)   \rReceiving objects:   7% (8/107)   \rReceiving objects:   8% (9/107)   \rReceiving objects:   9% (10/107)   \rReceiving objects:  10% (11/107)   \rReceiving objects:  11% (12/107)   \rReceiving objects:  12% (13/107)   \rReceiving objects:  13% (14/107)   \rReceiving objects:  14% (15/107)   \rReceiving objects:  15% (17/107)   \rReceiving objects:  16% (18/107)   \rReceiving objects:  17% (19/107)   \rReceiving objects:  18% (20/107)   \rReceiving objects:  19% (21/107)   \rReceiving objects:  20% (22/107)   \rReceiving objects:  21% (23/107)   \rReceiving objects:  22% (24/107)   \rReceiving objects:  23% (25/107)   \rReceiving objects:  24% (26/107)   \rReceiving objects:  25% (27/107)   \rReceiving objects:  26% (28/107)   \rReceiving objects:  27% (29/107)   \rReceiving objects:  28% (30/107)   \rReceiving objects:  29% (32/107)   \rReceiving objects:  30% (33/107)   \rReceiving objects:  31% (34/107)   \rReceiving objects:  32% (35/107)   \rReceiving objects:  33% (36/107)   \rReceiving objects:  34% (37/107)   \rReceiving objects:  35% (38/107)   \rReceiving objects:  36% (39/107)   \rReceiving objects:  37% (40/107)   \rReceiving objects:  38% (41/107)   \rReceiving objects:  39% (42/107)   \rReceiving objects:  40% (43/107)   \rReceiving objects:  41% (44/107)   \rReceiving objects:  42% (45/107)   \rReceiving objects:  43% (47/107)   \rReceiving objects:  44% (48/107)   \rReceiving objects:  45% (49/107)   \rReceiving objects:  46% (50/107)   \rReceiving objects:  47% (51/107)   \rReceiving objects:  48% (52/107)   \rReceiving objects:  49% (53/107)   \rReceiving objects:  50% (54/107)   \rReceiving objects:  51% (55/107)   \rReceiving objects:  52% (56/107)   \rReceiving objects:  53% (57/107)   \rReceiving objects:  54% (58/107)   \rReceiving objects:  55% (59/107)   \rReceiving objects:  56% (60/107)   \rReceiving objects:  57% (61/107)   \rReceiving objects:  58% (63/107)   \rReceiving objects:  59% (64/107)   \rReceiving objects:  60% (65/107)   \rReceiving objects:  61% (66/107)   \rReceiving objects:  62% (67/107)   \rReceiving objects:  63% (68/107)   \rReceiving objects:  64% (69/107)   \rReceiving objects:  65% (70/107)   \rReceiving objects:  66% (71/107)   \rReceiving objects:  67% (72/107)   \rReceiving objects:  68% (73/107)   \rReceiving objects:  69% (74/107)   \rReceiving objects:  70% (75/107)   \rReceiving objects:  71% (76/107)   \rReceiving objects:  72% (78/107)   \rReceiving objects:  73% (79/107)   \rReceiving objects:  74% (80/107)   \rReceiving objects:  75% (81/107)   \rReceiving objects:  76% (82/107)   \rReceiving objects:  77% (83/107)   \rReceiving objects:  78% (84/107)   \rReceiving objects:  79% (85/107)   \rReceiving objects:  80% (86/107)   \rReceiving objects:  81% (87/107)   \rReceiving objects:  82% (88/107)   \rReceiving objects:  83% (89/107)   \rReceiving objects:  84% (90/107)   \rReceiving objects:  85% (91/107)   \rReceiving objects:  86% (93/107)   \rReceiving objects:  87% (94/107)   \rReceiving objects:  88% (95/107)   \rremote: Total 107 (delta 47), reused 0 (delta 0), pack-reused 0\u001b[K\n",
            "Receiving objects:  89% (96/107)   \rReceiving objects:  90% (97/107)   \rReceiving objects:  91% (98/107)   \rReceiving objects:  92% (99/107)   \rReceiving objects:  93% (100/107)   \rReceiving objects:  94% (101/107)   \rReceiving objects:  95% (102/107)   \rReceiving objects:  96% (103/107)   \rReceiving objects:  97% (104/107)   \rReceiving objects:  98% (105/107)   \rReceiving objects:  99% (106/107)   \rReceiving objects: 100% (107/107)   \rReceiving objects: 100% (107/107), 191.23 KiB | 3.82 MiB/s, done.\n",
            "Resolving deltas:   0% (0/47)   \rResolving deltas:  38% (18/47)   \rResolving deltas:  51% (24/47)   \rResolving deltas:  55% (26/47)   \rResolving deltas:  59% (28/47)   \rResolving deltas:  87% (41/47)   \rResolving deltas:  91% (43/47)   \rResolving deltas:  93% (44/47)   \rResolving deltas: 100% (47/47)   \rResolving deltas: 100% (47/47), done.\n"
          ],
          "name": "stdout"
        }
      ]
    },
    {
      "cell_type": "code",
      "metadata": {
        "id": "XvpCa6oj_ObK",
        "colab_type": "code",
        "colab": {}
      },
      "source": [
        "from Project_MLDL.CIFAR100_tError import CIFAR100_tError\n",
        "import numpy as np\n",
        "import random\n",
        "\n",
        "DATA_DIR = './CIFAR100'\n",
        "\n",
        "lbls = [i for i in range(0,100)]  #Array of classes integer-encoded (?)\n",
        "random.seed(SEED)\n",
        "random.shuffle(lbls)\n",
        "\n",
        "def make_data_labels(lbls):       #After shuffle, take first 10 classes, and remove the first 10 from the list passed as argument\n",
        "  new_labels=[]\n",
        "  for el in lbls[:10]:\n",
        "    new_labels.append(el)\n",
        "  lbls = lbls[10:]\n",
        "\n",
        "  return lbls, new_labels"
      ],
      "execution_count": 0,
      "outputs": []
    },
    {
      "cell_type": "markdown",
      "metadata": {
        "id": "cq7VaNDZd16T",
        "colab_type": "text"
      },
      "source": [
        "**Network Definition**"
      ]
    },
    {
      "cell_type": "code",
      "metadata": {
        "id": "4VcIBkSsd2Qt",
        "colab_type": "code",
        "colab": {}
      },
      "source": [
        "net = resnet34(pretrained=False)"
      ],
      "execution_count": 0,
      "outputs": []
    },
    {
      "cell_type": "markdown",
      "metadata": {
        "id": "oXm99r7jeCR6",
        "colab_type": "text"
      },
      "source": [
        "**Prepare Training**"
      ]
    },
    {
      "cell_type": "code",
      "metadata": {
        "id": "Xz2-zJYNeGA7",
        "colab_type": "code",
        "colab": {}
      },
      "source": [
        "# Loss function\n",
        "criterion = nn.CrossEntropyLoss() # for classification, we use Cross Entropy\n",
        "\n",
        "# Parameters to optimize:\n",
        "parameters_to_optimize = net.parameters()\n",
        "\n",
        "# Optimizer\n",
        "optimizer = optim.SGD(parameters_to_optimize, lr=LR, momentum=MOMENTUM, weight_decay=WEIGHT_DECAY)\n",
        "# Scheduler\n",
        "scheduler = optim.lr_scheduler.StepLR(optimizer, step_size=STEP_SIZE, gamma=GAMMA)"
      ],
      "execution_count": 0,
      "outputs": []
    },
    {
      "cell_type": "markdown",
      "metadata": {
        "id": "asqyGOuPtzcz",
        "colab_type": "text"
      },
      "source": [
        "**Train & Test**"
      ]
    },
    {
      "cell_type": "code",
      "metadata": {
        "id": "n60Bc9N4byrA",
        "colab_type": "code",
        "colab": {
          "base_uri": "https://localhost:8080/",
          "height": 1000
        },
        "outputId": "27fe4673-ac18-4cc0-ff32-1f5ee37a13c9"
      },
      "source": [
        "BATCH_TO_TEST = 10\n",
        "accuracies = []\n",
        "\n",
        "# Define test dataset outside in order to increment it, instead of initializing it every cycle iteration\n",
        "test_dataset = CIFAR100_tError(DATA_DIR, train=False, transform=eval_transform, download=True)\n",
        "for i in range(0,BATCH_TO_TEST): #one iteration for 10 classes\n",
        "  print(f'Starting training with batch {i+1}')\n",
        "  lbls, new_labels = make_data_labels(lbls)\n",
        "  \n",
        "  # Define Train dataset\n",
        "  train_dataset = CIFAR100_tError(DATA_DIR, train=True, transform=train_transform, download=True)       \n",
        "  \n",
        "  # Increment dataset with new labels mapped with list comprehension\n",
        "  train_dataset.increment(new_labels,[j for j in range(0+i*10,10+i*10)])\n",
        "  test_dataset.increment(new_labels,[j for j in range(0+i*10,10+i*10)])\n",
        "\n",
        "  # Change number of neurons in last fully connected layer\n",
        "  net.fc = nn.Linear(512, NUM_CLASSES*(i+1))\n",
        "\n",
        "  # Define dataloader\n",
        "  train_dataloader = DataLoader(train_dataset, batch_size=BATCH_SIZE, shuffle=True, num_workers=4, drop_last=True)\n",
        "  test_dataloader = DataLoader(test_dataset, batch_size=BATCH_SIZE, shuffle=True, num_workers=4)\n",
        "\n",
        "  #prepare training\n",
        "  # Loss function\n",
        "  criterion = nn.CrossEntropyLoss() # for classification, we use Cross Entropy\n",
        "\n",
        "  # Parameters to optimize:\n",
        "  parameters_to_optimize = net.parameters()\n",
        "\n",
        "  # Optimizer\n",
        "  optimizer = optim.SGD(parameters_to_optimize, lr=LR, momentum=MOMENTUM, weight_decay=WEIGHT_DECAY)\n",
        "  # Scheduler\n",
        "  scheduler = optim.lr_scheduler.StepLR(optimizer, step_size=STEP_SIZE, gamma=GAMMA)\n",
        "\n",
        "  # training \n",
        "  # By default, everything is loaded to cpu\n",
        "  net = net.to(DEVICE) # this will bring the network to GPU if DEVICE is cuda\n",
        "\n",
        "  cudnn.benchmark # Calling this optimizes runtime\n",
        "\n",
        "  current_step = 0\n",
        "\n",
        "  # Start iterating over the epochs\n",
        "  for epoch in range(NUM_EPOCHS):\n",
        "    print('Starting epoch {}/{}, LR = {}'.format(epoch+1, NUM_EPOCHS, scheduler.get_lr()))\n",
        "    \n",
        "    # Iterate over the dataset\n",
        "    for images, labels in train_dataloader:\n",
        "      # Bring data over the device of choice\n",
        "      images = images.to(DEVICE)\n",
        "      labels = labels.to(DEVICE)\n",
        "\n",
        "      net.train() # Sets module in training mode\n",
        "\n",
        "      # PyTorch, by default, accumulates gradients after each backward pass\n",
        "      # We need to manually set the gradients to zero before starting a new iteration\n",
        "      optimizer.zero_grad() # Zero-ing the gradients\n",
        "\n",
        "      # Forward pass to the network\n",
        "      outputs = net(images)\n",
        "\n",
        "      # Compute loss based on output and ground truth\n",
        "      loss = criterion(outputs, labels)\n",
        "      \n",
        "      if current_step % LOG_FREQUENCY == 0:\n",
        "        print('Step {}, Loss {}'.format(current_step, loss.item()))\n",
        "\n",
        "      # Compute gradients for each layer and update weights\n",
        "      loss.backward()  # backward pass: computes gradients\n",
        "      optimizer.step() # update weights based on accumulated gradients\n",
        "\n",
        "      current_step += 1\n",
        "\n",
        "    # Step the scheduler\n",
        "    scheduler.step()\n",
        "\n",
        "  #test phase\n",
        "  net = net.to(DEVICE) # this will bring the network to GPU if DEVICE is cuda\n",
        "  net.train(False) # Set Network to evaluation mode\n",
        "\n",
        "  running_corrects = 0\n",
        "  for images, labels in tqdm(test_dataloader):\n",
        "    images = images.to(DEVICE)\n",
        "    labels = labels.to(DEVICE)\n",
        "\n",
        "    # Forward Pass\n",
        "    outputs = net(images)\n",
        "\n",
        "    # Get predictions\n",
        "    _, preds = torch.max(outputs.data, 1)\n",
        "\n",
        "    #Debugging purpose, print labels of predictions\n",
        "    ##print(preds)\n",
        "\n",
        "    # Update Corrects\n",
        "    running_corrects += torch.sum(preds == labels.data).data.item()\n",
        "\n",
        "  # Calculate Accuracy\n",
        "  accuracy = running_corrects / float(len(test_dataset))\n",
        "\n",
        "  #Store accuracies for plotting purposes\n",
        "  accuracies.append(accuracy)\n",
        "\n",
        "  print('Test Accuracy: {}'.format(accuracy))"
      ],
      "execution_count": 0,
      "outputs": [
        {
          "output_type": "stream",
          "text": [
            "Files already downloaded and verified\n",
            "Starting training with batch 1\n",
            "Files already downloaded and verified\n",
            "Starting epoch 1/10, LR = [0.01]\n"
          ],
          "name": "stdout"
        },
        {
          "output_type": "stream",
          "text": [
            "/usr/local/lib/python3.6/dist-packages/torch/optim/lr_scheduler.py:351: UserWarning: To get the last learning rate computed by the scheduler, please use `get_last_lr()`.\n",
            "  \"please use `get_last_lr()`.\", UserWarning)\n"
          ],
          "name": "stderr"
        },
        {
          "output_type": "stream",
          "text": [
            "Step 0, Loss 2.5046603679656982\n",
            "Starting epoch 2/10, LR = [0.01]\n",
            "Step 50, Loss 1.9012675285339355\n",
            "Starting epoch 3/10, LR = [0.01]\n",
            "Step 100, Loss 1.5411834716796875\n",
            "Starting epoch 4/10, LR = [0.01]\n",
            "Step 150, Loss 1.1983280181884766\n",
            "Starting epoch 5/10, LR = [0.01]\n",
            "Starting epoch 6/10, LR = [0.01]\n",
            "Step 200, Loss 1.135864496231079\n",
            "Starting epoch 7/10, LR = [0.01]\n",
            "Step 250, Loss 0.8120095133781433\n",
            "Starting epoch 8/10, LR = [0.01]\n",
            "Step 300, Loss 0.8160781264305115\n",
            "Starting epoch 9/10, LR = [0.01]\n",
            "Step 350, Loss 0.996483564376831\n",
            "Starting epoch 10/10, LR = [0.01]\n"
          ],
          "name": "stdout"
        },
        {
          "output_type": "stream",
          "text": [
            "100%|██████████| 8/8 [00:04<00:00,  1.91it/s]\n"
          ],
          "name": "stderr"
        },
        {
          "output_type": "stream",
          "text": [
            "Test Accuracy: 0.57\n",
            "Starting training with batch 2\n",
            "Files already downloaded and verified\n",
            "Starting epoch 1/10, LR = [0.01]\n",
            "Step 0, Loss 3.317263126373291\n",
            "Starting epoch 2/10, LR = [0.01]\n",
            "Step 50, Loss 1.1504727602005005\n",
            "Starting epoch 3/10, LR = [0.01]\n",
            "Step 100, Loss 0.8486161231994629\n",
            "Starting epoch 4/10, LR = [0.01]\n",
            "Step 150, Loss 0.49848711490631104\n",
            "Starting epoch 5/10, LR = [0.01]\n",
            "Starting epoch 6/10, LR = [0.01]\n",
            "Step 200, Loss 0.3385623097419739\n",
            "Starting epoch 7/10, LR = [0.01]\n",
            "Step 250, Loss 0.19625917077064514\n",
            "Starting epoch 8/10, LR = [0.01]\n",
            "Step 300, Loss 0.24378496408462524\n",
            "Starting epoch 9/10, LR = [0.01]\n",
            "Step 350, Loss 0.2602942883968353\n",
            "Starting epoch 10/10, LR = [0.01]\n"
          ],
          "name": "stdout"
        },
        {
          "output_type": "stream",
          "text": [
            "100%|██████████| 16/16 [00:07<00:00,  2.18it/s]\n"
          ],
          "name": "stderr"
        },
        {
          "output_type": "stream",
          "text": [
            "Test Accuracy: 0.31\n",
            "Starting training with batch 3\n",
            "Files already downloaded and verified\n",
            "Starting epoch 1/10, LR = [0.01]\n",
            "Step 0, Loss 3.603761672973633\n",
            "Starting epoch 2/10, LR = [0.01]\n",
            "Step 50, Loss 0.7583374977111816\n",
            "Starting epoch 3/10, LR = [0.01]\n",
            "Step 100, Loss 0.49484866857528687\n",
            "Starting epoch 4/10, LR = [0.01]\n",
            "Step 150, Loss 0.27287012338638306\n",
            "Starting epoch 5/10, LR = [0.01]\n",
            "Starting epoch 6/10, LR = [0.01]\n",
            "Step 200, Loss 0.028249897062778473\n",
            "Starting epoch 7/10, LR = [0.01]\n",
            "Step 250, Loss 0.0389537513256073\n",
            "Starting epoch 8/10, LR = [0.01]\n",
            "Step 300, Loss 0.0037180185317993164\n",
            "Starting epoch 9/10, LR = [0.01]\n",
            "Step 350, Loss 0.002068467438220978\n",
            "Starting epoch 10/10, LR = [0.01]\n"
          ],
          "name": "stdout"
        },
        {
          "output_type": "stream",
          "text": [
            "100%|██████████| 24/24 [00:10<00:00,  2.36it/s]\n"
          ],
          "name": "stderr"
        },
        {
          "output_type": "stream",
          "text": [
            "Test Accuracy: 0.24466666666666667\n",
            "Starting training with batch 4\n",
            "Files already downloaded and verified\n",
            "Starting epoch 1/10, LR = [0.01]\n",
            "Step 0, Loss 3.7168548107147217\n",
            "Starting epoch 2/10, LR = [0.01]\n",
            "Step 50, Loss 0.9036841988563538\n",
            "Starting epoch 3/10, LR = [0.01]\n",
            "Step 100, Loss 0.2598949372768402\n",
            "Starting epoch 4/10, LR = [0.01]\n",
            "Step 150, Loss 0.12179103493690491\n",
            "Starting epoch 5/10, LR = [0.01]\n",
            "Starting epoch 6/10, LR = [0.01]\n",
            "Step 200, Loss 0.01793655753135681\n",
            "Starting epoch 7/10, LR = [0.01]\n",
            "Step 250, Loss 0.00347137451171875\n",
            "Starting epoch 8/10, LR = [0.01]\n",
            "Step 300, Loss 0.003809235990047455\n",
            "Starting epoch 9/10, LR = [0.01]\n"
          ],
          "name": "stdout"
        }
      ]
    },
    {
      "cell_type": "code",
      "metadata": {
        "id": "E5OCCLRfzww8",
        "colab_type": "code",
        "colab": {
          "base_uri": "https://localhost:8080/",
          "height": 35
        },
        "outputId": "c3902dc1-72aa-4a81-8db5-8263f49ce704"
      },
      "source": [
        "print(accuracies)"
      ],
      "execution_count": 32,
      "outputs": [
        {
          "output_type": "stream",
          "text": [
            "[0.951, 0.462, 0.31666666666666665, 0.21875, 0.1928, 0.15916666666666668, 0.1372857142857143, 0.118125, 0.10366666666666667, 0.0929]\n"
          ],
          "name": "stdout"
        }
      ]
    },
    {
      "cell_type": "markdown",
      "metadata": {
        "id": "pFrh8Tf_AQ3x",
        "colab_type": "text"
      },
      "source": [
        "**Define plot function**"
      ]
    },
    {
      "cell_type": "code",
      "metadata": {
        "id": "WMt-K3L13WZO",
        "colab_type": "code",
        "colab": {}
      },
      "source": [
        "def accuracy_plot(accuracies):\n",
        "  from scipy import interpolate\n",
        "\n",
        "  tck,u     = interpolate.splprep( [[i*10 for i in range(1,len(accuracies)+1)],accuracies] ,s = 0 )\n",
        "  xnew,ynew = interpolate.splev( np.linspace( 0, 1, 100 ), tck,der = 0)\n",
        "\n",
        "  fig, ax = plt.subplots(figsize=(10,9), facecolor='white')\n",
        "\n",
        "  plt.rc('font', size=20)\n",
        "  plt.plot( [i*10 for i in range(1,len(accuracies)+1)],accuracies,'.' , xnew ,ynew, label = \"accuracy\", c='orange' )\n",
        "  ax.set_ylabel(\"Accuracy\")\n",
        "  ax.set_xlabel(\"Classes\")\n",
        "  plt.grid(axis='y')\n",
        "  for in_i, in_j in zip([i*10 for i in range(1,len(accuracies)+1)], accuracies):  # Plot also the value of the point close to it\n",
        "          ax.annotate(str(round(in_j, 3)), xy=(in_i, in_j))\n",
        "\n",
        "  plt.savefig('test.png', format='png', dpi=300)\n",
        "  plt.show()"
      ],
      "execution_count": 0,
      "outputs": []
    },
    {
      "cell_type": "markdown",
      "metadata": {
        "id": "xvITAvE2AWIj",
        "colab_type": "text"
      },
      "source": [
        "**Plot accuracies**"
      ]
    },
    {
      "cell_type": "code",
      "metadata": {
        "id": "qBsMDe6vAVHw",
        "colab_type": "code",
        "colab": {}
      },
      "source": [
        "accuracy_plot(accuracies)"
      ],
      "execution_count": 0,
      "outputs": []
    }
  ]
}