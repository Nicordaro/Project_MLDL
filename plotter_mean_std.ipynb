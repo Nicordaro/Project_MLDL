{
  "nbformat": 4,
  "nbformat_minor": 0,
  "metadata": {
    "colab": {
      "name": "plotter_mean_std.ipynb",
      "provenance": [],
      "include_colab_link": true
    },
    "kernelspec": {
      "name": "python3",
      "display_name": "Python 3"
    }
  },
  "cells": [
    {
      "cell_type": "markdown",
      "metadata": {
        "id": "view-in-github",
        "colab_type": "text"
      },
      "source": [
        "<a href=\"https://colab.research.google.com/github/Nicordaro/Project_MLDL/blob/master/plotter_mean_std.ipynb\" target=\"_parent\"><img src=\"https://colab.research.google.com/assets/colab-badge.svg\" alt=\"Open In Colab\"/></a>"
      ]
    },
    {
      "cell_type": "markdown",
      "metadata": {
        "id": "m-CnMF9Ht6_7",
        "colab_type": "text"
      },
      "source": [
        " **Functions space**\n",
        " \n",
        "---"
      ]
    },
    {
      "cell_type": "code",
      "metadata": {
        "id": "cMLBsv7JfFc2",
        "colab_type": "code",
        "colab": {}
      },
      "source": [
        "def mean_std(el1, el2, el3):\n",
        "  mean = (el1+el2+el3)/3\n",
        "  import statistics\n",
        "  std = statistics.stdev([el1, el2, el3])\n",
        "  return mean, std\n",
        "\n",
        "def calc(list1, list2, list3):\n",
        "  means=[]\n",
        "  stds=[]\n",
        "  for el1, el2, el3 in zip(list1, list2, list3):\n",
        "    mean, std = mean_std(el1, el2, el3)\n",
        "    means.append(mean)\n",
        "    stds.append(std)\n",
        "  return means, stds"
      ],
      "execution_count": 0,
      "outputs": []
    },
    {
      "cell_type": "code",
      "metadata": {
        "id": "e4-7RXfOTpoZ",
        "colab_type": "code",
        "cellView": "both",
        "colab": {}
      },
      "source": [
        "import numpy as np\n",
        "import matplotlib.pyplot as plt\n",
        "def accuracy_plot(accuracies, devs):\n",
        "  ### FOR MEAN STD PLOT https://stackoverflow.com/questions/22481854/plot-mean-and-standard-deviation\n",
        "\n",
        "  fig, ax = plt.subplots(figsize=(20,19), facecolor='white')\n",
        "\n",
        "  plt.rc('font', size=20)\n",
        "\n",
        "  marker_style = dict(linestyle='-', marker='o',\n",
        "                    markersize=10, markerfacecolor='k')\n",
        "\n",
        "  means = list(np.around(np.array(accuracies),3))\n",
        "  stds = list(np.around(np.array(devs),3))\n",
        "  for i, (mean, dev) in enumerate(zip(means, stds)):\n",
        "    label = str(mean)+' ± '+str(dev)\n",
        "    plt.annotate(label, # this is the text\n",
        "                 ((i+1)*10, mean), \n",
        "                 textcoords=\"offset points\", # how to position the text \n",
        "                 xytext=(-6.5,-5),\n",
        "                 ha='right', size=13) # distance from text to points (x,y)\n",
        "  x = np.array((np.arange(1,11)))*10\n",
        "  plt.errorbar(x, means, stds, fmt='-o', linewidth=4, elinewidth=1, label = \"accuracy\", c='orange', ecolor='black', capsize= 5, barsabove=True, **marker_style)\n",
        "  \n",
        "  ax.set_ylabel(\"Accuracy\")\n",
        "  ax.set_xlabel(\"Classes\")\n",
        "  ax.minorticks_on()\n",
        "#  plt.title(\"Accuracies(mean ± std) obtained with finetuning of a ResNet network\")\n",
        "  plt.yticks(np.arange(0, 1.1, .1))\n",
        "  plt.xticks(np.arange(0, 110, 10))\n",
        "  plt.grid(axis='y',which='major', linestyle='-', linewidth='0.5', color='black') \n",
        "  plt.grid(axis='y',which='minor', linestyle=':', linewidth='0.5', color='grey')\n",
        "  \n",
        "  plt.savefig('test.png', format='png', dpi=300)\n",
        "  plt.show()"
      ],
      "execution_count": 0,
      "outputs": []
    },
    {
      "cell_type": "markdown",
      "metadata": {
        "id": "-S6BYv6MuUPL",
        "colab_type": "text"
      },
      "source": [
        "**Variables definition**\n",
        "\n",
        "---\n"
      ]
    },
    {
      "cell_type": "markdown",
      "metadata": {
        "id": "zdf-cxCRKU6M",
        "colab_type": "text"
      },
      "source": [
        "Finetuning"
      ]
    },
    {
      "cell_type": "code",
      "metadata": {
        "id": "92izd1YheHs0",
        "colab_type": "code",
        "colab": {}
      },
      "source": [
        "# list1=[0.904, 0.4585, 0.30566666666666664, 0.22925, 0.1868, 0.15566666666666668, 0.13342857142857142, 0.11675, 0.10377777777777777, 0.0942]\n",
        "# list2=[0.84, 0.455, 0.30666666666666664, 0.23, 0.184, 0.15333333333333332, 0.13142857142857142, 0.116125, 0.10633333333333334, 0.0957]\n",
        "# list3=[0.886, 0.443, 0.31333333333333335, 0.235, 0.188, 0.15666666666666668, 0.13428571428571429, 0.1175, 0.10444444444444445, 0.094]"
      ],
      "execution_count": 0,
      "outputs": []
    },
    {
      "cell_type": "markdown",
      "metadata": {
        "id": "aWA2I4UTKXS7",
        "colab_type": "text"
      },
      "source": [
        "LwF"
      ]
    },
    {
      "cell_type": "code",
      "metadata": {
        "id": "E1bwhqLCKZQc",
        "colab_type": "code",
        "colab": {}
      },
      "source": [
        "list1=[0.883, 0.637, 0.549, 0.479, 0.4284, 0.3765, 0.3515714285714286, 0.339125, 0.25633333333333336, 0.1901]\n",
        "list2=[0.859, 0.66, 0.5463333333333333, 0.476, 0.4188, 0.399, 0.3271428571428571, 0.291, 0.27355555555555555, 0.2012]\n",
        "list3=[0.813, 0.6165, 0.564, 0.504, 0.461, 0.43983333333333335, 0.39057142857142857, 0.365625, 0.3403333333333333, 0.2905]"
      ],
      "execution_count": 0,
      "outputs": []
    },
    {
      "cell_type": "markdown",
      "metadata": {
        "id": "shyOqIf1uKDj",
        "colab_type": "text"
      },
      "source": [
        "*Calculations*"
      ]
    },
    {
      "cell_type": "code",
      "metadata": {
        "id": "oj2KggQXuQ2Q",
        "colab_type": "code",
        "colab": {}
      },
      "source": [
        "means, stds = calc(list1, list2, list3)"
      ],
      "execution_count": 0,
      "outputs": []
    },
    {
      "cell_type": "markdown",
      "metadata": {
        "id": "LVq-YqMouM1m",
        "colab_type": "text"
      },
      "source": [
        "*Plot*"
      ]
    },
    {
      "cell_type": "code",
      "metadata": {
        "id": "ofDpeR5-uPSl",
        "colab_type": "code",
        "colab": {}
      },
      "source": [
        "accuracy_plot(means, stds)"
      ],
      "execution_count": 0,
      "outputs": []
    }
  ]
}