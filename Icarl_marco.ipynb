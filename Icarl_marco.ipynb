{
  "nbformat": 4,
  "nbformat_minor": 0,
  "metadata": {
    "kernelspec": {
      "language": "python",
      "display_name": "Python 3",
      "name": "python3"
    },
    "language_info": {
      "pygments_lexer": "ipython3",
      "nbconvert_exporter": "python",
      "version": "3.6.4",
      "file_extension": ".py",
      "codemirror_mode": {
        "name": "ipython",
        "version": 3
      },
      "name": "python",
      "mimetype": "text/x-python"
    },
    "colab": {
      "name": "Copy_of_main_icarl_marco.ipynb",
      "provenance": [],
      "include_colab_link": true
    }
  },
  "cells": [
    {
      "cell_type": "markdown",
      "metadata": {
        "id": "view-in-github",
        "colab_type": "text"
      },
      "source": [
        "<a href=\"https://colab.research.google.com/github/Nicordaro/Project_MLDL/blob/master/Icarl_marco.ipynb\" target=\"_parent\"><img src=\"https://colab.research.google.com/assets/colab-badge.svg\" alt=\"Open In Colab\"/></a>"
      ]
    },
    {
      "cell_type": "markdown",
      "metadata": {
        "id": "3WxaZRunY184",
        "colab_type": "text"
      },
      "source": [
        "*Cloning files needed*"
      ]
    },
    {
      "cell_type": "code",
      "metadata": {
        "trusted": true,
        "id": "fP5vAuX9dm75",
        "colab_type": "code",
        "colab": {}
      },
      "source": [
        "import os\n",
        "# Clone github repository with data\n",
        "# if os.path.isdir('./Project_MLDL'):\n",
        "!rm -rf Project_MLDL\n",
        "if not os.path.isdir('./CIFAR100_tError'):\n",
        "  !git clone https://github.com/Nicordaro/Project_MLDL\n"
      ],
      "execution_count": 0,
      "outputs": []
    },
    {
      "cell_type": "markdown",
      "metadata": {
        "id": "sqazEUOdZpEb",
        "colab_type": "text"
      },
      "source": [
        "**Imports**\n",
        "\n",
        "---"
      ]
    },
    {
      "cell_type": "code",
      "metadata": {
        "_uuid": "d629ff2d2480ee46fbb7e2d37f6b5fab8052498a",
        "_cell_guid": "79c7e3d0-c299-4dcb-8224-4455121ee9b0",
        "trusted": true,
        "id": "fNgxhFrmdm7d",
        "colab_type": "code",
        "colab": {}
      },
      "source": [
        "import logging\n",
        "import matplotlib.pyplot as plt\n",
        "import numpy as np\n",
        "import random\n",
        "import torch\n",
        "import torchvision\n",
        "import torch.nn as nn\n",
        "import torch.optim as optim\n",
        "import time\n",
        "import gc\n",
        "\n",
        "\n",
        "\n",
        "from PIL import Image\n",
        "from Project_MLDL.CIFAR100_tError import CIFAR100_tError\n",
        "from Project_MLDL.model_finetuning import ResNet18\n",
        "from torch.utils.data import Subset, DataLoader\n",
        "from torch.backends import cudnn\n",
        "from torchvision import transforms\n",
        "from torchvision.models import resnet18\n",
        "from torchvision.models import resnet34\n",
        "from tqdm import tqdm\n",
        "\n",
        "# Garbage collector\n",
        "gc.enable()"
      ],
      "execution_count": 0,
      "outputs": []
    },
    {
      "cell_type": "markdown",
      "metadata": {
        "id": "3JqYHsh6ZHw1",
        "colab_type": "text"
      },
      "source": [
        "**Arguments**\n",
        "\n",
        "---\n",
        "\n",
        "\n",
        "\n"
      ]
    },
    {
      "cell_type": "code",
      "metadata": {
        "trusted": true,
        "id": "qCqYt307dm7m",
        "colab_type": "code",
        "colab": {}
      },
      "source": [
        "DEVICE = 'cuda' # 'cuda' or 'cpu'\n",
        "\n",
        "# Init at 10 because first train is on 10 classes\n",
        "NUM_CLASSES = 10\n",
        "\n",
        "# Used for the pseudorandom shuffle of the split\n",
        "SEED = 12\n",
        "\n",
        "BATCH_SIZE = 128     # Higher batch sizes allows for larger learning rates. An empirical heuristic suggests that, when changing\n",
        "                     # the batch size, learning rate should change by the same factor to have comparable results\n",
        "\n",
        "LR = 2         # The initial Learning Rate\n",
        "MOMENTUM = 0.9       # Hyperparameter for SGD, keep this at 0.9 when using SGD\n",
        "WEIGHT_DECAY = 1e-5  # Regularization, you can keep this at the default\n",
        "\n",
        "NUM_EPOCHS = 70     # Total number of training epochs (iterations over dataset)\n",
        "MILESTONES = [48, 62]  # How many epochs before decreasing learning rate (if using a step-down policy)\n",
        "GAMMA = 0.2          # Multiplicative factor for learning rate step-down\n",
        "\n",
        "LOG_FREQUENCY = 50"
      ],
      "execution_count": 0,
      "outputs": []
    },
    {
      "cell_type": "markdown",
      "metadata": {
        "id": "u6t7fLFuZBgF",
        "colab_type": "text"
      },
      "source": [
        "**Transformations definition**\n",
        "\n",
        "---\n",
        "\n"
      ]
    },
    {
      "cell_type": "code",
      "metadata": {
        "trusted": true,
        "id": "pFm2Gxyedm71",
        "colab_type": "code",
        "colab": {}
      },
      "source": [
        "# Define transforms for training phase\n",
        "train_transform = transforms.Compose([transforms.RandomHorizontalFlip(), # Randomly flip the image with probability of 0.5\n",
        "                                      transforms.Pad(4), # Add padding\n",
        "                                      transforms.RandomCrop(32),# Crops a random squares of the image\n",
        "                                      transforms.ToTensor(), # Turn PIL Image to torch.Tensor\n",
        "                                      transforms.Normalize((0.485, 0.456, 0.406), (0.229, 0.224, 0.225))  # https://gist.github.com/weiaicunzai/e623931921efefd4c331622c344d8151\n",
        "])\n",
        "# Define transforms for the evaluation phase\n",
        "eval_transform = transforms.Compose([\n",
        "                                      transforms.ToTensor(),\n",
        "                                      transforms.Normalize((0.485, 0.456, 0.406), (0.229, 0.224, 0.225))                                 \n",
        "])"
      ],
      "execution_count": 0,
      "outputs": []
    },
    {
      "cell_type": "markdown",
      "metadata": {
        "id": "GW30kNv9jlEL",
        "colab_type": "text"
      },
      "source": [
        "*New label function*"
      ]
    },
    {
      "cell_type": "code",
      "metadata": {
        "trusted": true,
        "id": "fXLgSBpedm8C",
        "colab_type": "code",
        "colab": {}
      },
      "source": [
        "DATA_DIR = './CIFAR100'\n",
        "\n",
        "lbls = [i for i in range(0,100)]  #Array of classes integer-encoded (?)\n",
        "random.seed(SEED)\n",
        "random.shuffle(lbls)\n",
        "\n",
        "def make_data_labels(lbls):       #After shuffle, take first 10 classes, and remove the first 10 from the list passed as argument\n",
        "    new_labels=[]\n",
        "    for el in lbls[:10]:\n",
        "        new_labels.append(el)\n",
        "    lbls = lbls[10:]\n",
        "\n",
        "    return lbls, new_labels"
      ],
      "execution_count": 0,
      "outputs": []
    },
    {
      "cell_type": "code",
      "metadata": {
        "id": "FmirquleWTnE",
        "trusted": true,
        "colab_type": "code",
        "colab": {}
      },
      "source": [
        "import torch\n",
        "import torch.nn as nn\n",
        "import torch.optim as optim\n",
        "from torch.utils.data import DataLoader\n",
        "import copy\n",
        "\n",
        "class iCaRL(nn.Module):\n",
        "  def __init__(self):\n",
        "    super(iCaRL, self).__init__()\n",
        "    self.net = ResNet18()\n",
        "    self.net.linear = nn.Linear(512, 100)\n",
        "    \n",
        "    self.fe = ResNet18()\n",
        "    self.fe.linear = nn.Sequential()\n",
        "    \n",
        "    self.cls_loss = nn.BCEWithLogitsLoss()\n",
        "    self.dist_loss = nn.BCELoss()\n",
        "\n",
        "    self.exemplar_sets=[]\n",
        "    self.exemplars_means=[]\n",
        "\n",
        "  def classify(self, x):\n",
        "    \n",
        "    feature_extractor = self.fe.to(DEVICE)\n",
        "    feature_extractor.train(False)\n",
        "   \n",
        "    torch.no_grad()\n",
        "    torch.cuda.empty_cache()\n",
        "    gc.collect()\n",
        "    \n",
        "    #update array of exemplar means\n",
        "    size = x.size(0)\n",
        "    means = torch.cat(self.exemplar_means,dim=0) # (n_classes, feature_size)\n",
        "    means = torch.stack([means]*size)\n",
        "    means = means.transpose(1, 2) \n",
        "    \n",
        "    feature_x = feature_extractor(x)  #(128,-)\n",
        "    \n",
        "    features_normalized = []\n",
        "    # normalize \n",
        "    for x in feature_x:\n",
        "        x.data = x.data / x.data.norm()\n",
        "        features_normalized.append(x)\n",
        "        \n",
        "    feature_x = torch.stack(features_normalized,dim=0)\n",
        "    #feature_x.data = feature_x.data/ feature_x.data.norm() #\n",
        "\n",
        "    feature_x = feature_x.unsqueeze(2) # (batch_size, feature_size, 1)\n",
        "    feature_x = feature_x.expand_as(means) # (batch_size, feature_size, n_classes)\n",
        "\n",
        "    # find the nearest prototype\n",
        "    means = means.to(DEVICE)\n",
        "    labels = torch.argmin((feature_x - means).pow(2).sum(1),dim=1)\n",
        "    \n",
        "    #clean memory\n",
        "    del feature_x\n",
        "    del means\n",
        "    del x\n",
        "    del feature_extractor\n",
        "    torch.cuda.empty_cache()\n",
        "    gc.collect()\n",
        "    \n",
        "    return labels\n",
        "\n",
        "  def compute_means(self):\n",
        "        \n",
        "    torch.cuda.empty_cache()\n",
        "    exemplar_means = []\n",
        "    feature_extractor = self.fe.to(DEVICE)\n",
        "    feature_extractor.train(False)\n",
        "    # Compute exemplar means\n",
        "    for Py in self.exemplar_sets:\n",
        "      features=[]\n",
        "      for p in Py:\n",
        "        feature = feature_extractor(p.to(DEVICE)).to('cpu')\n",
        "        features.append(feature)\n",
        "        #Clean Memory\n",
        "        del feature\n",
        "        del p\n",
        "        torch.cuda.empty_cache()\n",
        "        gc.collect()\n",
        "      features = torch.stack(features)\n",
        "      mu_y = features.mean(0) \n",
        "      mu_y.data = mu_y.data / mu_y.data.norm()\n",
        "      exemplar_means.append(mu_y) \n",
        "    self.exemplar_means = exemplar_means\n",
        "    #Clean Memory\n",
        "    del features\n",
        "    torch.cuda.empty_cache()\n",
        "    del feature_extractor\n",
        "\n",
        "  def reduce_exemplar_sets(self,m):\n",
        "    for y, P_y in enumerate(self.exemplar_sets):\n",
        "      m = int(m)\n",
        "      self.exemplar_sets[y] = P_y[:m]\n",
        "  \n",
        "  def construct_exemplar_set(self,X,m):\n",
        "    \n",
        "    torch.no_grad()\n",
        "    torch.cuda.empty_cache()\n",
        "    gc.collect()\n",
        "    # X dataset containing all elements of class y\n",
        "    feature_extractor = self.fe.to(DEVICE)\n",
        "    feature_extractor.train(False)\n",
        "    loader = DataLoader(X,128,True,drop_last=False,num_workers = 4) # create dataloader\n",
        "    features = []\n",
        "    \n",
        "    for images,labels in loader:\n",
        "      images = images.to(DEVICE)\n",
        "      labels = labels.to(DEVICE)\n",
        "      feature = feature_extractor(images)\n",
        "      features.append(feature)\n",
        "      del images\n",
        "      del labels\n",
        "      del feature\n",
        "        \n",
        "    features_stacked = torch.cat(features)# (size,100)\n",
        "    mean = features_stacked.mean(0) #current class mean (1,100)\n",
        "    mean = torch.stack([mean]*features_stacked.size()[0]) # (size,2048)\n",
        "    torch.cuda.empty_cache()\n",
        "    P = [] # exemplar set\n",
        "    extracted_features = []\n",
        "\n",
        "    summa = torch.zeros(1,features_stacked.size()[1]).to(DEVICE) \n",
        "    \n",
        "    for k in range(1,int(m+1)):\n",
        "      s = torch.cat([summa]*features_stacked.size()[0])\n",
        "      index = torch.argmin((mean-(1/k)*(features_stacked+s)).pow(2).sum(1),dim=0)\n",
        "      pk = X[index.item()][0].unsqueeze(dim=0)\n",
        "      P.append(pk)\n",
        "      summa = summa + feature_extractor(pk.to(DEVICE))\n",
        "      del pk \n",
        "   \n",
        "    #Clear Memory\n",
        "    del summa\n",
        "    del features\n",
        "    del features_stacked\n",
        "    del mean\n",
        "    del s\n",
        "    del feature_extractor\n",
        "    del loader\n",
        "    self.exemplar_sets.append(P)\n",
        "    torch.no_grad()\n",
        "    torch.cuda.empty_cache()\n",
        "    gc.collect()\n",
        "\n",
        "  def update_representation(self,X):\n",
        "    torch.no_grad()\n",
        "    torch.cuda.empty_cache()\n",
        "    gc.collect()\n",
        "    # parameters = self.parameters()\n",
        "    training = [] \n",
        "    # add exemplar set to training set\n",
        "\n",
        "    # creation of ordered training e.g. classes 0-9, 10-19\n",
        "    index = 0\n",
        "    for i in range(0, len(self.exemplar_sets)):\n",
        "      for tensor_img in self.exemplar_sets[i]:\n",
        "        training.append((tensor_img.squeeze(), i,index))\n",
        "        index += 1\n",
        "    for img_class in X:\n",
        "      for image, label in img_class:\n",
        "        training.append((image,label,index))\n",
        "        index += 1\n",
        "    \n",
        "    # create total_loader from the new training set\n",
        "    net = self.net.to(DEVICE)\n",
        "    train_dataloader = DataLoader(training, batch_size=BATCH_SIZE, shuffle=True, num_workers=4, drop_last=False)\n",
        "    q = torch.zeros(len(training),100).to(DEVICE)\n",
        "    for images,labels,indices in train_dataloader:\n",
        "      images = images.to(DEVICE)\n",
        "      labels = labels.to(DEVICE)\n",
        "      indices = indices.to(DEVICE)\n",
        "      g = torch.sigmoid(net(images))\n",
        "      q[indices] = g.data\n",
        "      del images\n",
        "      del labels\n",
        "      del indices\n",
        "      torch.cuda.empty_cache()\n",
        "\n",
        "    # training su total_loader\n",
        "\n",
        "    # Optimizer\n",
        "    optimizer = optim.SGD(net.parameters(), lr=2, weight_decay=1e-5, momentum=0.9)\n",
        "    # Scheduler\n",
        "    scheduler = optim.lr_scheduler.MultiStepLR(optimizer, milestones=MILESTONES, gamma=GAMMA, last_epoch=-1)\n",
        "\n",
        "    cudnn.benchmark # Calling this optimizes runtime\n",
        "\n",
        "    current_step = 0\n",
        "    # Start iterating over the epochs\n",
        "    for epoch in range(70):\n",
        "      print('Starting epoch {}/{}, LR = {}'.format(epoch+1, NUM_EPOCHS, scheduler.get_last_lr()))\n",
        "    \n",
        "        # Iterate over the dataset\n",
        "      for images, labels,indices in train_dataloader:\n",
        "          # Bring data over the device of choice\n",
        "          images = images.to(DEVICE)\n",
        "          labels = labels.to(DEVICE)\n",
        "          indices = indices.to(DEVICE)\n",
        "          net.train()\n",
        "          # PyTorch, by default, accumulates gradients after each backward pass\n",
        "          # We need to manually set the gradients to zero before starting a new iteration\n",
        "          optimizer.zero_grad() # Zero-ing the gradients\n",
        "\n",
        "          # Forward pass to the network\n",
        "          outputs = net(images)\n",
        "          del images\n",
        "          torch.cuda.empty_cache()\n",
        "    \n",
        "          # One hot encoding labels for binary cross-entropy loss\n",
        "          labels_onehot = nn.functional.one_hot(labels,100)\n",
        "          labels_onehot = labels_onehot.type_as(outputs)\n",
        "          criterion = self.cls_loss\n",
        "          loss = criterion(outputs, labels_onehot)\n",
        "          del labels\n",
        "          del labels_onehot\n",
        "          torch.cuda.empty_cache()\n",
        "          \n",
        "          #distillation = 0\n",
        "          g = torch.sigmoid(outputs)\n",
        "          qi = q[indices]\n",
        "          del(indices)\n",
        "          if len(self.exemplar_sets)>1:\n",
        "              distillation = self.dist_loss(g[:,:len(self.exemplar_sets)],qi[:,:len(self.exemplar_sets)])\n",
        "          \n",
        "              loss += distillation\n",
        "    \n",
        "          if current_step % LOG_FREQUENCY == 0:\n",
        "              print('Step {}, Loss {}'.format(current_step, loss.item()))\n",
        "        \n",
        "          del g\n",
        "          del qi\n",
        "\n",
        "      # Compute gradients for each layer and update weights\n",
        "          loss.backward()  # backward pass: computes gradients\n",
        "          optimizer.step() # update weights based on accumulated gradients\n",
        "          current_step += 1\n",
        "\n",
        "        # Step the scheduler\n",
        "      scheduler.step()\n",
        "    \n",
        "    self.net = copy.deepcopy(net)\n",
        "    self.fe = copy.deepcopy(net)\n",
        "    self.fe.linear = nn.Sequential()\n",
        "    torch.cuda.empty_cache()\n",
        "    gc.collect()\n",
        "    del q\n"
      ],
      "execution_count": 0,
      "outputs": []
    },
    {
      "cell_type": "code",
      "metadata": {
        "id": "rfFKyVwGi8pr",
        "trusted": true,
        "colab_type": "code",
        "colab": {}
      },
      "source": [
        "net = iCaRL()\n",
        "K = 100\n",
        "t = 0\n",
        "test_dataset = CIFAR100_tError(DATA_DIR, train=False, transform=eval_transform, download=True)\n",
        "for i in range(0,10): # batches of 10\n",
        "  print(f\"processing batch {i+1}\")\n",
        "  #Create Datasets\n",
        "  train_datasets = []\n",
        "  # take 10 new classes\n",
        "  lbls, new_labels = make_data_labels(lbls)\n",
        "  for label in new_labels:\n",
        "    train_dataset = CIFAR100_tError(DATA_DIR, train=True, transform=train_transform, download=True)\n",
        "    train_dataset.increment([label],[t])\n",
        "    test_dataset.increment([label],[t])\n",
        "    train_datasets.append(train_dataset) # List of training examples in per class sets\n",
        "    t += 1\n",
        "  net.update_representation(train_datasets)\n",
        "  m = K/t #numbers of exemplars per class\n",
        "  net.reduce_exemplar_sets(m)\n",
        "  for X in train_datasets:\n",
        "    net.construct_exemplar_set(X,m) #new exemplar sets\n",
        "    torch.no_grad()\n",
        "    torch.cuda.empty_cache()\n",
        "    gc.collect()\n",
        "  # Test on Test set\n",
        "  running_corrects = 0\n",
        "  net.compute_means()\n",
        "  test_dataloader = DataLoader(test_dataset,batch_size=BATCH_SIZE,shuffle=True,num_workers=4)\n",
        "  for images,labels in test_dataloader:\n",
        "    images = images.to(DEVICE)\n",
        "    labels = labels.to(DEVICE)\n",
        "    print(\"classifing...\")\n",
        "    preds = net.classify(images)\n",
        "    running_corrects += torch.sum(preds == labels.data).data.item()\n",
        "    accuracy = running_corrects / float(len(test_dataset))\n",
        "    del images\n",
        "    del labels\n",
        "    del preds\n",
        "    torch.no_grad()\n",
        "    torch.cuda.empty_cache()\n",
        "    gc.collect()\n",
        "  print(f\"Test Accuracy: {accuracy}\")"
      ],
      "execution_count": 0,
      "outputs": []
    },
    {
      "cell_type": "code",
      "metadata": {
        "trusted": true,
        "id": "2Lfm7qrl1FVe",
        "colab_type": "code",
        "colab": {}
      },
      "source": [
        "rete = net.net.to(DEVICE)\n",
        "running_corrects = 0\n",
        "for images,labels in test_dataloader:\n",
        "    images = images.to(DEVICE)\n",
        "    labels = labels.to(DEVICE)\n",
        "    print(\"classifing...\")\n",
        "    preds = rete(images)\n",
        "    _, preds = torch.max(preds.data, 1)\n",
        "    running_corrects += torch.sum(preds == labels.data).data.item()\n",
        "    accuracy = running_corrects / float(len(test_dataset))\n",
        "print(f\"Test Accuracy: {running_corrects}\")"
      ],
      "execution_count": 0,
      "outputs": []
    },
    {
      "cell_type": "markdown",
      "metadata": {
        "id": "DgehIvac1FVs",
        "colab_type": "text"
      },
      "source": [
        ""
      ]
    },
    {
      "cell_type": "code",
      "metadata": {
        "trusted": true,
        "id": "F70bCH8U1FVv",
        "colab_type": "code",
        "colab": {}
      },
      "source": [
        "image = net.exemplar_sets[19][2].squeeze()\n",
        "import matplotlib.pyplot as plt\n",
        "from PIL import Image\n",
        "trans = transforms.ToPILImage(mode='RGB')\n",
        "plt.imshow(trans(image.squeeze()))\n",
        "plt.show()"
      ],
      "execution_count": 0,
      "outputs": []
    },
    {
      "cell_type": "code",
      "metadata": {
        "trusted": true,
        "id": "sfSxwH2Y1FV8",
        "colab_type": "code",
        "colab": {}
      },
      "source": [
        "torch.no_grad()\n",
        "torch.cuda.empty_cache()\n",
        "gc.collect()"
      ],
      "execution_count": 0,
      "outputs": []
    },
    {
      "cell_type": "markdown",
      "metadata": {
        "id": "Qaeqgqc2Xr1r",
        "colab_type": "text"
      },
      "source": [
        "**Define plot function**\n",
        "\n",
        "---\n",
        "\n"
      ]
    },
    {
      "cell_type": "code",
      "metadata": {
        "id": "rr8d6IXeXrJt",
        "trusted": true,
        "colab_type": "code",
        "colab": {}
      },
      "source": [
        "def accuracy_plot(accuracies):\n",
        "  ### FOR MEAN STD PLOT https://stackoverflow.com/questions/22481854/plot-mean-and-standard-deviation\n",
        "  from scipy import interpolate\n",
        "\n",
        "  tck,u     = interpolate.splprep( [[i*10 for i in range(1,len(accuracies)+1)],accuracies] ,s = 0 )\n",
        "  xnew,ynew = interpolate.splev( np.linspace( 0, 1, 100 ), tck,der = 0)\n",
        "\n",
        "  fig, ax = plt.subplots(figsize=(15,14), facecolor='white')\n",
        "\n",
        "  plt.rc('font', size=20)\n",
        "  plt.plot( [i*10 for i in range(1,len(accuracies)+1)],accuracies,'.' , xnew ,ynew, label = \"accuracy\", c='orange' )\n",
        "  ax.set_ylabel(\"Accuracy\")\n",
        "  ax.set_xlabel(\"Classes\")\n",
        "  ax.minorticks_on()\n",
        "  plt.title(\"Accuracies obtained with finetuning of a ResNet network\")\n",
        "  plt.yticks(np.arange(0, 1.1, .1))\n",
        "  plt.xticks(np.arange(0, 110, 10))\n",
        "  plt.grid(axis='y',which='major', linestyle='-', linewidth='0.5', color='black') \n",
        "  plt.grid(axis='y',which='minor', linestyle=':', linewidth='0.5', color='grey')\n",
        "  for in_i, in_j in zip([i*10 for i in range(1,len(accuracies)+1)], accuracies):  # Plot also the value of the point close to it\n",
        "          ax.annotate(str(round(in_j, 3)), xy=(in_i, in_j))\n",
        "\n",
        "  plt.savefig('test.png', format='png', dpi=300)\n",
        "  plt.show()"
      ],
      "execution_count": 0,
      "outputs": []
    },
    {
      "cell_type": "markdown",
      "metadata": {
        "id": "VphrtfF8XqsN",
        "colab_type": "text"
      },
      "source": [
        "*Print & Plot*"
      ]
    },
    {
      "cell_type": "code",
      "metadata": {
        "trusted": true,
        "id": "6Asycu5ddm8X",
        "colab_type": "code",
        "colab": {}
      },
      "source": [
        "print(test_accuracies)\n",
        "\n",
        "accuracy_plot(test_accuracies)\n"
      ],
      "execution_count": 0,
      "outputs": []
    }
  ]
}