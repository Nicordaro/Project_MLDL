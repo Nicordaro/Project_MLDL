{
  "nbformat": 4,
  "nbformat_minor": 0,
  "metadata": {
    "kernelspec": {
      "language": "python",
      "display_name": "Python 3",
      "name": "python3"
    },
    "language_info": {
      "pygments_lexer": "ipython3",
      "nbconvert_exporter": "python",
      "version": "3.6.4",
      "file_extension": ".py",
      "codemirror_mode": {
        "name": "ipython",
        "version": 3
      },
      "name": "python",
      "mimetype": "text/x-python"
    },
    "colab": {
      "name": "Icarl_marco.ipynb",
      "provenance": [],
      "include_colab_link": true
    },
    "accelerator": "GPU"
  },
  "cells": [
    {
      "cell_type": "markdown",
      "metadata": {
        "id": "view-in-github",
        "colab_type": "text"
      },
      "source": [
        "<a href=\"https://colab.research.google.com/github/Nicordaro/Project_MLDL/blob/master/Icarl_marco.ipynb\" target=\"_parent\"><img src=\"https://colab.research.google.com/assets/colab-badge.svg\" alt=\"Open In Colab\"/></a>"
      ]
    },
    {
      "cell_type": "markdown",
      "metadata": {
        "id": "3WxaZRunY184",
        "colab_type": "text"
      },
      "source": [
        "*Cloning files needed*"
      ]
    },
    {
      "cell_type": "code",
      "metadata": {
        "trusted": true,
        "id": "fP5vAuX9dm75",
        "outputId": "f966190f-3657-410f-def5-c0bd9bacad29",
        "colab_type": "code",
        "colab": {
          "base_uri": "https://localhost:8080/",
          "height": 147
        }
      },
      "source": [
        "import os\n",
        "# Clone github repository with data\n",
        "# if os.path.isdir('./Project_MLDL'):\n",
        "!rm -rf Project_MLDL\n",
        "if not os.path.isdir('./CIFAR100_tError'):\n",
        "  !git clone https://github.com/Nicordaro/Project_MLDL\n"
      ],
      "execution_count": 4,
      "outputs": [
        {
          "output_type": "stream",
          "text": [
            "Cloning into 'Project_MLDL'...\n",
            "remote: Enumerating objects: 100, done.\u001b[K\n",
            "remote: Counting objects:   1% (1/100)\u001b[K\rremote: Counting objects:   2% (2/100)\u001b[K\rremote: Counting objects:   3% (3/100)\u001b[K\rremote: Counting objects:   4% (4/100)\u001b[K\rremote: Counting objects:   5% (5/100)\u001b[K\rremote: Counting objects:   6% (6/100)\u001b[K\rremote: Counting objects:   7% (7/100)\u001b[K\rremote: Counting objects:   8% (8/100)\u001b[K\rremote: Counting objects:   9% (9/100)\u001b[K\rremote: Counting objects:  10% (10/100)\u001b[K\rremote: Counting objects:  11% (11/100)\u001b[K\rremote: Counting objects:  12% (12/100)\u001b[K\rremote: Counting objects:  13% (13/100)\u001b[K\rremote: Counting objects:  14% (14/100)\u001b[K\rremote: Counting objects:  15% (15/100)\u001b[K\rremote: Counting objects:  16% (16/100)\u001b[K\rremote: Counting objects:  17% (17/100)\u001b[K\rremote: Counting objects:  18% (18/100)\u001b[K\rremote: Counting objects:  19% (19/100)\u001b[K\rremote: Counting objects:  20% (20/100)\u001b[K\rremote: Counting objects:  21% (21/100)\u001b[K\rremote: Counting objects:  22% (22/100)\u001b[K\rremote: Counting objects:  23% (23/100)\u001b[K\rremote: Counting objects:  24% (24/100)\u001b[K\rremote: Counting objects:  25% (25/100)\u001b[K\rremote: Counting objects:  26% (26/100)\u001b[K\rremote: Counting objects:  27% (27/100)\u001b[K\rremote: Counting objects:  28% (28/100)\u001b[K\rremote: Counting objects:  29% (29/100)\u001b[K\rremote: Counting objects:  30% (30/100)\u001b[K\rremote: Counting objects:  31% (31/100)\u001b[K\rremote: Counting objects:  32% (32/100)\u001b[K\rremote: Counting objects:  33% (33/100)\u001b[K\rremote: Counting objects:  34% (34/100)\u001b[K\rremote: Counting objects:  35% (35/100)\u001b[K\rremote: Counting objects:  36% (36/100)\u001b[K\rremote: Counting objects:  37% (37/100)\u001b[K\rremote: Counting objects:  38% (38/100)\u001b[K\rremote: Counting objects:  39% (39/100)\u001b[K\rremote: Counting objects:  40% (40/100)\u001b[K\rremote: Counting objects:  41% (41/100)\u001b[K\rremote: Counting objects:  42% (42/100)\u001b[K\rremote: Counting objects:  43% (43/100)\u001b[K\rremote: Counting objects:  44% (44/100)\u001b[K\rremote: Counting objects:  45% (45/100)\u001b[K\rremote: Counting objects:  46% (46/100)\u001b[K\rremote: Counting objects:  47% (47/100)\u001b[K\rremote: Counting objects:  48% (48/100)\u001b[K\rremote: Counting objects:  49% (49/100)\u001b[K\rremote: Counting objects:  50% (50/100)\u001b[K\rremote: Counting objects:  51% (51/100)\u001b[K\rremote: Counting objects:  52% (52/100)\u001b[K\rremote: Counting objects:  53% (53/100)\u001b[K\rremote: Counting objects:  54% (54/100)\u001b[K\rremote: Counting objects:  55% (55/100)\u001b[K\rremote: Counting objects:  56% (56/100)\u001b[K\rremote: Counting objects:  57% (57/100)\u001b[K\rremote: Counting objects:  58% (58/100)\u001b[K\rremote: Counting objects:  59% (59/100)\u001b[K\rremote: Counting objects:  60% (60/100)\u001b[K\rremote: Counting objects:  61% (61/100)\u001b[K\rremote: Counting objects:  62% (62/100)\u001b[K\rremote: Counting objects:  63% (63/100)\u001b[K\rremote: Counting objects:  64% (64/100)\u001b[K\rremote: Counting objects:  65% (65/100)\u001b[K\rremote: Counting objects:  66% (66/100)\u001b[K\rremote: Counting objects:  67% (67/100)\u001b[K\rremote: Counting objects:  68% (68/100)\u001b[K\rremote: Counting objects:  69% (69/100)\u001b[K\rremote: Counting objects:  70% (70/100)\u001b[K\rremote: Counting objects:  71% (71/100)\u001b[K\rremote: Counting objects:  72% (72/100)\u001b[K\rremote: Counting objects:  73% (73/100)\u001b[K\rremote: Counting objects:  74% (74/100)\u001b[K\rremote: Counting objects:  75% (75/100)\u001b[K\rremote: Counting objects:  76% (76/100)\u001b[K\rremote: Counting objects:  77% (77/100)\u001b[K\rremote: Counting objects:  78% (78/100)\u001b[K\rremote: Counting objects:  79% (79/100)\u001b[K\rremote: Counting objects:  80% (80/100)\u001b[K\rremote: Counting objects:  81% (81/100)\u001b[K\rremote: Counting objects:  82% (82/100)\u001b[K\rremote: Counting objects:  83% (83/100)\u001b[K\rremote: Counting objects:  84% (84/100)\u001b[K\rremote: Counting objects:  85% (85/100)\u001b[K\rremote: Counting objects:  86% (86/100)\u001b[K\rremote: Counting objects:  87% (87/100)\u001b[K\rremote: Counting objects:  88% (88/100)\u001b[K\rremote: Counting objects:  89% (89/100)\u001b[K\rremote: Counting objects:  90% (90/100)\u001b[K\rremote: Counting objects:  91% (91/100)\u001b[K\rremote: Counting objects:  92% (92/100)\u001b[K\rremote: Counting objects:  93% (93/100)\u001b[K\rremote: Counting objects:  94% (94/100)\u001b[K\rremote: Counting objects:  95% (95/100)\u001b[K\rremote: Counting objects:  96% (96/100)\u001b[K\rremote: Counting objects:  97% (97/100)\u001b[K\rremote: Counting objects:  98% (98/100)\u001b[K\rremote: Counting objects:  99% (99/100)\u001b[K\rremote: Counting objects: 100% (100/100)\u001b[K\rremote: Counting objects: 100% (100/100), done.\u001b[K\n",
            "remote: Compressing objects: 100% (100/100), done.\u001b[K\n",
            "remote: Total 320 (delta 58), reused 0 (delta 0), pack-reused 220\u001b[K\n",
            "Receiving objects: 100% (320/320), 1.00 MiB | 2.40 MiB/s, done.\n",
            "Resolving deltas: 100% (165/165), done.\n"
          ],
          "name": "stdout"
        }
      ]
    },
    {
      "cell_type": "markdown",
      "metadata": {
        "id": "sqazEUOdZpEb",
        "colab_type": "text"
      },
      "source": [
        "**Imports**\n",
        "\n",
        "---"
      ]
    },
    {
      "cell_type": "code",
      "metadata": {
        "_uuid": "d629ff2d2480ee46fbb7e2d37f6b5fab8052498a",
        "_cell_guid": "79c7e3d0-c299-4dcb-8224-4455121ee9b0",
        "trusted": true,
        "id": "fNgxhFrmdm7d",
        "colab_type": "code",
        "colab": {}
      },
      "source": [
        "import logging\n",
        "import matplotlib.pyplot as plt\n",
        "import numpy as np\n",
        "import random\n",
        "import torch\n",
        "import torchvision\n",
        "import torch.nn as nn\n",
        "import torch.optim as optim\n",
        "import time\n",
        "import gc\n",
        "\n",
        "\n",
        "\n",
        "from PIL import Image\n",
        "from Project_MLDL.CIFAR100_tError import CIFAR100_tError\n",
        "from Project_MLDL.model_finetuning import ResNet18\n",
        "from torch.utils.data import Subset, DataLoader\n",
        "from torch.backends import cudnn\n",
        "from torchvision import transforms\n",
        "from torchvision.models import resnet18\n",
        "from torchvision.models import resnet34\n",
        "from tqdm import tqdm\n",
        "\n",
        "# Garbage collector\n",
        "gc.enable()"
      ],
      "execution_count": 0,
      "outputs": []
    },
    {
      "cell_type": "markdown",
      "metadata": {
        "id": "3JqYHsh6ZHw1",
        "colab_type": "text"
      },
      "source": [
        "**Arguments**\n",
        "\n",
        "---\n",
        "\n",
        "\n",
        "\n"
      ]
    },
    {
      "cell_type": "code",
      "metadata": {
        "trusted": true,
        "id": "qCqYt307dm7m",
        "colab_type": "code",
        "colab": {}
      },
      "source": [
        "DEVICE = 'cuda' # 'cuda' or 'cpu'\n",
        "\n",
        "# Init at 10 because first train is on 10 classes\n",
        "NUM_CLASSES = 10\n",
        "\n",
        "# Used for the pseudorandom shuffle of the split\n",
        "SEED = 12\n",
        "\n",
        "BATCH_SIZE = 128     # Higher batch sizes allows for larger learning rates. An empirical heuristic suggests that, when changing\n",
        "                     # the batch size, learning rate should change by the same factor to have comparable results\n",
        "\n",
        "LR = 2         # The initial Learning Rate\n",
        "MOMENTUM = 0.9       # Hyperparameter for SGD, keep this at 0.9 when using SGD\n",
        "WEIGHT_DECAY = 1e-5  # Regularization, you can keep this at the default\n",
        "\n",
        "NUM_EPOCHS = 70     # Total number of training epochs (iterations over dataset)\n",
        "MILESTONES = [48, 62]  # How many epochs before decreasing learning rate (if using a step-down policy)\n",
        "GAMMA = 0.2          # Multiplicative factor for learning rate step-down\n",
        "\n",
        "LOG_FREQUENCY = 50"
      ],
      "execution_count": 0,
      "outputs": []
    },
    {
      "cell_type": "markdown",
      "metadata": {
        "id": "u6t7fLFuZBgF",
        "colab_type": "text"
      },
      "source": [
        "**Transformations definition**\n",
        "\n",
        "---\n",
        "\n"
      ]
    },
    {
      "cell_type": "code",
      "metadata": {
        "trusted": true,
        "id": "pFm2Gxyedm71",
        "colab_type": "code",
        "colab": {}
      },
      "source": [
        "# Define transforms for training phase\n",
        "train_transform = transforms.Compose([transforms.RandomHorizontalFlip(), # Randomly flip the image with probability of 0.5\n",
        "                                      transforms.Pad(4), # Add padding\n",
        "                                      transforms.RandomCrop(32),# Crops a random squares of the image\n",
        "                                      transforms.ToTensor(), # Turn PIL Image to torch.Tensor\n",
        "                                      transforms.Normalize((0.485, 0.456, 0.406), (0.229, 0.224, 0.225))  # https://gist.github.com/weiaicunzai/e623931921efefd4c331622c344d8151\n",
        "])\n",
        "# Define transforms for the evaluation phase\n",
        "eval_transform = transforms.Compose([\n",
        "                                      transforms.ToTensor(),\n",
        "                                      transforms.Normalize((0.485, 0.456, 0.406), (0.229, 0.224, 0.225))                                 \n",
        "])"
      ],
      "execution_count": 0,
      "outputs": []
    },
    {
      "cell_type": "markdown",
      "metadata": {
        "id": "GW30kNv9jlEL",
        "colab_type": "text"
      },
      "source": [
        "*New label function*"
      ]
    },
    {
      "cell_type": "code",
      "metadata": {
        "trusted": true,
        "id": "fXLgSBpedm8C",
        "colab_type": "code",
        "colab": {}
      },
      "source": [
        "DATA_DIR = './CIFAR100'\n",
        "\n",
        "lbls = [i for i in range(0,100)]  #Array of classes integer-encoded (?)\n",
        "random.seed(SEED)\n",
        "random.shuffle(lbls)\n",
        "\n",
        "def make_data_labels(lbls):       #After shuffle, take first 10 classes, and remove the first 10 from the list passed as argument\n",
        "    new_labels=[]\n",
        "    for el in lbls[:10]:\n",
        "        new_labels.append(el)\n",
        "    lbls = lbls[10:]\n",
        "\n",
        "    return lbls, new_labels"
      ],
      "execution_count": 0,
      "outputs": []
    },
    {
      "cell_type": "code",
      "metadata": {
        "trusted": true,
        "id": "8rsulwaFi8_w",
        "colab_type": "code",
        "colab": {}
      },
      "source": [
        "from torch.utils.data import Dataset\n",
        "\"\"\"\n",
        "Take 2 datasets with different properties and combine them\n",
        "\"\"\"\n",
        "class joint_dataset(Dataset):\n",
        "    \n",
        "    def __init__(self,d1,d2):\n",
        "        self.l1 = len(d1)\n",
        "        self.l2 = len(d2)\n",
        "        self.d1 = d1\n",
        "        self.d2 = d2\n",
        "    def __getitem__(self,index):\n",
        "        if index>=self.l1:\n",
        "            image,label = self.d2[index-self.l1]\n",
        "            return image,label\n",
        "        else:\n",
        "            image,label = self.d1[index]\n",
        "            return image,label\n",
        "    def __len__(self):\n",
        "        return (self.l1 + self.l2)\n",
        "        "
      ],
      "execution_count": 0,
      "outputs": []
    },
    {
      "cell_type": "code",
      "metadata": {
        "id": "FmirquleWTnE",
        "trusted": true,
        "colab_type": "code",
        "colab": {}
      },
      "source": [
        "import torch\n",
        "import torch.nn as nn\n",
        "import torch.optim as optim\n",
        "from torch.utils.data import DataLoader\n",
        "import copy\n",
        "from torch.autograd import Variable\n",
        "\n",
        "class iCaRL(nn.Module):\n",
        "  def __init__(self):\n",
        "    super(iCaRL, self).__init__()\n",
        "\n",
        "    # CNN with 100 neurons in the last layer \n",
        "    self.net = ResNet18()\n",
        "    self.net.linear = nn.Linear(512, 100)\n",
        "    \n",
        "    # Resnet with last layer empty and used as a feature extractor\n",
        "    self.fe = ResNet18()\n",
        "    self.fe.linear = nn.Sequential()\n",
        "    \n",
        "    # Classification and Distillation losses\n",
        "    self.cls_loss = nn.BCEWithLogitsLoss()\n",
        "    self.dist_loss = nn.BCELoss()\n",
        "    \n",
        "    self.exemplar_sets=[] # List of exemplar sets, one for each class\n",
        "    self.exemplars_means=[] # List of exemplar means, one for each exemplar set\n",
        "\n",
        "  def classify(self, x):\n",
        "\n",
        "    torch.no_grad()\n",
        "    torch.cuda.empty_cache()\n",
        "    \n",
        "    feature_extractor = self.fe.to(DEVICE)\n",
        "    feature_extractor.train(False)\n",
        "\n",
        "    size = x.size(0) # Take batch size\n",
        "\n",
        "    means = torch.cat(self.exemplar_means,dim=0) # Tensor of means (num_classes,num_features)\n",
        "    means = torch.stack([means]*size) # (batch_size,num_classes,num_features)\n",
        "    means = means.transpose(1, 2) # (batch_size,num_features,num_classes)\n",
        "    \n",
        "    feature_x = feature_extractor(x) # (batch_size, num_features)\n",
        "    \n",
        "    # Normalize features\n",
        "    features_normalized = []\n",
        "    for x in feature_x:\n",
        "        x.data = x.data / x.data.norm()\n",
        "        features_normalized.append(x)   \n",
        "    feature_x = torch.stack(features_normalized,dim=0)\n",
        "\n",
        "    feature_x = feature_x.unsqueeze(2) # (batch_size, feature_size, 1)\n",
        "    feature_x = feature_x.expand_as(means) # (batch_size, feature_size, n_classes)\n",
        "\n",
        "    # find the nearest prototype\n",
        "    means = means.to(DEVICE)\n",
        "    labels = torch.argmin((feature_x - means).pow(2).sum(1),dim=1)\n",
        "    \n",
        "    #clean memory\n",
        "    del feature_x\n",
        "    del means\n",
        "    del x\n",
        "    del feature_extractor\n",
        "    torch.no_grad()\n",
        "    torch.cuda.empty_cache()\n",
        "    gc.collect()\n",
        "    \n",
        "    return labels\n",
        "\n",
        "  def compute_means(self):\n",
        "    torch.no_grad()  \n",
        "    torch.cuda.empty_cache()\n",
        "\n",
        "    # Given the exemplar sets, compute the means\n",
        "\n",
        "    exemplar_means = []\n",
        "    feature_extractor = self.fe.to(DEVICE)\n",
        "    feature_extractor.train(False)\n",
        "    \n",
        "    for Py in self.exemplar_sets:\n",
        "      features=[]\n",
        "      for p in Py:\n",
        "        p = p.to(DEVICE)\n",
        "        feature = feature_extractor(p)\n",
        "        features.append(feature)\n",
        "        #Clean Memory\n",
        "        del p\n",
        "        del feature\n",
        "        torch.no_grad()\n",
        "        torch.cuda.empty_cache()\n",
        "\n",
        "      features = torch.stack(features) # (num_exemplars,num_features)\n",
        "      mu_y = features.mean(0) \n",
        "      mu_y.data = mu_y.data / mu_y.data.norm() # Normalize\n",
        "      mu_y = mu_y.to('cpu')\n",
        "      exemplar_means.append(mu_y)\n",
        "      del features\n",
        "      del mu_y\n",
        "      torch.no_grad()  \n",
        "      torch.cuda.empty_cache()\n",
        "\n",
        "    self.exemplar_means = exemplar_means\n",
        "\n",
        "    #Clean Memory\n",
        "    del exemplar_means\n",
        "    del feature_extractor\n",
        "    torch.no_grad()\n",
        "    torch.cuda.empty_cache()\n",
        "\n",
        "  def reduce_exemplar_sets(self,m):\n",
        "    for y, P_y in enumerate(self.exemplar_sets):\n",
        "      m = int(m)\n",
        "      self.exemplar_sets[y] = P_y[:m] # keep only the first m exemplars\n",
        "  \n",
        "  def construct_exemplar_set(self,X,m):\n",
        "    \n",
        "    # X dataset containing all elements of class y\n",
        "\n",
        "    torch.no_grad()\n",
        "    torch.cuda.empty_cache()\n",
        "    gc.collect()\n",
        "\n",
        "    feature_extractor = self.fe.to(DEVICE)\n",
        "    feature_extractor.train(False)\n",
        "    loader = DataLoader(X,batch_size=BATCH_SIZE,shuffle=True,drop_last=False,num_workers = 4) # create dataloader\n",
        "\n",
        "    features = []\n",
        "    \n",
        "    for images,labels in loader:\n",
        "      images = images.to(DEVICE)\n",
        "      labels = labels.to(DEVICE)\n",
        "      feature = feature_extractor(images)\n",
        "      features.append(feature)\n",
        "      del images\n",
        "      del labels\n",
        "      del feature\n",
        "        \n",
        "    features_stacked = torch.cat(features) # (num_elements,num_features)\n",
        "    mean = features_stacked.mean(0) #(num_features)\n",
        "    mean = torch.stack([mean]*features_stacked.size()[0])  # (num_elements,num_features)\n",
        "    torch.cuda.empty_cache()\n",
        "    P = [] # exemplar set\n",
        "    extracted_features = []\n",
        "\n",
        "    summa = torch.zeros(1,features_stacked.size()[1]).to(DEVICE) #(1,num_features)\n",
        "    \n",
        "    for k in range(1,int(m+1)):\n",
        "      s = torch.cat([summa]*features_stacked.size()[0]) #(num_elements,num_features)\n",
        "      index = torch.argmin((mean-(1/k)*(features_stacked+s)).pow(2).sum(1),dim=0)\n",
        "      pk = X[index.item()][0].unsqueeze(dim=0) # take the image, leave the label\n",
        "      P.append(pk)\n",
        "      phipk =  feature_extractor(pk.to(DEVICE))\n",
        "      summa = summa + phipk # update sum of features\n",
        "      del pk \n",
        "   \n",
        "    #Clear Memory\n",
        "    del summa\n",
        "    del features\n",
        "    del features_stacked\n",
        "    del mean\n",
        "    del s\n",
        "    del feature_extractor\n",
        "    del loader\n",
        "    torch.cuda.empty_cache()\n",
        "    self.exemplar_sets.append(P)\n",
        "    \n",
        "\n",
        "  def update_representation(self,X): \n",
        "    \n",
        "    #Take exemplars\n",
        "    exemplars_dataset = []\n",
        "    for i in range(0,len(self.exemplar_sets)):\n",
        "        for exemplar in self.exemplar_sets[i]:\n",
        "            exemplars_dataset.append((exemplar.squeeze(),i)) #append image already transformed with label = index\n",
        "\n",
        "    D = joint_dataset(X,exemplars_dataset) # Build the dataset \n",
        "   \n",
        "    net = self.net\n",
        "\n",
        "    #optimizer\n",
        "    optimizer = optim.SGD(net.parameters(), lr=2, weight_decay=1e-5, momentum=0.9)\n",
        "\n",
        "    # Scheduler\n",
        "    scheduler = optim.lr_scheduler.MultiStepLR(optimizer, milestones=MILESTONES, gamma=GAMMA, last_epoch=-1)\n",
        "\n",
        "    criterion = self.cls_loss\n",
        "    criterion2 = self.dist_loss\n",
        "\n",
        "    cudnn.benchmark # Calling this optimizes runtime\n",
        "\n",
        "    current_step = 0\n",
        "    net = net.to(DEVICE)\n",
        "    \n",
        "    # Create Dataloader \n",
        "    loader = DataLoader(D, batch_size=BATCH_SIZE, shuffle=True, num_workers=4, drop_last=True)\n",
        "    \n",
        "    if len(self.exemplar_sets)>1:\n",
        "        old = copy.deepcopy(net) #copy network before training\n",
        "    \n",
        "    #Training\n",
        "    for epoch in range(3):\n",
        "      print('Starting epoch {}/{}, LR = {}'.format(epoch+1, NUM_EPOCHS, scheduler.get_last_lr()))\n",
        "\n",
        "        # Iterate over the dataset\n",
        "      for images, labels in loader:\n",
        "          # Bring data over the device of choice\n",
        "          images = images.to(DEVICE)\n",
        "          labels = labels.to(DEVICE)\n",
        "          net.train()\n",
        "        \n",
        "          optimizer.zero_grad() # Zero-ing the gradients\n",
        "\n",
        "          # Forward pass to the network\n",
        "          outputs = net(images)\n",
        "\n",
        "          # One hot encoding labels for binary cross-entropy loss\n",
        "          labels_onehot = nn.functional.one_hot(labels,100).type_as(outputs)\n",
        "\n",
        "          # Compute Loss \n",
        "          if len(self.exemplar_sets)==0:\n",
        "            loss = criterion(outputs, labels_onehot)\n",
        "          else:\n",
        "            labels_onehot = labels_onehot.type_as(outputs)[:,len(self.exemplar_sets):]\n",
        "            out_old = Variable(torch.sigmoid(old(images))[:,:len(self.exemplar_sets)],requires_grad = False)\n",
        "            # target = [out_old,labels_onehot]\n",
        "            target = torch.cat((out_old,labels_onehot),dim=1)\n",
        "            loss = criterion(outputs,target)\n",
        "\n",
        "          # labels_onehot = labels_onehot.type_as(outputs)[:,len(self.exemplar_sets):]\n",
        "          # out = outputs[:,len(self.exemplar_sets):]\n",
        "\n",
        "          # # Compute Classification Loss\n",
        "          # loss = criterion(out, labels_onehot)\n",
        "          \n",
        "          # # Compute Distillation Loss\n",
        "          # if len(self.exemplar_sets)>1:\n",
        "          #   outputs_old = Variable(torch.sigmoid(old(images))[:,:len(self.exemplar_sets)],requires_grad = False)\n",
        "          #   outputs = torch.sigmoid(outputs)[:,:len(self.exemplar_sets)].to(DEVICE)\n",
        "          #   loss2 = criterion2(outputs,outputs_old)\n",
        "          #   loss = loss + loss2\n",
        "\n",
        "          if current_step % LOG_FREQUENCY == 0:\n",
        "              print('Step {}, Loss {}'.format(current_step, loss.item()))\n",
        "\n",
        "          loss.backward()  # backward pass: computes gradients\n",
        "          optimizer.step() # update weights based on accumulated gradients\n",
        "          current_step += 1\n",
        "        \n",
        "      scheduler.step()\n",
        "#       running_corrects = 0\n",
        "#       net.train(False)\n",
        "#       for images,labels in test_dataloader:\n",
        "#         images = images.to(DEVICE)\n",
        "#         labels = labels.to(DEVICE)\n",
        "#         preds = net(images)\n",
        "#         _, preds = torch.max(preds.data, 1)\n",
        "#         running_corrects += torch.sum(preds == labels.data).data.item()\n",
        "#       accuracy = running_corrects / float(len(test))\n",
        "#       print(f\"Test Accuracy: {accuracy}\")\n",
        "    \n",
        "    # Save the trained network and update features extractor\n",
        "    self.net = copy.deepcopy(net)\n",
        "    self.fe = copy.deepcopy(net)\n",
        "    self.fe.linear = nn.Sequential()\n",
        "    del net\n",
        "    torch.no_grad()\n",
        "    torch.cuda.empty_cache()"
      ],
      "execution_count": 0,
      "outputs": []
    },
    {
      "cell_type": "markdown",
      "metadata": {
        "id": "AhTb6O67HT_a",
        "colab_type": "text"
      },
      "source": [
        "** Incremental Train **"
      ]
    },
    {
      "cell_type": "code",
      "metadata": {
        "id": "rfFKyVwGi8pr",
        "outputId": "50f609af-1ec7-421e-c38a-41cb47f02284",
        "trusted": true,
        "colab_type": "code",
        "colab": {
          "base_uri": "https://localhost:8080/",
          "height": 1000
        }
      },
      "source": [
        "net = iCaRL()\n",
        "K = 600 # Memory Size\n",
        "t = 0 # Number of classes\n",
        "accuracies = [] # List of results \n",
        "test_dataset = CIFAR100_tError(DATA_DIR, train=False, transform=eval_transform, download=True)\n",
        "\n",
        "for i in range(0,10): # batches of 10\n",
        "  print(f\"processing batch {i+1}\")\n",
        "  #Create Datasets\n",
        "  train_datasets = []\n",
        "  train_dataset_big = CIFAR100_tError(DATA_DIR, train=True, transform=train_transform, download=True)\n",
        "  lbls, new_labels = make_data_labels(lbls) # take 10 new classes\n",
        "  for label in new_labels:\n",
        "    train_dataset = CIFAR100_tError(DATA_DIR, train=True, transform=eval_transform, download=True)\n",
        "    train_dataset.increment([label],[t])\n",
        "    test_dataset.increment([label],[t])\n",
        "    train_dataset_big.increment([label],[t])\n",
        "    train_datasets.append(train_dataset) # List of training examples in per class sets\n",
        "    t += 1\n",
        "  test_dataloader = DataLoader(test_dataset,batch_size=BATCH_SIZE,shuffle=True,num_workers=4)\n",
        "  net.update_representation(train_dataset_big)\n",
        "  m = K/t #numbers of exemplars per class\n",
        "  net.reduce_exemplar_sets(m)\n",
        "  for X in train_datasets:\n",
        "    print(\"Construct Exemplar\")\n",
        "    net.construct_exemplar_set(X,m) #new exemplar sets\n",
        "    torch.no_grad()\n",
        "    torch.cuda.empty_cache()\n",
        "    gc.collect()\n",
        "  # Test on Test set\n",
        "  running_corrects = 0\n",
        "  print(\"Computing Means\")\n",
        "  net.compute_means()\n",
        "  print(\"classifing\")\n",
        "  for images,labels in test_dataloader:\n",
        "    images = images.to(DEVICE)\n",
        "    labels = labels.to(DEVICE)\n",
        "    preds = net.classify(images)\n",
        "    running_corrects += torch.sum(preds == labels.data).data.item()\n",
        "    accuracy = running_corrects / float(len(test_dataset))\n",
        "    del images\n",
        "    del labels\n",
        "    del preds\n",
        "    torch.no_grad()\n",
        "    torch.cuda.empty_cache()\n",
        "    gc.collect()\n",
        "    accuracies.append(accuracy)\n",
        "  print(f\"Test Accuracy: {accuracy}\")"
      ],
      "execution_count": 38,
      "outputs": [
        {
          "output_type": "stream",
          "text": [
            "Files already downloaded and verified\n",
            "processing batch 1\n",
            "Files already downloaded and verified\n",
            "Files already downloaded and verified\n",
            "Files already downloaded and verified\n",
            "Files already downloaded and verified\n",
            "Files already downloaded and verified\n",
            "Files already downloaded and verified\n",
            "Files already downloaded and verified\n",
            "Files already downloaded and verified\n",
            "Files already downloaded and verified\n",
            "Files already downloaded and verified\n",
            "Files already downloaded and verified\n",
            "Starting epoch 1/70, LR = [2]\n",
            "Step 0, Loss 0.759586751461029\n",
            "Starting epoch 2/70, LR = [2]\n",
            "Step 50, Loss 0.024725040420889854\n",
            "Starting epoch 3/70, LR = [2]\n",
            "Step 100, Loss 0.022463126108050346\n",
            "Construct Exemplar\n",
            "Construct Exemplar\n",
            "Construct Exemplar\n",
            "Construct Exemplar\n",
            "Construct Exemplar\n",
            "Construct Exemplar\n",
            "Construct Exemplar\n",
            "Construct Exemplar\n",
            "Construct Exemplar\n",
            "Construct Exemplar\n",
            "Computing Means\n",
            "classifing\n",
            "Test Accuracy: 0.435\n",
            "processing batch 2\n",
            "Files already downloaded and verified\n",
            "Files already downloaded and verified\n",
            "Files already downloaded and verified\n",
            "Files already downloaded and verified\n",
            "Files already downloaded and verified\n",
            "Files already downloaded and verified\n",
            "Files already downloaded and verified\n",
            "Files already downloaded and verified\n",
            "Files already downloaded and verified\n",
            "Files already downloaded and verified\n",
            "Files already downloaded and verified\n",
            "Starting epoch 1/70, LR = [2]\n",
            "Step 0, Loss 0.2537485361099243\n",
            "Starting epoch 2/70, LR = [2]\n",
            "Step 50, Loss 0.05541081726551056\n",
            "Starting epoch 3/70, LR = [2]\n",
            "Step 100, Loss 0.05089209973812103\n",
            "Construct Exemplar\n",
            "Construct Exemplar\n",
            "Construct Exemplar\n",
            "Construct Exemplar\n",
            "Construct Exemplar\n",
            "Construct Exemplar\n",
            "Construct Exemplar\n",
            "Construct Exemplar\n",
            "Construct Exemplar\n",
            "Construct Exemplar\n",
            "Computing Means\n",
            "classifing\n",
            "Test Accuracy: 0.239\n",
            "processing batch 3\n",
            "Files already downloaded and verified\n",
            "Files already downloaded and verified\n",
            "Files already downloaded and verified\n",
            "Files already downloaded and verified\n",
            "Files already downloaded and verified\n"
          ],
          "name": "stdout"
        },
        {
          "output_type": "error",
          "ename": "KeyboardInterrupt",
          "evalue": "ignored",
          "traceback": [
            "\u001b[0;31m---------------------------------------------------------------------------\u001b[0m",
            "\u001b[0;31mKeyboardInterrupt\u001b[0m                         Traceback (most recent call last)",
            "\u001b[0;32m<ipython-input-38-f61053c3b092>\u001b[0m in \u001b[0;36m<module>\u001b[0;34m()\u001b[0m\n\u001b[1;32m     15\u001b[0m     \u001b[0mtrain_dataset\u001b[0m\u001b[0;34m.\u001b[0m\u001b[0mincrement\u001b[0m\u001b[0;34m(\u001b[0m\u001b[0;34m[\u001b[0m\u001b[0mlabel\u001b[0m\u001b[0;34m]\u001b[0m\u001b[0;34m,\u001b[0m\u001b[0;34m[\u001b[0m\u001b[0mt\u001b[0m\u001b[0;34m]\u001b[0m\u001b[0;34m)\u001b[0m\u001b[0;34m\u001b[0m\u001b[0;34m\u001b[0m\u001b[0m\n\u001b[1;32m     16\u001b[0m     \u001b[0mtest_dataset\u001b[0m\u001b[0;34m.\u001b[0m\u001b[0mincrement\u001b[0m\u001b[0;34m(\u001b[0m\u001b[0;34m[\u001b[0m\u001b[0mlabel\u001b[0m\u001b[0;34m]\u001b[0m\u001b[0;34m,\u001b[0m\u001b[0;34m[\u001b[0m\u001b[0mt\u001b[0m\u001b[0;34m]\u001b[0m\u001b[0;34m)\u001b[0m\u001b[0;34m\u001b[0m\u001b[0;34m\u001b[0m\u001b[0m\n\u001b[0;32m---> 17\u001b[0;31m     \u001b[0mtrain_dataset_big\u001b[0m\u001b[0;34m.\u001b[0m\u001b[0mincrement\u001b[0m\u001b[0;34m(\u001b[0m\u001b[0;34m[\u001b[0m\u001b[0mlabel\u001b[0m\u001b[0;34m]\u001b[0m\u001b[0;34m,\u001b[0m\u001b[0;34m[\u001b[0m\u001b[0mt\u001b[0m\u001b[0;34m]\u001b[0m\u001b[0;34m)\u001b[0m\u001b[0;34m\u001b[0m\u001b[0;34m\u001b[0m\u001b[0m\n\u001b[0m\u001b[1;32m     18\u001b[0m     \u001b[0mtrain_datasets\u001b[0m\u001b[0;34m.\u001b[0m\u001b[0mappend\u001b[0m\u001b[0;34m(\u001b[0m\u001b[0mtrain_dataset\u001b[0m\u001b[0;34m)\u001b[0m \u001b[0;31m# List of training examples in per class sets\u001b[0m\u001b[0;34m\u001b[0m\u001b[0;34m\u001b[0m\u001b[0m\n\u001b[1;32m     19\u001b[0m     \u001b[0mt\u001b[0m \u001b[0;34m+=\u001b[0m \u001b[0;36m1\u001b[0m\u001b[0;34m\u001b[0m\u001b[0;34m\u001b[0m\u001b[0m\n",
            "\u001b[0;32m/content/Project_MLDL/CIFAR100_tError.py\u001b[0m in \u001b[0;36mincrement\u001b[0;34m(self, newlbls, mapping)\u001b[0m\n\u001b[1;32m     72\u001b[0m     \u001b[0mthe\u001b[0m \u001b[0mlabels\u001b[0m\u001b[0;34m\u001b[0m\u001b[0;34m\u001b[0m\u001b[0m\n\u001b[1;32m     73\u001b[0m     \"\"\"\n\u001b[0;32m---> 74\u001b[0;31m     \u001b[0;32mfor\u001b[0m \u001b[0melement\u001b[0m \u001b[0;32min\u001b[0m \u001b[0mself\u001b[0m\u001b[0;34m.\u001b[0m\u001b[0mprova\u001b[0m\u001b[0;34m:\u001b[0m\u001b[0;34m\u001b[0m\u001b[0;34m\u001b[0m\u001b[0m\n\u001b[0m\u001b[1;32m     75\u001b[0m       \u001b[0mimage\u001b[0m\u001b[0;34m,\u001b[0m \u001b[0mlabel\u001b[0m \u001b[0;34m=\u001b[0m \u001b[0melement\u001b[0m\u001b[0;34m\u001b[0m\u001b[0;34m\u001b[0m\u001b[0m\n\u001b[1;32m     76\u001b[0m       \u001b[0;32mif\u001b[0m \u001b[0mlabel\u001b[0m \u001b[0;32min\u001b[0m \u001b[0mnewlbls\u001b[0m\u001b[0;34m:\u001b[0m\u001b[0;34m\u001b[0m\u001b[0;34m\u001b[0m\u001b[0m\n",
            "\u001b[0;32m/usr/local/lib/python3.6/dist-packages/torchvision/datasets/cifar.py\u001b[0m in \u001b[0;36m__getitem__\u001b[0;34m(self, index)\u001b[0m\n\u001b[1;32m    108\u001b[0m         \u001b[0;31m# doing this so that it is consistent with all other datasets\u001b[0m\u001b[0;34m\u001b[0m\u001b[0;34m\u001b[0m\u001b[0;34m\u001b[0m\u001b[0m\n\u001b[1;32m    109\u001b[0m         \u001b[0;31m# to return a PIL Image\u001b[0m\u001b[0;34m\u001b[0m\u001b[0;34m\u001b[0m\u001b[0;34m\u001b[0m\u001b[0m\n\u001b[0;32m--> 110\u001b[0;31m         \u001b[0mimg\u001b[0m \u001b[0;34m=\u001b[0m \u001b[0mImage\u001b[0m\u001b[0;34m.\u001b[0m\u001b[0mfromarray\u001b[0m\u001b[0;34m(\u001b[0m\u001b[0mimg\u001b[0m\u001b[0;34m)\u001b[0m\u001b[0;34m\u001b[0m\u001b[0;34m\u001b[0m\u001b[0m\n\u001b[0m\u001b[1;32m    111\u001b[0m \u001b[0;34m\u001b[0m\u001b[0m\n\u001b[1;32m    112\u001b[0m         \u001b[0;32mif\u001b[0m \u001b[0mself\u001b[0m\u001b[0;34m.\u001b[0m\u001b[0mtransform\u001b[0m \u001b[0;32mis\u001b[0m \u001b[0;32mnot\u001b[0m \u001b[0;32mNone\u001b[0m\u001b[0;34m:\u001b[0m\u001b[0;34m\u001b[0m\u001b[0;34m\u001b[0m\u001b[0m\n",
            "\u001b[0;32m/usr/local/lib/python3.6/dist-packages/PIL/Image.py\u001b[0m in \u001b[0;36mfromarray\u001b[0;34m(obj, mode)\u001b[0m\n\u001b[1;32m   2695\u001b[0m     \u001b[0;32mif\u001b[0m \u001b[0mstrides\u001b[0m \u001b[0;32mis\u001b[0m \u001b[0;32mnot\u001b[0m \u001b[0;32mNone\u001b[0m\u001b[0;34m:\u001b[0m\u001b[0;34m\u001b[0m\u001b[0;34m\u001b[0m\u001b[0m\n\u001b[1;32m   2696\u001b[0m         \u001b[0;32mif\u001b[0m \u001b[0mhasattr\u001b[0m\u001b[0;34m(\u001b[0m\u001b[0mobj\u001b[0m\u001b[0;34m,\u001b[0m \u001b[0;34m\"tobytes\"\u001b[0m\u001b[0;34m)\u001b[0m\u001b[0;34m:\u001b[0m\u001b[0;34m\u001b[0m\u001b[0;34m\u001b[0m\u001b[0m\n\u001b[0;32m-> 2697\u001b[0;31m             \u001b[0mobj\u001b[0m \u001b[0;34m=\u001b[0m \u001b[0mobj\u001b[0m\u001b[0;34m.\u001b[0m\u001b[0mtobytes\u001b[0m\u001b[0;34m(\u001b[0m\u001b[0;34m)\u001b[0m\u001b[0;34m\u001b[0m\u001b[0;34m\u001b[0m\u001b[0m\n\u001b[0m\u001b[1;32m   2698\u001b[0m         \u001b[0;32melse\u001b[0m\u001b[0;34m:\u001b[0m\u001b[0;34m\u001b[0m\u001b[0;34m\u001b[0m\u001b[0m\n\u001b[1;32m   2699\u001b[0m             \u001b[0mobj\u001b[0m \u001b[0;34m=\u001b[0m \u001b[0mobj\u001b[0m\u001b[0;34m.\u001b[0m\u001b[0mtostring\u001b[0m\u001b[0;34m(\u001b[0m\u001b[0;34m)\u001b[0m\u001b[0;34m\u001b[0m\u001b[0;34m\u001b[0m\u001b[0m\n",
            "\u001b[0;31mKeyboardInterrupt\u001b[0m: "
          ]
        }
      ]
    },
    {
      "cell_type": "code",
      "metadata": {
        "id": "erb1mOkY1_si",
        "colab_type": "code",
        "colab": {
          "base_uri": "https://localhost:8080/",
          "height": 285
        },
        "outputId": "7cb00235-eac5-4128-9efb-b7c253301bbc"
      },
      "source": [
        "from PIL import Image\n",
        "import matplotlib.pyplot as plt\n",
        "trans = transforms.ToPILImage()\n",
        "tensor = net.exemplar_sets[0][0].squeeze()\n",
        "image = transforms.ToPILImage(tensor).convert(\"RGB\")\n",
        "plt.imshow(image)"
      ],
      "execution_count": 21,
      "outputs": [
        {
          "output_type": "execute_result",
          "data": {
            "text/plain": [
              "<matplotlib.image.AxesImage at 0x7f5bc9d0d1d0>"
            ]
          },
          "metadata": {
            "tags": []
          },
          "execution_count": 21
        },
        {
          "output_type": "display_data",
          "data": {
            "image/png": "[encoded data removed]",
            "text/plain": [
              "<Figure size 432x288 with 1 Axes>"
            ]
          },
          "metadata": {
            "tags": [],
            "needs_background": "light"
          }
        }
      ]
    },
    {
      "cell_type": "code",
      "metadata": {
        "id": "jltZwKYL38MV",
        "colab_type": "code",
        "colab": {
          "base_uri": "https://localhost:8080/",
          "height": 285
        },
        "outputId": "1f4a1892-6f06-4af3-c9b4-13df228c9db2"
      },
      "source": [
        "trans2 = transforms.ToTensor()\n",
        "flip = transforms.RandomHorizontalFlip()\n",
        "tensor2 = trans2(flip(image))\n",
        "tensor2\n",
        "image = trans(tensor2).convert(\"RGB\")\n",
        "plt.imshow(image)"
      ],
      "execution_count": 26,
      "outputs": [
        {
          "output_type": "execute_result",
          "data": {
            "text/plain": [
              "<matplotlib.image.AxesImage at 0x7f5bca2fad68>"
            ]
          },
          "metadata": {
            "tags": []
          },
          "execution_count": 26
        },
        {
          "output_type": "display_data",
          "data": {
            "image/png": "[encoded data removed]",
            "text/plain": [
              "<Figure size 432x288 with 1 Axes>"
            ]
          },
          "metadata": {
            "tags": [],
            "needs_background": "light"
          }
        }
      ]
    },
    {
      "cell_type": "markdown",
      "metadata": {
        "id": "Qaeqgqc2Xr1r",
        "colab_type": "text"
      },
      "source": [
        "**Define plot function**\n",
        "\n",
        "---\n",
        "\n"
      ]
    },
    {
      "cell_type": "code",
      "metadata": {
        "id": "rr8d6IXeXrJt",
        "trusted": true,
        "colab_type": "code",
        "colab": {}
      },
      "source": [
        "def accuracy_plot(accuracies):\n",
        "  ### FOR MEAN STD PLOT https://stackoverflow.com/questions/22481854/plot-mean-and-standard-deviation\n",
        "  from scipy import interpolate\n",
        "\n",
        "  tck,u     = interpolate.splprep( [[i*10 for i in range(1,len(accuracies)+1)],accuracies] ,s = 0 )\n",
        "  xnew,ynew = interpolate.splev( np.linspace( 0, 1, 100 ), tck,der = 0)\n",
        "\n",
        "  fig, ax = plt.subplots(figsize=(15,14), facecolor='white')\n",
        "\n",
        "  plt.rc('font', size=20)\n",
        "  plt.plot( [i*10 for i in range(1,len(accuracies)+1)],accuracies,'.' , xnew ,ynew, label = \"accuracy\", c='orange' )\n",
        "  ax.set_ylabel(\"Accuracy\")\n",
        "  ax.set_xlabel(\"Classes\")\n",
        "  ax.minorticks_on()\n",
        "  plt.title(\"Accuracies obtained with finetuning of a ResNet network\")\n",
        "  plt.yticks(np.arange(0, 1.1, .1))\n",
        "  plt.xticks(np.arange(0, 110, 10))\n",
        "  plt.grid(axis='y',which='major', linestyle='-', linewidth='0.5', color='black') \n",
        "  plt.grid(axis='y',which='minor', linestyle=':', linewidth='0.5', color='grey')\n",
        "  for in_i, in_j in zip([i*10 for i in range(1,len(accuracies)+1)], accuracies):  # Plot also the value of the point close to it\n",
        "          ax.annotate(str(round(in_j, 3)), xy=(in_i, in_j))\n",
        "\n",
        "  plt.savefig('test.png', format='png', dpi=300)\n",
        "  plt.show()"
      ],
      "execution_count": 0,
      "outputs": []
    },
    {
      "cell_type": "markdown",
      "metadata": {
        "id": "VphrtfF8XqsN",
        "colab_type": "text"
      },
      "source": [
        "*Print & Plot*"
      ]
    },
    {
      "cell_type": "code",
      "metadata": {
        "trusted": true,
        "id": "6Asycu5ddm8X",
        "colab_type": "code",
        "colab": {}
      },
      "source": [
        "print(test_accuracies)\n",
        "\n",
        "accuracy_plot(test_accuracies)\n"
      ],
      "execution_count": 0,
      "outputs": []
    }
  ]
}