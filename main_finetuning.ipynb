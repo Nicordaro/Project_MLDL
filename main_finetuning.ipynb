{
  "nbformat": 4,
  "nbformat_minor": 0,
  "metadata": {
    "kernelspec": {
      "language": "python",
      "display_name": "Python 3",
      "name": "python3"
    },
    "language_info": {
      "pygments_lexer": "ipython3",
      "nbconvert_exporter": "python",
      "version": "3.6.4",
      "file_extension": ".py",
      "codemirror_mode": {
        "name": "ipython",
        "version": 3
      },
      "name": "python",
      "mimetype": "text/x-python"
    },
    "colab": {
      "name": "Resnest_strana_data_augmentation_icarl.ipynb",
      "provenance": [],
      "include_colab_link": true
    },
    "accelerator": "GPU"
  },
  "cells": [
    {
      "cell_type": "markdown",
      "metadata": {
        "id": "view-in-github",
        "colab_type": "text"
      },
      "source": [
        "<a href=\"https://colab.research.google.com/github/Nicordaro/Project_MLDL/blob/master/main_finetuning.ipynb\" target=\"_parent\"><img src=\"https://colab.research.google.com/assets/colab-badge.svg\" alt=\"Open In Colab\"/></a>"
      ]
    },
    {
      "cell_type": "markdown",
      "metadata": {
        "id": "3WxaZRunY184",
        "colab_type": "text"
      },
      "source": [
        "*Cloning files needed*"
      ]
    },
    {
      "cell_type": "code",
      "metadata": {
        "trusted": true,
        "id": "fP5vAuX9dm75",
        "colab_type": "code",
        "outputId": "ac3b68f8-6bad-47ea-c0d5-9ab03025edb2",
        "colab": {
          "base_uri": "https://localhost:8080/",
          "height": 145
        }
      },
      "source": [
        "import os\n",
        "# Clone github repository with data\n",
        "# if os.path.isdir('./Project_MLDL'):\n",
        "!rm -rf Project_MLDL\n",
        "if not os.path.isdir('./CIFAR100_tError'):\n",
        "  !git clone https://github.com/Nicordaro/Project_MLDL\n"
      ],
      "execution_count": 1,
      "outputs": [
        {
          "output_type": "stream",
          "text": [
            "Cloning into 'Project_MLDL'...\n",
            "remote: Enumerating objects: 185, done.\u001b[K\n",
            "remote: Counting objects:   0% (1/185)\u001b[K\rremote: Counting objects:   1% (2/185)\u001b[K\rremote: Counting objects:   2% (4/185)\u001b[K\rremote: Counting objects:   3% (6/185)\u001b[K\rremote: Counting objects:   4% (8/185)\u001b[K\rremote: Counting objects:   5% (10/185)\u001b[K\rremote: Counting objects:   6% (12/185)\u001b[K\rremote: Counting objects:   7% (13/185)\u001b[K\rremote: Counting objects:   8% (15/185)\u001b[K\rremote: Counting objects:   9% (17/185)\u001b[K\rremote: Counting objects:  10% (19/185)\u001b[K\rremote: Counting objects:  11% (21/185)\u001b[K\rremote: Counting objects:  12% (23/185)\u001b[K\rremote: Counting objects:  13% (25/185)\u001b[K\rremote: Counting objects:  14% (26/185)\u001b[K\rremote: Counting objects:  15% (28/185)\u001b[K\rremote: Counting objects:  16% (30/185)\u001b[K\rremote: Counting objects:  17% (32/185)\u001b[K\rremote: Counting objects:  18% (34/185)\u001b[K\rremote: Counting objects:  19% (36/185)\u001b[K\rremote: Counting objects:  20% (37/185)\u001b[K\rremote: Counting objects:  21% (39/185)\u001b[K\rremote: Counting objects:  22% (41/185)\u001b[K\rremote: Counting objects:  23% (43/185)\u001b[K\rremote: Counting objects:  24% (45/185)\u001b[K\rremote: Counting objects:  25% (47/185)\u001b[K\rremote: Counting objects:  26% (49/185)\u001b[K\rremote: Counting objects:  27% (50/185)\u001b[K\rremote: Counting objects:  28% (52/185)\u001b[K\rremote: Counting objects:  29% (54/185)\u001b[K\rremote: Counting objects:  30% (56/185)\u001b[K\rremote: Counting objects:  31% (58/185)\u001b[K\rremote: Counting objects:  32% (60/185)\u001b[K\rremote: Counting objects:  33% (62/185)\u001b[K\rremote: Counting objects:  34% (63/185)\u001b[K\rremote: Counting objects:  35% (65/185)\u001b[K\rremote: Counting objects:  36% (67/185)\u001b[K\rremote: Counting objects:  37% (69/185)\u001b[K\rremote: Counting objects:  38% (71/185)\u001b[K\rremote: Counting objects:  39% (73/185)\u001b[K\rremote: Counting objects:  40% (74/185)\u001b[K\rremote: Counting objects:  41% (76/185)\u001b[K\rremote: Counting objects:  42% (78/185)\u001b[K\rremote: Counting objects:  43% (80/185)\u001b[K\rremote: Counting objects:  44% (82/185)\u001b[K\rremote: Counting objects:  45% (84/185)\u001b[K\rremote: Counting objects:  46% (86/185)\u001b[K\rremote: Counting objects:  47% (87/185)\u001b[K\rremote: Counting objects:  48% (89/185)\u001b[K\rremote: Counting objects:  49% (91/185)\u001b[K\rremote: Counting objects:  50% (93/185)\u001b[K\rremote: Counting objects:  51% (95/185)\u001b[K\rremote: Counting objects:  52% (97/185)\u001b[K\rremote: Counting objects:  53% (99/185)\u001b[K\rremote: Counting objects:  54% (100/185)\u001b[K\rremote: Counting objects:  55% (102/185)\u001b[K\rremote: Counting objects:  56% (104/185)\u001b[K\rremote: Counting objects:  57% (106/185)\u001b[K\rremote: Counting objects:  58% (108/185)\u001b[K\rremote: Counting objects:  59% (110/185)\u001b[K\rremote: Counting objects:  60% (111/185)\u001b[K\rremote: Counting objects:  61% (113/185)\u001b[K\rremote: Counting objects:  62% (115/185)\u001b[K\rremote: Counting objects:  63% (117/185)\u001b[K\rremote: Counting objects:  64% (119/185)\u001b[K\rremote: Counting objects:  65% (121/185)\u001b[K\rremote: Counting objects:  66% (123/185)\u001b[K\rremote: Counting objects:  67% (124/185)\u001b[K\rremote: Counting objects:  68% (126/185)\u001b[K\rremote: Counting objects:  69% (128/185)\u001b[K\rremote: Counting objects:  70% (130/185)\u001b[K\rremote: Counting objects:  71% (132/185)\u001b[K\rremote: Counting objects:  72% (134/185)\u001b[K\rremote: Counting objects:  73% (136/185)\u001b[K\rremote: Counting objects:  74% (137/185)\u001b[K\rremote: Counting objects:  75% (139/185)\u001b[K\rremote: Counting objects:  76% (141/185)\u001b[K\rremote: Counting objects:  77% (143/185)\u001b[K\rremote: Counting objects:  78% (145/185)\u001b[K\rremote: Counting objects:  79% (147/185)\u001b[K\rremote: Counting objects:  80% (148/185)\u001b[K\rremote: Counting objects:  81% (150/185)\u001b[K\rremote: Counting objects:  82% (152/185)\u001b[K\rremote: Counting objects:  83% (154/185)\u001b[K\rremote: Counting objects:  84% (156/185)\u001b[K\rremote: Counting objects:  85% (158/185)\u001b[K\rremote: Counting objects:  86% (160/185)\u001b[K\rremote: Counting objects:  87% (161/185)\u001b[K\rremote: Counting objects:  88% (163/185)\u001b[K\rremote: Counting objects:  89% (165/185)\u001b[K\rremote: Counting objects:  90% (167/185)\u001b[K\rremote: Counting objects:  91% (169/185)\u001b[K\rremote: Counting objects:  92% (171/185)\u001b[K\rremote: Counting objects:  93% (173/185)\u001b[K\rremote: Counting objects:  94% (174/185)\u001b[K\rremote: Counting objects:  95% (176/185)\u001b[K\rremote: Counting objects:  96% (178/185)\u001b[K\rremote: Counting objects:  97% (180/185)\u001b[K\rremote: Counting objects:  98% (182/185)\u001b[K\rremote: Counting objects:  99% (184/185)\u001b[K\rremote: Counting objects: 100% (185/185)\u001b[K\rremote: Counting objects: 100% (185/185), done.\u001b[K\n",
            "remote: Compressing objects:   0% (1/183)\u001b[K\rremote: Compressing objects:   1% (2/183)\u001b[K\rremote: Compressing objects:   2% (4/183)\u001b[K\rremote: Compressing objects:   3% (6/183)\u001b[K\rremote: Compressing objects:   4% (8/183)\u001b[K\rremote: Compressing objects:   5% (10/183)\u001b[K\rremote: Compressing objects:   6% (11/183)\u001b[K\rremote: Compressing objects:   7% (13/183)\u001b[K\rremote: Compressing objects:   8% (15/183)\u001b[K\rremote: Compressing objects:   9% (17/183)\u001b[K\rremote: Compressing objects:  10% (19/183)\u001b[K\rremote: Compressing objects:  11% (21/183)\u001b[K\rremote: Compressing objects:  12% (22/183)\u001b[K\rremote: Compressing objects:  13% (24/183)\u001b[K\rremote: Compressing objects:  14% (26/183)\u001b[K\rremote: Compressing objects:  15% (28/183)\u001b[K\rremote: Compressing objects:  16% (30/183)\u001b[K\rremote: Compressing objects:  17% (32/183)\u001b[K\rremote: Compressing objects:  18% (33/183)\u001b[K\rremote: Compressing objects:  19% (35/183)\u001b[K\rremote: Compressing objects:  20% (37/183)\u001b[K\rremote: Compressing objects:  21% (39/183)\u001b[K\rremote: Compressing objects:  22% (41/183)\u001b[K\rremote: Compressing objects:  23% (43/183)\u001b[K\rremote: Compressing objects:  24% (44/183)\u001b[K\rremote: Compressing objects:  25% (46/183)\u001b[K\rremote: Compressing objects:  26% (48/183)\u001b[K\rremote: Compressing objects:  27% (50/183)\u001b[K\rremote: Compressing objects:  28% (52/183)\u001b[K\rremote: Compressing objects:  29% (54/183)\u001b[K\rremote: Compressing objects:  30% (55/183)\u001b[K\rremote: Compressing objects:  31% (57/183)\u001b[K\rremote: Compressing objects:  32% (59/183)\u001b[K\rremote: Compressing objects:  33% (61/183)\u001b[K\rremote: Compressing objects:  34% (63/183)\u001b[K\rremote: Compressing objects:  35% (65/183)\u001b[K\rremote: Compressing objects:  36% (66/183)\u001b[K\rremote: Compressing objects:  37% (68/183)\u001b[K\rremote: Compressing objects:  38% (70/183)\u001b[K\rremote: Compressing objects:  39% (72/183)\u001b[K\rremote: Compressing objects:  40% (74/183)\u001b[K\rremote: Compressing objects:  41% (76/183)\u001b[K\rremote: Compressing objects:  42% (77/183)\u001b[K\rremote: Compressing objects:  43% (79/183)\u001b[K\rremote: Compressing objects:  44% (81/183)\u001b[K\rremote: Compressing objects:  45% (83/183)\u001b[K\rremote: Compressing objects:  46% (85/183)\u001b[K\rremote: Compressing objects:  47% (87/183)\u001b[K\rremote: Compressing objects:  48% (88/183)\u001b[K\rremote: Compressing objects:  49% (90/183)\u001b[K\rremote: Compressing objects:  50% (92/183)\u001b[K\rremote: Compressing objects:  51% (94/183)\u001b[K\rremote: Compressing objects:  52% (96/183)\u001b[K\rremote: Compressing objects:  53% (97/183)\u001b[K\rremote: Compressing objects:  54% (99/183)\u001b[K\rremote: Compressing objects:  55% (101/183)\u001b[K\rremote: Compressing objects:  56% (103/183)\u001b[K\rremote: Compressing objects:  57% (105/183)\u001b[K\rremote: Compressing objects:  58% (107/183)\u001b[K\rremote: Compressing objects:  59% (108/183)\u001b[K\rremote: Compressing objects:  60% (110/183)\u001b[K\rremote: Compressing objects:  61% (112/183)\u001b[K\rremote: Compressing objects:  62% (114/183)\u001b[K\rremote: Compressing objects:  63% (116/183)\u001b[K\rremote: Compressing objects:  64% (118/183)\u001b[K\rremote: Compressing objects:  65% (119/183)\u001b[K\rremote: Compressing objects:  66% (121/183)\u001b[K\rremote: Compressing objects:  67% (123/183)\u001b[K\rremote: Compressing objects:  68% (125/183)\u001b[K\rremote: Compressing objects:  69% (127/183)\u001b[K\rremote: Compressing objects:  70% (129/183)\u001b[K\rremote: Compressing objects:  71% (130/183)\u001b[K\rremote: Compressing objects:  72% (132/183)\u001b[K\rremote: Compressing objects:  73% (134/183)\u001b[K\rremote: Compressing objects:  74% (136/183)\u001b[K\rremote: Compressing objects:  75% (138/183)\u001b[K\rremote: Compressing objects:  76% (140/183)\u001b[K\rremote: Compressing objects:  77% (141/183)\u001b[K\rremote: Compressing objects:  78% (143/183)\u001b[K\rremote: Compressing objects:  79% (145/183)\u001b[K\rremote: Compressing objects:  80% (147/183)\u001b[K\rremote: Compressing objects:  81% (149/183)\u001b[K\rremote: Compressing objects:  82% (151/183)\u001b[K\rremote: Compressing objects:  83% (152/183)\u001b[K\rremote: Compressing objects:  84% (154/183)\u001b[K\rremote: Compressing objects:  85% (156/183)\u001b[K\rremote: Compressing objects:  86% (158/183)\u001b[K\rremote: Compressing objects:  87% (160/183)\u001b[K\rremote: Compressing objects:  88% (162/183)\u001b[K\rremote: Compressing objects:  89% (163/183)\u001b[K\rremote: Compressing objects:  90% (165/183)\u001b[K\rremote: Compressing objects:  91% (167/183)\u001b[K\rremote: Compressing objects:  92% (169/183)\u001b[K\rremote: Compressing objects:  93% (171/183)\u001b[K\rremote: Compressing objects:  94% (173/183)\u001b[K\rremote: Compressing objects:  95% (174/183)\u001b[K\rremote: Compressing objects:  96% (176/183)\u001b[K\rremote: Compressing objects:  97% (178/183)\u001b[K\rremote: Compressing objects:  98% (180/183)\u001b[K\rremote: Compressing objects:  99% (182/183)\u001b[K\rremote: Compressing objects: 100% (183/183)\u001b[K\rremote: Compressing objects: 100% (183/183), done.\u001b[K\n",
            "Receiving objects:   0% (1/185)   \rReceiving objects:   1% (2/185)   \rReceiving objects:   2% (4/185)   \rReceiving objects:   3% (6/185)   \rReceiving objects:   4% (8/185)   \rReceiving objects:   5% (10/185)   \rReceiving objects:   6% (12/185)   \rReceiving objects:   7% (13/185)   \rReceiving objects:   8% (15/185)   \rReceiving objects:   9% (17/185)   \rReceiving objects:  10% (19/185)   \rReceiving objects:  11% (21/185)   \rReceiving objects:  12% (23/185)   \rReceiving objects:  13% (25/185)   \rReceiving objects:  14% (26/185)   \rReceiving objects:  15% (28/185)   \rReceiving objects:  16% (30/185)   \rReceiving objects:  17% (32/185)   \rReceiving objects:  18% (34/185)   \rReceiving objects:  19% (36/185)   \rReceiving objects:  20% (37/185)   \rReceiving objects:  21% (39/185)   \rReceiving objects:  22% (41/185)   \rReceiving objects:  23% (43/185)   \rReceiving objects:  24% (45/185)   \rReceiving objects:  25% (47/185)   \rReceiving objects:  26% (49/185)   \rReceiving objects:  27% (50/185)   \rReceiving objects:  28% (52/185)   \rReceiving objects:  29% (54/185)   \rReceiving objects:  30% (56/185)   \rReceiving objects:  31% (58/185)   \rReceiving objects:  32% (60/185)   \rReceiving objects:  33% (62/185)   \rReceiving objects:  34% (63/185)   \rReceiving objects:  35% (65/185)   \rReceiving objects:  36% (67/185)   \rReceiving objects:  37% (69/185)   \rReceiving objects:  38% (71/185)   \rReceiving objects:  39% (73/185)   \rReceiving objects:  40% (74/185)   \rReceiving objects:  41% (76/185)   \rReceiving objects:  42% (78/185)   \rReceiving objects:  43% (80/185)   \rReceiving objects:  44% (82/185)   \rReceiving objects:  45% (84/185)   \rReceiving objects:  46% (86/185)   \rReceiving objects:  47% (87/185)   \rReceiving objects:  48% (89/185)   \rReceiving objects:  49% (91/185)   \rReceiving objects:  50% (93/185)   \rReceiving objects:  51% (95/185)   \rReceiving objects:  52% (97/185)   \rReceiving objects:  53% (99/185)   \rReceiving objects:  54% (100/185)   \rReceiving objects:  55% (102/185)   \rReceiving objects:  56% (104/185)   \rReceiving objects:  57% (106/185)   \rReceiving objects:  58% (108/185)   \rReceiving objects:  59% (110/185)   \rReceiving objects:  60% (111/185)   \rReceiving objects:  61% (113/185)   \rReceiving objects:  62% (115/185)   \rReceiving objects:  63% (117/185)   \rReceiving objects:  64% (119/185)   \rReceiving objects:  65% (121/185)   \rReceiving objects:  66% (123/185)   \rReceiving objects:  67% (124/185)   \rReceiving objects:  68% (126/185)   \rReceiving objects:  69% (128/185)   \rReceiving objects:  70% (130/185)   \rReceiving objects:  71% (132/185)   \rReceiving objects:  72% (134/185)   \rReceiving objects:  73% (136/185)   \rReceiving objects:  74% (137/185)   \rReceiving objects:  75% (139/185)   \rReceiving objects:  76% (141/185)   \rReceiving objects:  77% (143/185)   \rReceiving objects:  78% (145/185)   \rReceiving objects:  79% (147/185)   \rReceiving objects:  80% (148/185)   \rReceiving objects:  81% (150/185)   \rReceiving objects:  82% (152/185)   \rReceiving objects:  83% (154/185)   \rReceiving objects:  84% (156/185)   \rReceiving objects:  85% (158/185)   \rReceiving objects:  86% (160/185)   \rReceiving objects:  87% (161/185)   \rReceiving objects:  88% (163/185)   \rReceiving objects:  89% (165/185)   \rReceiving objects:  90% (167/185)   \rReceiving objects:  91% (169/185)   \rReceiving objects:  92% (171/185)   \rReceiving objects:  93% (173/185)   \rremote: Total 185 (delta 92), reused 0 (delta 0), pack-reused 0\u001b[K\n",
            "Receiving objects:  94% (174/185)   \rReceiving objects:  95% (176/185)   \rReceiving objects:  96% (178/185)   \rReceiving objects:  97% (180/185)   \rReceiving objects:  98% (182/185)   \rReceiving objects:  99% (184/185)   \rReceiving objects: 100% (185/185)   \rReceiving objects: 100% (185/185), 365.35 KiB | 4.57 MiB/s, done.\n",
            "Resolving deltas:   0% (0/92)   \rResolving deltas:  43% (40/92)   \rResolving deltas:  51% (47/92)   \rResolving deltas:  55% (51/92)   \rResolving deltas:  56% (52/92)   \rResolving deltas:  68% (63/92)   \rResolving deltas:  76% (70/92)   \rResolving deltas:  78% (72/92)   \rResolving deltas:  81% (75/92)   \rResolving deltas:  93% (86/92)   \rResolving deltas:  95% (88/92)   \rResolving deltas:  96% (89/92)   \rResolving deltas: 100% (92/92)   \rResolving deltas: 100% (92/92), done.\n"
          ],
          "name": "stdout"
        }
      ]
    },
    {
      "cell_type": "markdown",
      "metadata": {
        "id": "sqazEUOdZpEb",
        "colab_type": "text"
      },
      "source": [
        "**Imports**\n",
        "\n",
        "---"
      ]
    },
    {
      "cell_type": "code",
      "metadata": {
        "_uuid": "d629ff2d2480ee46fbb7e2d37f6b5fab8052498a",
        "_cell_guid": "79c7e3d0-c299-4dcb-8224-4455121ee9b0",
        "trusted": true,
        "id": "fNgxhFrmdm7d",
        "colab_type": "code",
        "colab": {}
      },
      "source": [
        "import logging\n",
        "import matplotlib.pyplot as plt\n",
        "import numpy as np\n",
        "import random\n",
        "import torch\n",
        "import torchvision\n",
        "import torch.nn as nn\n",
        "import torch.optim as optim\n",
        "\n",
        "\n",
        "from PIL import Image\n",
        "from Project_MLDL.CIFAR100_tError import CIFAR100_tError\n",
        "from Project_MLDL.model_finetuning import ResNet18\n",
        "from torch.utils.data import Subset, DataLoader\n",
        "from torch.backends import cudnn\n",
        "from torchvision import transforms\n",
        "from torchvision.models import resnet18\n",
        "from torchvision.models import resnet34\n",
        "from tqdm import tqdm"
      ],
      "execution_count": 0,
      "outputs": []
    },
    {
      "cell_type": "markdown",
      "metadata": {
        "id": "3JqYHsh6ZHw1",
        "colab_type": "text"
      },
      "source": [
        "**Arguments**\n",
        "\n",
        "---\n",
        "\n",
        "\n",
        "\n"
      ]
    },
    {
      "cell_type": "code",
      "metadata": {
        "trusted": true,
        "id": "qCqYt307dm7m",
        "colab_type": "code",
        "colab": {}
      },
      "source": [
        "DEVICE = 'cuda' # 'cuda' or 'cpu'\n",
        "\n",
        "# Init at 10 because first train is on 10 classes\n",
        "NUM_CLASSES = 10\n",
        "\n",
        "# Used for the pseudorandom shuffle of the split\n",
        "SEED = 12\n",
        "\n",
        "BATCH_SIZE = 128     # Higher batch sizes allows for larger learning rates. An empirical heuristic suggests that, when changing\n",
        "                     # the batch size, learning rate should change by the same factor to have comparable results\n",
        "\n",
        "LR = 2         # The initial Learning Rate\n",
        "MOMENTUM = 0.9       # Hyperparameter for SGD, keep this at 0.9 when using SGD\n",
        "WEIGHT_DECAY = 1e-5  # Regularization, you can keep this at the default\n",
        "\n",
        "NUM_EPOCHS = 70     # Total number of training epochs (iterations over dataset)\n",
        "MILESTONES = [48, 62]  # How many epochs before decreasing learning rate (if using a step-down policy)\n",
        "GAMMA = 0.2          # Multiplicative factor for learning rate step-down\n",
        "\n",
        "LOG_FREQUENCY = 50"
      ],
      "execution_count": 0,
      "outputs": []
    },
    {
      "cell_type": "markdown",
      "metadata": {
        "id": "u6t7fLFuZBgF",
        "colab_type": "text"
      },
      "source": [
        "**Transformations definition**\n",
        "\n",
        "---\n",
        "\n"
      ]
    },
    {
      "cell_type": "code",
      "metadata": {
        "trusted": true,
        "id": "pFm2Gxyedm71",
        "colab_type": "code",
        "colab": {}
      },
      "source": [
        "# Define transforms for training phase\n",
        "train_transform = transforms.Compose([transforms.RandomHorizontalFlip(), # Randomly flip the image with probability of 0.5\n",
        "                                      transforms.Pad(4), # Add padding\n",
        "                                      transforms.RandomCrop(32),# Crops a random squares of the image\n",
        "                                      transforms.ToTensor(), # Turn PIL Image to torch.Tensor\n",
        "                                      transforms.Normalize((0.485, 0.456, 0.406), (0.229, 0.224, 0.225))  # https://gist.github.com/weiaicunzai/e623931921efefd4c331622c344d8151\n",
        "])\n",
        "# Define transforms for the evaluation phase\n",
        "eval_transform = transforms.Compose([\n",
        "                                      transforms.ToTensor(),\n",
        "                                      transforms.Normalize((0.485, 0.456, 0.406), (0.229, 0.224, 0.225))                                 \n",
        "])"
      ],
      "execution_count": 0,
      "outputs": []
    },
    {
      "cell_type": "markdown",
      "metadata": {
        "id": "GW30kNv9jlEL",
        "colab_type": "text"
      },
      "source": [
        "*New label function*"
      ]
    },
    {
      "cell_type": "code",
      "metadata": {
        "trusted": true,
        "id": "fXLgSBpedm8C",
        "colab_type": "code",
        "colab": {}
      },
      "source": [
        "DATA_DIR = './CIFAR100'\n",
        "\n",
        "lbls = [i for i in range(0,100)]  #Array of classes integer-encoded (?)\n",
        "random.seed(SEED)\n",
        "random.shuffle(lbls)\n",
        "\n",
        "def make_data_labels(lbls):       #After shuffle, take first 10 classes, and remove the first 10 from the list passed as argument\n",
        "    new_labels=[]\n",
        "    for el in lbls[:10]:\n",
        "        new_labels.append(el)\n",
        "    lbls = lbls[10:]\n",
        "\n",
        "    return lbls, new_labels"
      ],
      "execution_count": 0,
      "outputs": []
    },
    {
      "cell_type": "markdown",
      "metadata": {
        "id": "jigjtgKJYmUU",
        "colab_type": "text"
      },
      "source": [
        "**Network Definition**\n",
        "\n",
        "---"
      ]
    },
    {
      "cell_type": "code",
      "metadata": {
        "trusted": true,
        "id": "K2lCILO5dm8N",
        "colab_type": "code",
        "colab": {}
      },
      "source": [
        "net = ResNet18()\n",
        "best_model = ResNet18()"
      ],
      "execution_count": 0,
      "outputs": []
    },
    {
      "cell_type": "code",
      "metadata": {
        "id": "jSzy6myIQRI-",
        "colab_type": "code",
        "colab": {}
      },
      "source": [
        "def testNet(datasetLength, dataloader, net):\n",
        "    net = net.to(DEVICE) # this will bring the network to GPU if DEVICE is cuda\n",
        "    net.train(False) # Set Network to evaluation mode\n",
        "\n",
        "    running_corrects = 0\n",
        "\n",
        "    for images, labels in dataloader:\n",
        "        images = images.to(DEVICE)\n",
        "        labels = labels.to(DEVICE)\n",
        "\n",
        "    # Forward Pass\n",
        "        outputs = net(images)\n",
        "\n",
        "    # Get predictions\n",
        "        _, preds = torch.max(outputs.data, 1)\n",
        "\n",
        "    #Debugging purpose, print labels of predictions\n",
        "    ##print(preds)\n",
        "\n",
        "    # Update Corrects\n",
        "        running_corrects += torch.sum(preds == labels.data).data.item()\n",
        "\n",
        "    # Calculate Accuracy\n",
        "    accuracy = running_corrects / datasetLength\n",
        "\n",
        "    return accuracy"
      ],
      "execution_count": 0,
      "outputs": []
    },
    {
      "cell_type": "markdown",
      "metadata": {
        "id": "SPoIu2qOYCty",
        "colab_type": "text"
      },
      "source": [
        "**Train, Validation** *not so fair* **and Test**\n",
        "\n",
        "---\n",
        "\n"
      ]
    },
    {
      "cell_type": "code",
      "metadata": {
        "trusted": true,
        "id": "fVxqsJc0dm8S",
        "colab_type": "code",
        "outputId": "76ee23d7-69a8-4039-d5c6-87ee7e171366",
        "colab": {
          "base_uri": "https://localhost:8080/",
          "height": 435
        }
      },
      "source": [
        "import numpy as np\n",
        "import copy\n",
        "BATCH_TO_TEST = 10\n",
        "test_accuracies = []\n",
        "\n",
        "best_eval_accuracy = 0\n",
        "\n",
        "\n",
        "# Define test dataset outside in order to increment it, instead of initializing it every cycle iteration\n",
        "test_dataset = CIFAR100_tError(DATA_DIR, train=False, transform=eval_transform, download=True)\n",
        "for i in range(0,BATCH_TO_TEST): #one iteration for 10 classes\n",
        "    print(f'Starting training with batch {i+1}')\n",
        "    lbls, new_labels = make_data_labels(lbls)\n",
        "  \n",
        "    # Define Train dataset\n",
        "    train_dataset = CIFAR100_tError(DATA_DIR, train=True, transform=train_transform, download=True)       \n",
        "    eval_dataset = CIFAR100_tError(DATA_DIR, train=False, transform=eval_transform, download=True)\n",
        "    # Increment dataset with new labels mapped with list comprehension\n",
        "    train_dataset.increment(new_labels,[j for j in range(0+i*10,10+i*10)])\n",
        "    eval_dataset.increment(new_labels,[j for j in range(0+i*10,10+i*10)])\n",
        "    test_dataset.increment(new_labels,[j for j in range(0+i*10,10+i*10)])\n",
        "\n",
        "    # Define dataloader\n",
        "    train_dataloader = DataLoader(train_dataset, batch_size=BATCH_SIZE, shuffle=True, num_workers=4, drop_last=True)\n",
        "    eval_dataloader = DataLoader(eval_dataset, batch_size=BATCH_SIZE, shuffle=True, num_workers=4)\n",
        "    test_dataloader = DataLoader(test_dataset, batch_size=BATCH_SIZE, shuffle=True, num_workers=4)\n",
        "\n",
        "    #prepare training\n",
        "    # Loss function\n",
        "    criterion = nn.BCEWithLogitsLoss() # for classification, we use Cross Entropy\n",
        "\n",
        "    # Parameters to optimize:\n",
        "    parameters_to_optimize = net.parameters()\n",
        "\n",
        "    # Optimizer\n",
        "    optimizer = optim.SGD(parameters_to_optimize, lr=LR, momentum=MOMENTUM, weight_decay=WEIGHT_DECAY)\n",
        "    # Scheduler\n",
        "    scheduler = optim.lr_scheduler.MultiStepLR(optimizer, milestones=MILESTONES, gamma=GAMMA, last_epoch=-1)\n",
        "\n",
        "    # training \n",
        "    # By default, everything is loaded to cpu\n",
        "    net = net.to(DEVICE) # this will bring the network to GPU if DEVICE is cuda\n",
        "\n",
        "    cudnn.benchmark # Calling this optimizes runtime\n",
        "\n",
        "    current_step = 0\n",
        "\n",
        "    # Start iterating over the epochs\n",
        "    for epoch in range(NUM_EPOCHS):\n",
        "      print('Starting epoch {}/{}, LR = {}'.format(epoch+1, NUM_EPOCHS, scheduler.get_last_lr()))\n",
        "    \n",
        "        # Iterate over the dataset\n",
        "      for images, labels in train_dataloader:\n",
        "          # Bring data over the device of choice\n",
        "          images = images.to(DEVICE)\n",
        "          labels = labels.to(DEVICE)\n",
        "\n",
        "          net.train() # Sets module in training mode\n",
        "\n",
        "          # PyTorch, by default, accumulates gradients after each backward pass\n",
        "          # We need to manually set the gradients to zero before starting a new iteration\n",
        "          optimizer.zero_grad() # Zero-ing the gradients\n",
        "\n",
        "          # Forward pass to the network\n",
        "          outputs = net(images)\n",
        "    \n",
        "          # One hot encoding labels for binary cross-entropy loss\n",
        "          labels_onehot = nn.functional.one_hot(labels,100)\n",
        "          labels_onehot = labels_onehot.type_as(outputs)\n",
        "\n",
        "          loss = criterion(outputs, labels_onehot)\n",
        "    \n",
        "          if current_step % LOG_FREQUENCY == 0:\n",
        "              print('Step {}, Loss {}'.format(current_step, loss.item()))\n",
        "\n",
        "      # Compute gradients for each layer and update weights\n",
        "          loss.backward()  # backward pass: computes gradients\n",
        "          optimizer.step() # update weights based on accumulated gradients\n",
        "          current_step += 1\n",
        "    \t  # Validation    \n",
        "      eval_accuracy = testNet(float(len(eval_dataset)), eval_dataloader, net)\n",
        "      if eval_accuracy > best_eval_accuracy:\n",
        "        best_eval_accuracy = eval_accuracy\n",
        "        best_model = copy.deepcopy(net)\n",
        "        print('Validation Accuracy: {}'.format(eval_accuracy))\n",
        "\n",
        "\n",
        "        # Step the scheduler\n",
        "      scheduler.step()\n",
        "\n",
        "    #test phase\n",
        "    test_accuracy = testNet(float(len(test_dataset)), test_dataloader, best_model)\n",
        "    test_accuracies.append(test_accuracy)\n",
        "    print('Test Accuracy: {}'.format(test_accuracy))"
      ],
      "execution_count": 0,
      "outputs": [
        {
          "output_type": "stream",
          "text": [
            "Files already downloaded and verified\n",
            "Starting training with batch 1\n",
            "Files already downloaded and verified\n",
            "Files already downloaded and verified\n",
            "Starting epoch 1/70, LR = [2]\n",
            "Step 0, Loss 0.7237606644630432\n",
            "Validation Accuracy: 0.378\n",
            "Starting epoch 2/70, LR = [2]\n",
            "Step 50, Loss 0.024035010486841202\n",
            "Validation Accuracy: 0.444\n",
            "Starting epoch 3/70, LR = [2]\n",
            "Step 100, Loss 0.0246108528226614\n",
            "Validation Accuracy: 0.52\n",
            "Starting epoch 4/70, LR = [2]\n",
            "Step 150, Loss 0.019947165623307228\n",
            "Validation Accuracy: 0.542\n",
            "Starting epoch 5/70, LR = [2]\n",
            "Validation Accuracy: 0.564\n",
            "Starting epoch 6/70, LR = [2]\n",
            "Step 200, Loss 0.019296837970614433\n",
            "Validation Accuracy: 0.605\n",
            "Starting epoch 7/70, LR = [2]\n",
            "Step 250, Loss 0.020494112744927406\n"
          ],
          "name": "stdout"
        }
      ]
    },
    {
      "cell_type": "markdown",
      "metadata": {
        "id": "Qaeqgqc2Xr1r",
        "colab_type": "text"
      },
      "source": [
        "**Define plot function**\n",
        "\n",
        "---\n",
        "\n"
      ]
    },
    {
      "cell_type": "code",
      "metadata": {
        "id": "rr8d6IXeXrJt",
        "colab_type": "code",
        "colab": {}
      },
      "source": [
        "def accuracy_plot(accuracies):\n",
        "  ### FOR MEAN STD PLOT https://stackoverflow.com/questions/22481854/plot-mean-and-standard-deviation\n",
        "  from scipy import interpolate\n",
        "\n",
        "  tck,u     = interpolate.splprep( [[i*10 for i in range(1,len(accuracies)+1)],accuracies] ,s = 0 )\n",
        "  xnew,ynew = interpolate.splev( np.linspace( 0, 1, 100 ), tck,der = 0)\n",
        "\n",
        "  fig, ax = plt.subplots(figsize=(15,14), facecolor='white')\n",
        "\n",
        "  plt.rc('font', size=20)\n",
        "  plt.plot( [i*10 for i in range(1,len(accuracies)+1)],accuracies,'.' , xnew ,ynew, label = \"accuracy\", c='orange' )\n",
        "  ax.set_ylabel(\"Accuracy\")\n",
        "  ax.set_xlabel(\"Classes\")\n",
        "  ax.minorticks_on()\n",
        "  plt.title(\"Accuracies obtained with finetuning of a ResNet network\")\n",
        "  plt.yticks(np.arange(0, 1.1, .1))\n",
        "  plt.xticks(np.arange(0, 110, 10))\n",
        "  plt.grid(axis='y',which='major', linestyle='-', linewidth='0.5', color='black') \n",
        "  plt.grid(axis='y',which='minor', linestyle=':', linewidth='0.5', color='grey')\n",
        "  for in_i, in_j in zip([i*10 for i in range(1,len(accuracies)+1)], accuracies):  # Plot also the value of the point close to it\n",
        "          ax.annotate(str(round(in_j, 3)), xy=(in_i, in_j))\n",
        "\n",
        "  plt.savefig('test.png', format='png', dpi=300)\n",
        "  plt.show()"
      ],
      "execution_count": 0,
      "outputs": []
    },
    {
      "cell_type": "markdown",
      "metadata": {
        "id": "VphrtfF8XqsN",
        "colab_type": "text"
      },
      "source": [
        "*Print & Plot*"
      ]
    },
    {
      "cell_type": "code",
      "metadata": {
        "trusted": true,
        "id": "6Asycu5ddm8X",
        "colab_type": "code",
        "colab": {}
      },
      "source": [
        "print(test_accuracies)\n",
        "\n",
        "accuracy_plot(test_accuracies)\n",
        "#obtained [0.844, 0.4525, 0.2976666666666667, 0.224, 0.1808, 0.1535, 0.125, 0.113625, 0.10577777777777778, 0.0929]"
      ],
      "execution_count": 0,
      "outputs": []
    }
  ]
}