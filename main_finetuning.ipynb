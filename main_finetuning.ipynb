{
  "nbformat": 4,
  "nbformat_minor": 0,
  "metadata": {
    "kernelspec": {
      "language": "python",
      "display_name": "Python 3",
      "name": "python3"
    },
    "language_info": {
      "pygments_lexer": "ipython3",
      "nbconvert_exporter": "python",
      "version": "3.6.4",
      "file_extension": ".py",
      "codemirror_mode": {
        "name": "ipython",
        "version": 3
      },
      "name": "python",
      "mimetype": "text/x-python"
    },
    "colab": {
      "name": "Resnest_strana_data_augmentation_icarl.ipynb",
      "provenance": [],
      "include_colab_link": true
    },
    "accelerator": "GPU"
  },
  "cells": [
    {
      "cell_type": "markdown",
      "metadata": {
        "id": "view-in-github",
        "colab_type": "text"
      },
      "source": [
        "<a href=\"https://colab.research.google.com/github/Nicordaro/Project_MLDL/blob/master/main_finetuning.ipynb\" target=\"_parent\"><img src=\"https://colab.research.google.com/assets/colab-badge.svg\" alt=\"Open In Colab\"/></a>"
      ]
    },
    {
      "cell_type": "markdown",
      "metadata": {
        "id": "3WxaZRunY184",
        "colab_type": "text"
      },
      "source": [
        "*Cloning files needed*"
      ]
    },
    {
      "cell_type": "code",
      "metadata": {
        "trusted": true,
        "id": "fP5vAuX9dm75",
        "colab_type": "code",
        "outputId": "fa8de3b6-04fc-403b-ce7d-8000a79049b1",
        "colab": {
          "base_uri": "https://localhost:8080/",
          "height": 225
        }
      },
      "source": [
        "# Clone github repository with data\n",
        "# if os.path.isdir('./Project_MLDL'):\n",
        "!rm -rf Project_MLDL\n",
        "if not os.path.isdir('./CIFAR100_tError'):\n",
        "  !git clone https://github.com/Nicordaro/Project_MLDL\n"
      ],
      "execution_count": 1,
      "outputs": [
        {
          "output_type": "error",
          "ename": "NameError",
          "evalue": "ignored",
          "traceback": [
            "\u001b[0;31m---------------------------------------------------------------------------\u001b[0m",
            "\u001b[0;31mNameError\u001b[0m                                 Traceback (most recent call last)",
            "\u001b[0;32m<ipython-input-1-296410f4e4f8>\u001b[0m in \u001b[0;36m<module>\u001b[0;34m()\u001b[0m\n\u001b[1;32m      2\u001b[0m \u001b[0;31m# if os.path.isdir('./Project_MLDL'):\u001b[0m\u001b[0;34m\u001b[0m\u001b[0;34m\u001b[0m\u001b[0;34m\u001b[0m\u001b[0m\n\u001b[1;32m      3\u001b[0m \u001b[0mget_ipython\u001b[0m\u001b[0;34m(\u001b[0m\u001b[0;34m)\u001b[0m\u001b[0;34m.\u001b[0m\u001b[0msystem\u001b[0m\u001b[0;34m(\u001b[0m\u001b[0;34m'rm -rf Project_MLDL'\u001b[0m\u001b[0;34m)\u001b[0m\u001b[0;34m\u001b[0m\u001b[0;34m\u001b[0m\u001b[0m\n\u001b[0;32m----> 4\u001b[0;31m \u001b[0;32mif\u001b[0m \u001b[0;32mnot\u001b[0m \u001b[0mos\u001b[0m\u001b[0;34m.\u001b[0m\u001b[0mpath\u001b[0m\u001b[0;34m.\u001b[0m\u001b[0misdir\u001b[0m\u001b[0;34m(\u001b[0m\u001b[0;34m'./CIFAR100_tError'\u001b[0m\u001b[0;34m)\u001b[0m\u001b[0;34m:\u001b[0m\u001b[0;34m\u001b[0m\u001b[0;34m\u001b[0m\u001b[0m\n\u001b[0m\u001b[1;32m      5\u001b[0m   \u001b[0mget_ipython\u001b[0m\u001b[0;34m(\u001b[0m\u001b[0;34m)\u001b[0m\u001b[0;34m.\u001b[0m\u001b[0msystem\u001b[0m\u001b[0;34m(\u001b[0m\u001b[0;34m'git clone https://github.com/Nicordaro/Project_MLDL'\u001b[0m\u001b[0;34m)\u001b[0m\u001b[0;34m\u001b[0m\u001b[0;34m\u001b[0m\u001b[0m\n",
            "\u001b[0;31mNameError\u001b[0m: name 'os' is not defined"
          ]
        }
      ]
    },
    {
      "cell_type": "markdown",
      "metadata": {
        "id": "sqazEUOdZpEb",
        "colab_type": "text"
      },
      "source": [
        "**Imports**\n",
        "\n",
        "---"
      ]
    },
    {
      "cell_type": "code",
      "metadata": {
        "_uuid": "d629ff2d2480ee46fbb7e2d37f6b5fab8052498a",
        "_cell_guid": "79c7e3d0-c299-4dcb-8224-4455121ee9b0",
        "trusted": true,
        "id": "fNgxhFrmdm7d",
        "colab_type": "code",
        "colab": {}
      },
      "source": [
        "import logging\n",
        "import matplotlib.pyplot as plt\n",
        "import numpy as np\n",
        "import os\n",
        "import random\n",
        "import torch\n",
        "import torchvision\n",
        "import torch.nn as nn\n",
        "import torch.optim as optim\n",
        "\n",
        "\n",
        "from PIL import Image\n",
        "from Project_MLDL.CIFAR100_tError import CIFAR100_tError\n",
        "from Project_MLDL.model_finetuning import ResNet18\n",
        "from torch.utils.data import Subset, DataLoader\n",
        "from torch.backends import cudnn\n",
        "from torchvision import transforms\n",
        "from torchvision.models import resnet18\n",
        "from torchvision.models import resnet34\n",
        "from tqdm import tqdm"
      ],
      "execution_count": 0,
      "outputs": []
    },
    {
      "cell_type": "markdown",
      "metadata": {
        "id": "3JqYHsh6ZHw1",
        "colab_type": "text"
      },
      "source": [
        "**Arguments**\n",
        "\n",
        "---\n",
        "\n",
        "\n",
        "\n"
      ]
    },
    {
      "cell_type": "code",
      "metadata": {
        "trusted": true,
        "id": "qCqYt307dm7m",
        "colab_type": "code",
        "colab": {}
      },
      "source": [
        "DEVICE = 'cuda' # 'cuda' or 'cpu'\n",
        "\n",
        "# Init at 10 because first train is on 10 classes\n",
        "NUM_CLASSES = 10\n",
        "\n",
        "# Used for the pseudorandom shuffle of the split\n",
        "SEED = 12\n",
        "\n",
        "BATCH_SIZE = 128     # Higher batch sizes allows for larger learning rates. An empirical heuristic suggests that, when changing\n",
        "                     # the batch size, learning rate should change by the same factor to have comparable results\n",
        "\n",
        "LR = 2         # The initial Learning Rate\n",
        "MOMENTUM = 0.9       # Hyperparameter for SGD, keep this at 0.9 when using SGD\n",
        "WEIGHT_DECAY = 1e-5  # Regularization, you can keep this at the default\n",
        "\n",
        "NUM_EPOCHS = 70     # Total number of training epochs (iterations over dataset)\n",
        "MILESTONES = [48, 62]  # How many epochs before decreasing learning rate (if using a step-down policy)\n",
        "GAMMA = 0.2          # Multiplicative factor for learning rate step-down\n",
        "\n",
        "LOG_FREQUENCY = 50"
      ],
      "execution_count": 0,
      "outputs": []
    },
    {
      "cell_type": "markdown",
      "metadata": {
        "id": "u6t7fLFuZBgF",
        "colab_type": "text"
      },
      "source": [
        "**Transformations definition**\n",
        "\n",
        "---\n",
        "\n"
      ]
    },
    {
      "cell_type": "code",
      "metadata": {
        "trusted": true,
        "id": "pFm2Gxyedm71",
        "colab_type": "code",
        "colab": {}
      },
      "source": [
        "# Define transforms for training phase\n",
        "train_transform = transforms.Compose([transforms.RandomHorizontalFlip(), # Randomly flip the image with probability of 0.5\n",
        "                                      transforms.Pad(4), # Add padding\n",
        "                                      transforms.RandomCrop(32),# Crops a random squares of the image\n",
        "                                      transforms.ToTensor(), # Turn PIL Image to torch.Tensor\n",
        "                                      transforms.Normalize((0.485, 0.456, 0.406), (0.229, 0.224, 0.225))  # https://gist.github.com/weiaicunzai/e623931921efefd4c331622c344d8151\n",
        "])\n",
        "# Define transforms for the evaluation phase\n",
        "eval_transform = transforms.Compose([\n",
        "                                      transforms.ToTensor(),\n",
        "                                      transforms.Normalize((0.485, 0.456, 0.406), (0.229, 0.224, 0.225))                                 \n",
        "])"
      ],
      "execution_count": 0,
      "outputs": []
    },
    {
      "cell_type": "markdown",
      "metadata": {
        "id": "GW30kNv9jlEL",
        "colab_type": "text"
      },
      "source": [
        "*New label function*"
      ]
    },
    {
      "cell_type": "code",
      "metadata": {
        "trusted": true,
        "id": "fXLgSBpedm8C",
        "colab_type": "code",
        "colab": {}
      },
      "source": [
        "DATA_DIR = './CIFAR100'\n",
        "\n",
        "lbls = [i for i in range(0,100)]  #Array of classes integer-encoded (?)\n",
        "random.seed(SEED)\n",
        "random.shuffle(lbls)\n",
        "\n",
        "def make_data_labels(lbls):       #After shuffle, take first 10 classes, and remove the first 10 from the list passed as argument\n",
        "    new_labels=[]\n",
        "    for el in lbls[:10]:\n",
        "        new_labels.append(el)\n",
        "    lbls = lbls[10:]\n",
        "\n",
        "    return lbls, new_labels"
      ],
      "execution_count": 0,
      "outputs": []
    },
    {
      "cell_type": "markdown",
      "metadata": {
        "id": "jigjtgKJYmUU",
        "colab_type": "text"
      },
      "source": [
        "**Network Definition**\n",
        "\n",
        "---"
      ]
    },
    {
      "cell_type": "code",
      "metadata": {
        "trusted": true,
        "id": "K2lCILO5dm8N",
        "colab_type": "code",
        "colab": {}
      },
      "source": [
        "net = ResNet18()\n",
        "best_model = ResNet18()"
      ],
      "execution_count": 0,
      "outputs": []
    },
    {
      "cell_type": "code",
      "metadata": {
        "id": "jSzy6myIQRI-",
        "colab_type": "code",
        "colab": {}
      },
      "source": [
        "def testNet(datasetLength, dataloader, net):\n",
        "    net = net.to(DEVICE) # this will bring the network to GPU if DEVICE is cuda\n",
        "    net.train(False) # Set Network to evaluation mode\n",
        "\n",
        "    running_corrects = 0\n",
        "\n",
        "    for images, labels in dataloader:\n",
        "        images = images.to(DEVICE)\n",
        "        labels = labels.to(DEVICE)\n",
        "\n",
        "    # Forward Pass\n",
        "        outputs = net(images)\n",
        "\n",
        "    # Get predictions\n",
        "        _, preds = torch.max(outputs.data, 1)\n",
        "\n",
        "    #Debugging purpose, print labels of predictions\n",
        "    ##print(preds)\n",
        "\n",
        "    # Update Corrects\n",
        "        running_corrects += torch.sum(preds == labels.data).data.item()\n",
        "\n",
        "    # Calculate Accuracy\n",
        "    accuracy = running_corrects / datasetLength\n",
        "\n",
        "    return accuracy"
      ],
      "execution_count": 0,
      "outputs": []
    },
    {
      "cell_type": "markdown",
      "metadata": {
        "id": "SPoIu2qOYCty",
        "colab_type": "text"
      },
      "source": [
        "**Train, Validation** *not so fair* **and Test**\n",
        "\n",
        "---\n",
        "\n"
      ]
    },
    {
      "cell_type": "code",
      "metadata": {
        "trusted": true,
        "id": "fVxqsJc0dm8S",
        "colab_type": "code",
        "colab": {}
      },
      "source": [
        "import numpy as np\n",
        "import copy\n",
        "BATCH_TO_TEST = 10\n",
        "test_accuracies = []\n",
        "\n",
        "best_eval_accuracy = 0\n",
        "\n",
        "\n",
        "# Define test dataset outside in order to increment it, instead of initializing it every cycle iteration\n",
        "test_dataset = CIFAR100_tError(DATA_DIR, train=False, transform=eval_transform, download=True)\n",
        "for i in range(0,BATCH_TO_TEST): #one iteration for 10 classes\n",
        "    print(f'Starting training with batch {i+1}')\n",
        "    lbls, new_labels = make_data_labels(lbls)\n",
        "  \n",
        "    # Define Train dataset\n",
        "    train_dataset = CIFAR100_tError(DATA_DIR, train=True, transform=train_transform, download=True)       \n",
        "    eval_dataset = CIFAR100_tError(DATA_DIR, train=False, transform=eval_transform, download=True)\n",
        "    # Increment dataset with new labels mapped with list comprehension\n",
        "    train_dataset.increment(new_labels,[j for j in range(0+i*10,10+i*10)])\n",
        "    eval_dataset.increment(new_labels,[j for j in range(0+i*10,10+i*10)])\n",
        "    test_dataset.increment(new_labels,[j for j in range(0+i*10,10+i*10)])\n",
        "\n",
        "    # Define dataloader\n",
        "    train_dataloader = DataLoader(train_dataset, batch_size=BATCH_SIZE, shuffle=True, num_workers=4, drop_last=True)\n",
        "    eval_dataloader = DataLoader(eval_dataset, batch_size=BATCH_SIZE, shuffle=True, num_workers=4)\n",
        "    test_dataloader = DataLoader(test_dataset, batch_size=BATCH_SIZE, shuffle=True, num_workers=4)\n",
        "\n",
        "    #prepare training\n",
        "    # Loss function\n",
        "    criterion = nn.BCEWithLogitsLoss() # for classification, we use Cross Entropy\n",
        "\n",
        "    # Parameters to optimize:\n",
        "    parameters_to_optimize = net.parameters()\n",
        "\n",
        "    # Optimizer\n",
        "    optimizer = optim.SGD(parameters_to_optimize, lr=LR, momentum=MOMENTUM, weight_decay=WEIGHT_DECAY)\n",
        "    # Scheduler\n",
        "    scheduler = optim.lr_scheduler.MultiStepLR(optimizer, milestones=MILESTONES, gamma=GAMMA, last_epoch=-1)\n",
        "\n",
        "    # training \n",
        "    # By default, everything is loaded to cpu\n",
        "    net = net.to(DEVICE) # this will bring the network to GPU if DEVICE is cuda\n",
        "\n",
        "    cudnn.benchmark # Calling this optimizes runtime\n",
        "\n",
        "    current_step = 0\n",
        "\n",
        "    # Start iterating over the epochs\n",
        "    for epoch in range(NUM_EPOCHS):\n",
        "      print('Starting epoch {}/{}, LR = {}'.format(epoch+1, NUM_EPOCHS, scheduler.get_last_lr()))\n",
        "    \n",
        "        # Iterate over the dataset\n",
        "      for images, labels in train_dataloader:\n",
        "          # Bring data over the device of choice\n",
        "          images = images.to(DEVICE)\n",
        "          labels = labels.to(DEVICE)\n",
        "\n",
        "          net.train() # Sets module in training mode\n",
        "\n",
        "          # PyTorch, by default, accumulates gradients after each backward pass\n",
        "          # We need to manually set the gradients to zero before starting a new iteration\n",
        "          optimizer.zero_grad() # Zero-ing the gradients\n",
        "\n",
        "          # Forward pass to the network\n",
        "          outputs = net(images)\n",
        "    \n",
        "          # One hot encoding labels for binary cross-entropy loss\n",
        "          labels_onehot = nn.functional.one_hot(labels,100)\n",
        "          labels_onehot = labels_onehot.type_as(outputs)\n",
        "\n",
        "          loss = criterion(outputs, labels_onehot)\n",
        "    \n",
        "          if current_step % LOG_FREQUENCY == 0:\n",
        "              print('Step {}, Loss {}'.format(current_step, loss.item()))\n",
        "\n",
        "      # Compute gradients for each layer and update weights\n",
        "          loss.backward()  # backward pass: computes gradients\n",
        "          optimizer.step() # update weights based on accumulated gradients\n",
        "          current_step += 1\n",
        "    \t  # Validation    \n",
        "      eval_accuracy = testNet(float(len(eval_dataset)), eval_dataloader, net)\n",
        "      if eval_accuracy > best_eval_accuracy:\n",
        "        best_eval_accuracy = eval_accuracy\n",
        "        best_model = copy.deepcopy(net)\n",
        "        print('Validation Accuracy: {}'.format(eval_accuracy))\n",
        "\n",
        "\n",
        "        # Step the scheduler\n",
        "      scheduler.step()\n",
        "\n",
        "    #test phase\n",
        "    test_accuracy = testNet(float(len(test_dataset)), test_dataloader, best_model)\n",
        "    test_accuracies.append(test_accuracy)\n",
        "    print('Test Accuracy: {}'.format(test_accuracy))"
      ],
      "execution_count": 0,
      "outputs": []
    },
    {
      "cell_type": "markdown",
      "metadata": {
        "id": "Qaeqgqc2Xr1r",
        "colab_type": "text"
      },
      "source": [
        "**Define plot function**\n",
        "\n",
        "---\n",
        "\n"
      ]
    },
    {
      "cell_type": "code",
      "metadata": {
        "id": "rr8d6IXeXrJt",
        "colab_type": "code",
        "colab": {}
      },
      "source": [
        "def accuracy_plot(accuracies):\n",
        "  ### FOR MEAN STD PLOT https://stackoverflow.com/questions/22481854/plot-mean-and-standard-deviation\n",
        "  from scipy import interpolate\n",
        "\n",
        "  tck,u     = interpolate.splprep( [[i*10 for i in range(1,len(accuracies)+1)],accuracies] ,s = 0 )\n",
        "  xnew,ynew = interpolate.splev( np.linspace( 0, 1, 100 ), tck,der = 0)\n",
        "\n",
        "  fig, ax = plt.subplots(figsize=(15,14), facecolor='white')\n",
        "\n",
        "  plt.rc('font', size=20)\n",
        "  plt.plot( [i*10 for i in range(1,len(accuracies)+1)],accuracies,'.' , xnew ,ynew, label = \"accuracy\", c='orange' )\n",
        "  ax.set_ylabel(\"Accuracy\")\n",
        "  ax.set_xlabel(\"Classes\")\n",
        "  ax.minorticks_on()\n",
        "  plt.title(\"Accuracies obtained with finetuning of a ResNet network\")\n",
        "  plt.yticks(np.arange(0, 1.1, .1))\n",
        "  plt.xticks(np.arange(0, 110, 10))\n",
        "  plt.grid(axis='y',which='major', linestyle='-', linewidth='0.5', color='black') \n",
        "  plt.grid(axis='y',which='minor', linestyle=':', linewidth='0.5', color='grey')\n",
        "  for in_i, in_j in zip([i*10 for i in range(1,len(accuracies)+1)], accuracies):  # Plot also the value of the point close to it\n",
        "          ax.annotate(str(round(in_j, 3)), xy=(in_i, in_j))\n",
        "\n",
        "  plt.savefig('test.png', format='png', dpi=300)\n",
        "  plt.show()"
      ],
      "execution_count": 0,
      "outputs": []
    },
    {
      "cell_type": "markdown",
      "metadata": {
        "id": "VphrtfF8XqsN",
        "colab_type": "text"
      },
      "source": [
        "*Print & Plot*"
      ]
    },
    {
      "cell_type": "code",
      "metadata": {
        "trusted": true,
        "id": "6Asycu5ddm8X",
        "colab_type": "code",
        "colab": {}
      },
      "source": [
        "print(test_accuracies)\n",
        "\n",
        "accuracy_plot(test_accuracies)\n",
        "#obtained [0.844, 0.4525, 0.2976666666666667, 0.224, 0.1808, 0.1535, 0.125, 0.113625, 0.10577777777777778, 0.0929]"
      ],
      "execution_count": 0,
      "outputs": []
    }
  ]
}