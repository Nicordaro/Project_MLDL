{
  "nbformat": 4,
  "nbformat_minor": 0,
  "metadata": {
    "kernelspec": {
      "language": "python",
      "display_name": "Python 3",
      "name": "python3"
    },
    "language_info": {
      "pygments_lexer": "ipython3",
      "nbconvert_exporter": "python",
      "version": "3.6.4",
      "file_extension": ".py",
      "codemirror_mode": {
        "name": "ipython",
        "version": 3
      },
      "name": "python",
      "mimetype": "text/x-python"
    },
    "colab": {
      "name": "Copy_of_main_icarl_marco.ipynb",
      "provenance": [],
      "include_colab_link": true
    }
  },
  "cells": [
    {
      "cell_type": "markdown",
      "metadata": {
        "id": "view-in-github",
        "colab_type": "text"
      },
      "source": [
        "<a href=\"https://colab.research.google.com/github/Nicordaro/Project_MLDL/blob/master/Copy_of_main_icarl_marco.ipynb\" target=\"_parent\"><img src=\"https://colab.research.google.com/assets/colab-badge.svg\" alt=\"Open In Colab\"/></a>"
      ]
    },
    {
      "cell_type": "markdown",
      "metadata": {
        "id": "3WxaZRunY184",
        "colab_type": "text"
      },
      "source": [
        "*Cloning files needed*"
      ]
    },
    {
      "cell_type": "code",
      "metadata": {
        "trusted": true,
        "id": "fP5vAuX9dm75",
        "outputId": "358112ea-f4d5-4356-aee2-7aac29ffe117",
        "colab_type": "code",
        "colab": {}
      },
      "source": [
        "import os\n",
        "# Clone github repository with data\n",
        "# if os.path.isdir('./Project_MLDL'):\n",
        "!rm -rf Project_MLDL\n",
        "if not os.path.isdir('./CIFAR100_tError'):\n",
        "  !git clone https://github.com/Nicordaro/Project_MLDL\n"
      ],
      "execution_count": 0,
      "outputs": [
        {
          "output_type": "stream",
          "text": [
            "Cloning into 'Project_MLDL'...\n",
            "remote: Enumerating objects: 35, done.\u001b[K\n",
            "remote: Counting objects: 100% (35/35), done.\u001b[K\n",
            "remote: Compressing objects: 100% (35/35), done.\u001b[K\n",
            "remote: Total 255 (delta 21), reused 0 (delta 0), pack-reused 220\u001b[K\n",
            "Receiving objects: 100% (255/255), 899.89 KiB | 2.29 MiB/s, done.\n",
            "Resolving deltas: 100% (128/128), done.\n"
          ],
          "name": "stdout"
        }
      ]
    },
    {
      "cell_type": "markdown",
      "metadata": {
        "id": "sqazEUOdZpEb",
        "colab_type": "text"
      },
      "source": [
        "**Imports**\n",
        "\n",
        "---"
      ]
    },
    {
      "cell_type": "code",
      "metadata": {
        "_uuid": "d629ff2d2480ee46fbb7e2d37f6b5fab8052498a",
        "_cell_guid": "79c7e3d0-c299-4dcb-8224-4455121ee9b0",
        "trusted": true,
        "id": "fNgxhFrmdm7d",
        "colab_type": "code",
        "colab": {}
      },
      "source": [
        "import logging\n",
        "import matplotlib.pyplot as plt\n",
        "import numpy as np\n",
        "import random\n",
        "import torch\n",
        "import torchvision\n",
        "import torch.nn as nn\n",
        "import torch.optim as optim\n",
        "\n",
        "\n",
        "from PIL import Image\n",
        "from Project_MLDL.CIFAR100_tError import CIFAR100_tError\n",
        "from Project_MLDL.model_finetuning import ResNet18\n",
        "from torch.utils.data import Subset, DataLoader\n",
        "from torch.backends import cudnn\n",
        "from torchvision import transforms\n",
        "from torchvision.models import resnet18\n",
        "from torchvision.models import resnet34\n",
        "from tqdm import tqdm"
      ],
      "execution_count": 0,
      "outputs": []
    },
    {
      "cell_type": "markdown",
      "metadata": {
        "id": "3JqYHsh6ZHw1",
        "colab_type": "text"
      },
      "source": [
        "**Arguments**\n",
        "\n",
        "---\n",
        "\n",
        "\n",
        "\n"
      ]
    },
    {
      "cell_type": "code",
      "metadata": {
        "trusted": true,
        "id": "qCqYt307dm7m",
        "colab_type": "code",
        "colab": {}
      },
      "source": [
        "DEVICE = 'cuda' # 'cuda' or 'cpu'\n",
        "\n",
        "# Init at 10 because first train is on 10 classes\n",
        "NUM_CLASSES = 10\n",
        "\n",
        "# Used for the pseudorandom shuffle of the split\n",
        "SEED = 12\n",
        "\n",
        "BATCH_SIZE = 128     # Higher batch sizes allows for larger learning rates. An empirical heuristic suggests that, when changing\n",
        "                     # the batch size, learning rate should change by the same factor to have comparable results\n",
        "\n",
        "LR = 2         # The initial Learning Rate\n",
        "MOMENTUM = 0.9       # Hyperparameter for SGD, keep this at 0.9 when using SGD\n",
        "WEIGHT_DECAY = 1e-5  # Regularization, you can keep this at the default\n",
        "\n",
        "NUM_EPOCHS = 70     # Total number of training epochs (iterations over dataset)\n",
        "MILESTONES = [48, 62]  # How many epochs before decreasing learning rate (if using a step-down policy)\n",
        "GAMMA = 0.2          # Multiplicative factor for learning rate step-down\n",
        "\n",
        "LOG_FREQUENCY = 50"
      ],
      "execution_count": 0,
      "outputs": []
    },
    {
      "cell_type": "markdown",
      "metadata": {
        "id": "u6t7fLFuZBgF",
        "colab_type": "text"
      },
      "source": [
        "**Transformations definition**\n",
        "\n",
        "---\n",
        "\n"
      ]
    },
    {
      "cell_type": "code",
      "metadata": {
        "trusted": true,
        "id": "pFm2Gxyedm71",
        "colab_type": "code",
        "colab": {}
      },
      "source": [
        "# Define transforms for training phase\n",
        "train_transform = transforms.Compose([transforms.RandomHorizontalFlip(), # Randomly flip the image with probability of 0.5\n",
        "                                      transforms.Pad(4), # Add padding\n",
        "                                      transforms.RandomCrop(32),# Crops a random squares of the image\n",
        "                                      transforms.ToTensor(), # Turn PIL Image to torch.Tensor\n",
        "                                      transforms.Normalize((0.485, 0.456, 0.406), (0.229, 0.224, 0.225))  # https://gist.github.com/weiaicunzai/e623931921efefd4c331622c344d8151\n",
        "])\n",
        "# Define transforms for the evaluation phase\n",
        "eval_transform = transforms.Compose([\n",
        "                                      transforms.ToTensor(),\n",
        "                                      transforms.Normalize((0.485, 0.456, 0.406), (0.229, 0.224, 0.225))                                 \n",
        "])"
      ],
      "execution_count": 0,
      "outputs": []
    },
    {
      "cell_type": "markdown",
      "metadata": {
        "id": "GW30kNv9jlEL",
        "colab_type": "text"
      },
      "source": [
        "*New label function*"
      ]
    },
    {
      "cell_type": "code",
      "metadata": {
        "trusted": true,
        "id": "fXLgSBpedm8C",
        "colab_type": "code",
        "colab": {}
      },
      "source": [
        "DATA_DIR = './CIFAR100'\n",
        "\n",
        "lbls = [i for i in range(0,100)]  #Array of classes integer-encoded (?)\n",
        "random.seed(SEED)\n",
        "random.shuffle(lbls)\n",
        "\n",
        "def make_data_labels(lbls):       #After shuffle, take first 10 classes, and remove the first 10 from the list passed as argument\n",
        "    new_labels=[]\n",
        "    for el in lbls[:10]:\n",
        "        new_labels.append(el)\n",
        "    lbls = lbls[10:]\n",
        "\n",
        "    return lbls, new_labels"
      ],
      "execution_count": 0,
      "outputs": []
    },
    {
      "cell_type": "code",
      "metadata": {
        "id": "FmirquleWTnE",
        "trusted": true,
        "colab_type": "code",
        "colab": {}
      },
      "source": [
        "import torch\n",
        "import torch.nn as nn\n",
        "import torch.optim as optim\n",
        "from torch.utils.data import DataLoader\n",
        "\n",
        "class iCaRL(nn.Module):\n",
        "  def __init__(self):\n",
        "    super(iCaRL, self).__init__()\n",
        "\n",
        "    self.feature_extractor = ResNet18()\n",
        "    self.feature_extractor.linear = nn.Linear(512, 2048)\n",
        "    self.relu = nn.ReLU()\n",
        "    self.fc = nn.Linear(2048, 100)\n",
        "\n",
        "    self.cls_loss = nn.BCEWithLogitsLoss()\n",
        "    self.dist_loss = nn.BCELoss()\n",
        "\n",
        "    self.optimizer = optim.SGD(self.parameters(), lr=2, weight_decay=1e-5, momentum=0.9)\n",
        "\n",
        "    self.exemplar_sets=[]\n",
        "    self.exemplars_means=[]\n",
        "\n",
        "  def forward(self, x):\n",
        "    x = self.feature_extractor(x)\n",
        "    #x = nn.functional.norm(x)\n",
        "    x = self.relu(x)\n",
        "    x = self.fc(x)\n",
        "    return x\n",
        "\n",
        "  def classify(self, x):\n",
        "    \n",
        "    # x is a batch (128,3,32,32)\n",
        "    exemplar_means = []\n",
        "\n",
        "    # Compute exemplar means\n",
        "    for Py in self.exemplar_sets:\n",
        "      features=[]\n",
        "      for p in Py:\n",
        "        feature = self.feature_extractor(p.to(DEVICE))\n",
        "        features.append(feature)\n",
        "      features = torch.stack(features)\n",
        "      mu_y = features.mean(0) # compute the mean for class y\n",
        "      mu_y.data = mu_y.data / mu_y.data.norm() # Normalize\n",
        "      exemplar_means.append(mu_y) # array of means, one for each class\n",
        "\n",
        "    self.exemplar_means = exemplar_means #update array of exemplar means\n",
        "    size = x.size(0)\n",
        "    means = torch.cat(exemplar_means,dim=0) # (n_classes, feature_size)\n",
        "    means = torch.stack([means]*size) #(128,7,2048)\n",
        "    means = means.transpose(1, 2) #(128,2048,7)\n",
        "    feature_x = self.feature_extractor(x) # (128,2048)\n",
        "\n",
        "    # normalize \n",
        "    feature_x.data = feature_x.data/ feature_x.data.norm()\n",
        "\n",
        "    feature_x = feature_x.unsqueeze(2) # (batch_size, feature_size, 1)\n",
        "    feature_x = feature_x.expand_as(means) # (batch_size, feature_size, n_classes)\n",
        "\n",
        "    # find the nearest prototype\n",
        "    labels = torch.argmin((feature_x - means).pow(2).sum(1),dim=1)\n",
        "\n",
        "    return labels\n",
        "\n",
        "  def reduce_exemplar_sets(self,m):\n",
        "    for y, P_y in enumerate(self.exemplar_sets):\n",
        "      m = int(m)\n",
        "      self.exemplar_sets[y] = P_y[:m]\n",
        "  \n",
        "  def construct_exemplar_set(self,X,m):\n",
        "    \n",
        "    # X dataset containing all elements of class y\n",
        "\n",
        "    loader = DataLoader(X,128,True,drop_last=False,num_workers = 4) # create dataloader\n",
        "\n",
        "    features = []\n",
        "    for images,labels in loader:\n",
        "      images = images.to(DEVICE)\n",
        "      labels = labels.to(DEVICE)\n",
        "      feature = self.feature_extractor(images) #(batchsize, 2048)\n",
        "      features.append(feature)\n",
        "\n",
        "    features_stacked = torch.cat(features)# (size,2048)\n",
        "    mean = features_stacked.mean(0) #current class mean (1,2048)\n",
        "    mean = torch.stack([mean]*features_stacked.size()[0]) # (size,2048)\n",
        "     \n",
        "\n",
        "    P = [] # exemplar set\n",
        "    for k in range(1,int(m+1)):\n",
        "      s = torch.zeros(1,2048).to(DEVICE)\n",
        "      for j in range(1,k):\n",
        "        s = s + self.feature_extractor(P[j-1].to(DEVICE))\n",
        "      s = torch.cat([s]*features_stacked.size()[0])\n",
        "      index = torch.argmin((mean-(1/k)*(features_stacked+s)).pow(2).sum(1),dim=0)\n",
        "      pk = X[index.item()][0].unsqueeze(dim=0)\n",
        "      P.append(pk)\n",
        "     \n",
        "    self.exemplar_sets.append(P)\n",
        "\n",
        "  def update_representation(self,X):\n",
        "    # parameters = self.parameters()\n",
        "    training = [] \n",
        "    # add exemplar set to training set\n",
        "\n",
        "    # creation of ordered training e.g. classes 0-9, 10-19\n",
        "    index = 0\n",
        "    for i in range(0, len(self.exemplar_sets)):\n",
        "      for tensor_img in self.exemplar_sets[i]:\n",
        "        training.append((tensor_img.squeeze(), i,index))\n",
        "        index += 1\n",
        "    for img_class in X:\n",
        "      for image, label in img_class:\n",
        "        training.append((image, label,index))\n",
        "        index += 1\n",
        "    \n",
        "    # create total_loader from the new training set\n",
        "    self = self.to(DEVICE)\n",
        "    train_dataloader = DataLoader(training, batch_size=BATCH_SIZE, shuffle=True, num_workers=4, drop_last=True)\n",
        "    q = torch.zeros(len(training),100).to(DEVICE)\n",
        "    for images,labels,indices in train_dataloader:\n",
        "      images = images.to(DEVICE)\n",
        "      labels = labels.to(DEVICE)\n",
        "      indices = indices.to(DEVICE)\n",
        "      g = torch.sigmoid(self.forward(images))\n",
        "      q[indices] = g.data\n",
        "\n",
        "    # training su total_loader\n",
        "\n",
        "    # Optimizer\n",
        "    optimizer = self.optimizer\n",
        "    # Scheduler\n",
        "    scheduler = optim.lr_scheduler.MultiStepLR(optimizer, milestones=MILESTONES, gamma=GAMMA, last_epoch=-1)\n",
        "\n",
        "    cudnn.benchmark # Calling this optimizes runtime\n",
        "\n",
        "    current_step = 0\n",
        "    # Start iterating over the epochs\n",
        "    for epoch in range(10):\n",
        "      print('Starting epoch {}/{}, LR = {}'.format(epoch+1, NUM_EPOCHS, scheduler.get_last_lr()))\n",
        "    \n",
        "        # Iterate over the dataset\n",
        "      for images, labels,indices in train_dataloader:\n",
        "          # Bring data over the device of choice\n",
        "          images = images.to(DEVICE)\n",
        "          labels = labels.to(DEVICE)\n",
        "          indices = indices.to(DEVICE)\n",
        "          # PyTorch, by default, accumulates gradients after each backward pass\n",
        "          # We need to manually set the gradients to zero before starting a new iteration\n",
        "          optimizer.zero_grad() # Zero-ing the gradients\n",
        "\n",
        "          # Forward pass to the network\n",
        "          outputs = self.forward(images)\n",
        "    \n",
        "          # One hot encoding labels for binary cross-entropy loss\n",
        "          labels_onehot = nn.functional.one_hot(labels,100)\n",
        "          labels_onehot = labels_onehot.type_as(outputs)\n",
        "          criterion = self.cls_loss\n",
        "          loss = criterion(outputs, labels_onehot)\n",
        "          \n",
        "          distillation = 0\n",
        "          g = torch.sigmoid(outputs)\n",
        "          qi = q[indices]\n",
        "          for y in range(0,len(self.exemplar_sets)):\n",
        "            distillation += self.dist_loss(g[:,y],qi[:,y])\n",
        "          loss += distillation\n",
        "    \n",
        "          if current_step % LOG_FREQUENCY == 0:\n",
        "              print('Step {}, Loss {}'.format(current_step, loss.item()))\n",
        "\n",
        "      # Compute gradients for each layer and update weights\n",
        "          loss.backward()  # backward pass: computes gradients\n",
        "          optimizer.step() # update weights based on accumulated gradients\n",
        "          current_step += 1\n",
        "\n",
        "        # Step the scheduler\n",
        "      scheduler.step()\n"
      ],
      "execution_count": 0,
      "outputs": []
    },
    {
      "cell_type": "code",
      "metadata": {
        "id": "rfFKyVwGi8pr",
        "outputId": "6f8c4728-7a9a-4e6f-8de4-33a29ad2fb58",
        "trusted": true,
        "colab_type": "code",
        "colab": {}
      },
      "source": [
        "net = iCaRL()\n",
        "K = 50\n",
        "t = 0\n",
        "test_dataset = CIFAR100_tError(DATA_DIR, train=False, transform=eval_transform, download=True)\n",
        "for i in range(0,10): # batches of 10\n",
        "  print(f\"processing batch {i+1}\")\n",
        "  #Create Datasets\n",
        "  train_datasets = []\n",
        "  # take 10 new classes\n",
        "  lbls, new_labels = make_data_labels(lbls)\n",
        "  for num,label in enumerate(new_labels):\n",
        "    train_dataset = CIFAR100_tError(DATA_DIR, train=True, transform=train_transform, download=True)\n",
        "    train_dataset.increment([label],[t])\n",
        "    test_dataset.increment([label],[t])\n",
        "    train_datasets.append(train_dataset) # List of training examples in per class sets\n",
        "    test_dataloader = DataLoader(test_dataset,batch_size=BATCH_SIZE,shuffle=True,num_workers=4)\n",
        "    t += 1\n",
        "  net.update_representation(train_datasets)\n",
        "  m = K/t #numbers of exemplars per class\n",
        "  net.reduce_exemplar_sets(m)\n",
        "  for X in train_datasets:\n",
        "    net.construct_exemplar_set(X,m) #new exemplar sets\n",
        "  # Test on Test set\n",
        "  running_corrects = 0\n",
        "  for images,labels in test_dataloader:\n",
        "    images = images.to(DEVICE)\n",
        "    labels = labels.to(DEVICE)\n",
        "    preds = net.classify(images)\n",
        "    running_corrects += torch.sum(preds == labels.data).data.item()\n",
        "    accuracy = running_corrects / float(len(test_dataset))\n",
        "  print(f\"Test Accuracy: {accuracy}\")"
      ],
      "execution_count": 0,
      "outputs": [
        {
          "output_type": "stream",
          "text": [
            "Files already downloaded and verified\n",
            "processing batch 1\n",
            "Files already downloaded and verified\n",
            "Files already downloaded and verified\n",
            "Files already downloaded and verified\n",
            "Files already downloaded and verified\n",
            "Files already downloaded and verified\n",
            "Files already downloaded and verified\n",
            "Files already downloaded and verified\n",
            "Files already downloaded and verified\n",
            "Files already downloaded and verified\n",
            "Files already downloaded and verified\n",
            "Starting epoch 1/70, LR = [2]\n",
            "Step 0, Loss 0.6948939561843872\n",
            "Starting epoch 2/70, LR = [2]\n",
            "Step 50, Loss 0.03407028689980507\n",
            "Starting epoch 3/70, LR = [2]\n",
            "Step 100, Loss 0.03131256252527237\n",
            "Test Accuracy: 0.118\n",
            "processing batch 2\n",
            "Files already downloaded and verified\n",
            "Files already downloaded and verified\n",
            "Files already downloaded and verified\n",
            "Files already downloaded and verified\n",
            "Files already downloaded and verified\n",
            "Files already downloaded and verified\n",
            "Files already downloaded and verified\n",
            "Files already downloaded and verified\n",
            "Files already downloaded and verified\n",
            "Files already downloaded and verified\n",
            "Starting epoch 1/70, LR = [2]\n",
            "Step 0, Loss 3.067613124847412\n",
            "Starting epoch 2/70, LR = [2]\n",
            "Step 50, Loss 654.7756958007812\n",
            "Starting epoch 3/70, LR = [2]\n",
            "Step 100, Loss 8.10361385345459\n"
          ],
          "name": "stdout"
        },
        {
          "output_type": "error",
          "ename": "TypeError",
          "evalue": "slice indices must be integers or None or have an __index__ method",
          "traceback": [
            "\u001b[0;31m---------------------------------------------------------------------------\u001b[0m",
            "\u001b[0;31mTypeError\u001b[0m                                 Traceback (most recent call last)",
            "\u001b[0;32m<ipython-input-29-13851f922eeb>\u001b[0m in \u001b[0;36m<module>\u001b[0;34m\u001b[0m\n\u001b[1;32m     18\u001b[0m   \u001b[0mnet\u001b[0m\u001b[0;34m.\u001b[0m\u001b[0mupdate_representation\u001b[0m\u001b[0;34m(\u001b[0m\u001b[0mtrain_datasets\u001b[0m\u001b[0;34m)\u001b[0m\u001b[0;34m\u001b[0m\u001b[0;34m\u001b[0m\u001b[0m\n\u001b[1;32m     19\u001b[0m   \u001b[0mm\u001b[0m \u001b[0;34m=\u001b[0m \u001b[0mK\u001b[0m\u001b[0;34m/\u001b[0m\u001b[0mt\u001b[0m \u001b[0;31m#numbers of exemplars per class\u001b[0m\u001b[0;34m\u001b[0m\u001b[0;34m\u001b[0m\u001b[0m\n\u001b[0;32m---> 20\u001b[0;31m   \u001b[0mnet\u001b[0m\u001b[0;34m.\u001b[0m\u001b[0mreduce_exemplar_sets\u001b[0m\u001b[0;34m(\u001b[0m\u001b[0mm\u001b[0m\u001b[0;34m)\u001b[0m\u001b[0;34m\u001b[0m\u001b[0;34m\u001b[0m\u001b[0m\n\u001b[0m\u001b[1;32m     21\u001b[0m   \u001b[0;32mfor\u001b[0m \u001b[0mX\u001b[0m \u001b[0;32min\u001b[0m \u001b[0mtrain_datasets\u001b[0m\u001b[0;34m:\u001b[0m\u001b[0;34m\u001b[0m\u001b[0;34m\u001b[0m\u001b[0m\n\u001b[1;32m     22\u001b[0m     \u001b[0mnet\u001b[0m\u001b[0;34m.\u001b[0m\u001b[0mconstruct_exemplar_set\u001b[0m\u001b[0;34m(\u001b[0m\u001b[0mX\u001b[0m\u001b[0;34m,\u001b[0m\u001b[0mm\u001b[0m\u001b[0;34m)\u001b[0m \u001b[0;31m#new exemplar sets\u001b[0m\u001b[0;34m\u001b[0m\u001b[0;34m\u001b[0m\u001b[0m\n",
            "\u001b[0;32m<ipython-input-28-d17bb6f0c8f0>\u001b[0m in \u001b[0;36mreduce_exemplar_sets\u001b[0;34m(self, m)\u001b[0m\n\u001b[1;32m     64\u001b[0m   \u001b[0;32mdef\u001b[0m \u001b[0mreduce_exemplar_sets\u001b[0m\u001b[0;34m(\u001b[0m\u001b[0mself\u001b[0m\u001b[0;34m,\u001b[0m\u001b[0mm\u001b[0m\u001b[0;34m)\u001b[0m\u001b[0;34m:\u001b[0m\u001b[0;34m\u001b[0m\u001b[0;34m\u001b[0m\u001b[0m\n\u001b[1;32m     65\u001b[0m     \u001b[0;32mfor\u001b[0m \u001b[0my\u001b[0m\u001b[0;34m,\u001b[0m \u001b[0mP_y\u001b[0m \u001b[0;32min\u001b[0m \u001b[0menumerate\u001b[0m\u001b[0;34m(\u001b[0m\u001b[0mself\u001b[0m\u001b[0;34m.\u001b[0m\u001b[0mexemplar_sets\u001b[0m\u001b[0;34m)\u001b[0m\u001b[0;34m:\u001b[0m\u001b[0;34m\u001b[0m\u001b[0;34m\u001b[0m\u001b[0m\n\u001b[0;32m---> 66\u001b[0;31m       \u001b[0mself\u001b[0m\u001b[0;34m.\u001b[0m\u001b[0mexemplar_sets\u001b[0m\u001b[0;34m[\u001b[0m\u001b[0my\u001b[0m\u001b[0;34m]\u001b[0m \u001b[0;34m=\u001b[0m \u001b[0mP_y\u001b[0m\u001b[0;34m[\u001b[0m\u001b[0;34m:\u001b[0m\u001b[0mm\u001b[0m\u001b[0;34m]\u001b[0m\u001b[0;34m\u001b[0m\u001b[0;34m\u001b[0m\u001b[0m\n\u001b[0m\u001b[1;32m     67\u001b[0m \u001b[0;34m\u001b[0m\u001b[0m\n\u001b[1;32m     68\u001b[0m   \u001b[0;32mdef\u001b[0m \u001b[0mconstruct_exemplar_set\u001b[0m\u001b[0;34m(\u001b[0m\u001b[0mself\u001b[0m\u001b[0;34m,\u001b[0m\u001b[0mX\u001b[0m\u001b[0;34m,\u001b[0m\u001b[0mm\u001b[0m\u001b[0;34m)\u001b[0m\u001b[0;34m:\u001b[0m\u001b[0;34m\u001b[0m\u001b[0;34m\u001b[0m\u001b[0m\n",
            "\u001b[0;31mTypeError\u001b[0m: slice indices must be integers or None or have an __index__ method"
          ]
        }
      ]
    },
    {
      "cell_type": "code",
      "metadata": {
        "trusted": true,
        "id": "jHCPPXuMWVFz",
        "colab_type": "code",
        "colab": {},
        "outputId": "20bb4c76-e0e8-4a02-b6d2-504d3c0f9b51"
      },
      "source": [
        "x = [1,2,3]\n",
        "x[:2]"
      ],
      "execution_count": 0,
      "outputs": [
        {
          "output_type": "execute_result",
          "data": {
            "text/plain": [
              "[1, 2]"
            ]
          },
          "metadata": {
            "tags": []
          },
          "execution_count": 31
        }
      ]
    },
    {
      "cell_type": "code",
      "metadata": {
        "trusted": true,
        "id": "exoyYk7dWVF5",
        "colab_type": "code",
        "colab": {}
      },
      "source": [
        "preds.size()"
      ],
      "execution_count": 0,
      "outputs": []
    },
    {
      "cell_type": "markdown",
      "metadata": {
        "id": "Qaeqgqc2Xr1r",
        "colab_type": "text"
      },
      "source": [
        "**Define plot function**\n",
        "\n",
        "---\n",
        "\n"
      ]
    },
    {
      "cell_type": "code",
      "metadata": {
        "id": "rr8d6IXeXrJt",
        "trusted": true,
        "colab_type": "code",
        "colab": {}
      },
      "source": [
        "def accuracy_plot(accuracies):\n",
        "  ### FOR MEAN STD PLOT https://stackoverflow.com/questions/22481854/plot-mean-and-standard-deviation\n",
        "  from scipy import interpolate\n",
        "\n",
        "  tck,u     = interpolate.splprep( [[i*10 for i in range(1,len(accuracies)+1)],accuracies] ,s = 0 )\n",
        "  xnew,ynew = interpolate.splev( np.linspace( 0, 1, 100 ), tck,der = 0)\n",
        "\n",
        "  fig, ax = plt.subplots(figsize=(15,14), facecolor='white')\n",
        "\n",
        "  plt.rc('font', size=20)\n",
        "  plt.plot( [i*10 for i in range(1,len(accuracies)+1)],accuracies,'.' , xnew ,ynew, label = \"accuracy\", c='orange' )\n",
        "  ax.set_ylabel(\"Accuracy\")\n",
        "  ax.set_xlabel(\"Classes\")\n",
        "  ax.minorticks_on()\n",
        "  plt.title(\"Accuracies obtained with finetuning of a ResNet network\")\n",
        "  plt.yticks(np.arange(0, 1.1, .1))\n",
        "  plt.xticks(np.arange(0, 110, 10))\n",
        "  plt.grid(axis='y',which='major', linestyle='-', linewidth='0.5', color='black') \n",
        "  plt.grid(axis='y',which='minor', linestyle=':', linewidth='0.5', color='grey')\n",
        "  for in_i, in_j in zip([i*10 for i in range(1,len(accuracies)+1)], accuracies):  # Plot also the value of the point close to it\n",
        "          ax.annotate(str(round(in_j, 3)), xy=(in_i, in_j))\n",
        "\n",
        "  plt.savefig('test.png', format='png', dpi=300)\n",
        "  plt.show()"
      ],
      "execution_count": 0,
      "outputs": []
    },
    {
      "cell_type": "markdown",
      "metadata": {
        "id": "VphrtfF8XqsN",
        "colab_type": "text"
      },
      "source": [
        "*Print & Plot*"
      ]
    },
    {
      "cell_type": "code",
      "metadata": {
        "trusted": true,
        "id": "6Asycu5ddm8X",
        "colab_type": "code",
        "colab": {}
      },
      "source": [
        "print(test_accuracies)\n",
        "\n",
        "accuracy_plot(test_accuracies)\n"
      ],
      "execution_count": 0,
      "outputs": []
    },
    {
      "cell_type": "code",
      "metadata": {
        "trusted": true,
        "id": "qBfAQVYBWVGQ",
        "colab_type": "code",
        "colab": {}
      },
      "source": [
        ""
      ],
      "execution_count": 0,
      "outputs": []
    }
  ]
}