{
  "nbformat": 4,
  "nbformat_minor": 0,
  "metadata": {
    "colab": {
      "name": "LWF by Alb.ipynb",
      "provenance": [],
      "authorship_tag": "ABX9TyOaMdqZLPd7QHwono8YMwZP",
      "include_colab_link": true
    },
    "kernelspec": {
      "name": "python3",
      "display_name": "Python 3"
    }
  },
  "cells": [
    {
      "cell_type": "markdown",
      "metadata": {
        "id": "view-in-github",
        "colab_type": "text"
      },
      "source": [
        "<a href=\"https://colab.research.google.com/github/Nicordaro/Project_MLDL/blob/master/LWF_by_Alb.ipynb\" target=\"_parent\"><img src=\"https://colab.research.google.com/assets/colab-badge.svg\" alt=\"Open In Colab\"/></a>"
      ]
    },
    {
      "cell_type": "code",
      "metadata": {
        "id": "mKQgc-i5v8lV",
        "colab_type": "code",
        "colab": {}
      },
      "source": [
        "import os\n",
        "# Clone github repository with data\n",
        "# if os.path.isdir('./Project_MLDL'):\n",
        "!rm -rf Project_MLDL\n",
        "if not os.path.isdir('./CIFAR100_tError'):\n",
        "  !git clone https://github.com/Nicordaro/Project_MLDL"
      ],
      "execution_count": 0,
      "outputs": []
    },
    {
      "cell_type": "code",
      "metadata": {
        "id": "EVBnS0nqwLAk",
        "colab_type": "code",
        "colab": {}
      },
      "source": [
        "import logging\n",
        "import matplotlib.pyplot as plt\n",
        "import numpy as np\n",
        "import random\n",
        "import torch\n",
        "import torchvision\n",
        "import torch.nn as nn\n",
        "import torch.optim as optim\n",
        "import time\n",
        "import gc\n",
        "\n",
        "\n",
        "\n",
        "from PIL import Image\n",
        "from Project_MLDL.CIFAR100_tError import CIFAR100_tError\n",
        "from Project_MLDL.model_finetuning import ResNet18\n",
        "from torch.utils.data import Subset, DataLoader\n",
        "from torch.backends import cudnn\n",
        "from torchvision import transforms\n",
        "from torchvision.models import resnet18\n",
        "from torchvision.models import resnet34\n",
        "from tqdm import tqdm\n",
        "\n",
        "# Garbage collector\n",
        "gc.enable()"
      ],
      "execution_count": 0,
      "outputs": []
    },
    {
      "cell_type": "code",
      "metadata": {
        "id": "lHLoP9gWwL_k",
        "colab_type": "code",
        "colab": {}
      },
      "source": [
        "DEVICE = 'cuda' # 'cuda' or 'cpu'\n",
        "\n",
        "# Init at 10 because first train is on 10 classes\n",
        "NUM_CLASSES = 10\n",
        "\n",
        "# Used for the pseudorandom shuffle of the split\n",
        "SEED = 12\n",
        "\n",
        "BATCH_SIZE = 128     # Higher batch sizes allows for larger learning rates. An empirical heuristic suggests that, when changing\n",
        "                     # the batch size, learning rate should change by the same factor to have comparable results\n",
        "\n",
        "LR = 2         # The initial Learning Rate\n",
        "MOMENTUM = 0.9       # Hyperparameter for SGD, keep this at 0.9 when using SGD\n",
        "WEIGHT_DECAY = 1e-5  # Regularization, you can keep this at the default\n",
        "\n",
        "NUM_EPOCHS = 70     # Total number of training epochs (iterations over dataset)\n",
        "MILESTONES = [48, 62]  # How many epochs before decreasing learning rate (if using a step-down policy)\n",
        "GAMMA = 0.2          # Multiplicative factor for learning rate step-down\n",
        "\n",
        "LOG_FREQUENCY = 50"
      ],
      "execution_count": 0,
      "outputs": []
    },
    {
      "cell_type": "code",
      "metadata": {
        "id": "sEb3ZCA-wL8r",
        "colab_type": "code",
        "colab": {}
      },
      "source": [
        "# Define transforms for training phase\n",
        "train_transform = transforms.Compose([transforms.RandomHorizontalFlip(), # Randomly flip the image with probability of 0.5\n",
        "                                      transforms.Pad(4), # Add padding\n",
        "                                      transforms.RandomCrop(32),# Crops a random squares of the image\n",
        "                                      transforms.ToTensor(), # Turn PIL Image to torch.Tensor\n",
        "                                      transforms.Normalize((0.485, 0.456, 0.406), (0.229, 0.224, 0.225))  # https://gist.github.com/weiaicunzai/e623931921efefd4c331622c344d8151\n",
        "])\n",
        "# Define transforms for the evaluation phase\n",
        "eval_transform = transforms.Compose([\n",
        "                                      transforms.ToTensor(),\n",
        "                                      transforms.Normalize((0.485, 0.456, 0.406), (0.229, 0.224, 0.225))                                 \n",
        "])"
      ],
      "execution_count": 0,
      "outputs": []
    },
    {
      "cell_type": "code",
      "metadata": {
        "id": "laYd7X2IwL6G",
        "colab_type": "code",
        "colab": {}
      },
      "source": [
        "DATA_DIR = './CIFAR100'\n",
        "\n",
        "lbls = [i for i in range(0,100)]  #Array of classes integer-encoded (?)\n",
        "random.seed(SEED)\n",
        "random.shuffle(lbls)\n",
        "\n",
        "def make_data_labels(lbls):       #After shuffle, take first 10 classes, and remove the first 10 from the list passed as argument\n",
        "    new_labels=[]\n",
        "    for el in lbls[:10]:\n",
        "        new_labels.append(el)\n",
        "    lbls = lbls[10:]\n",
        "\n",
        "    return lbls, new_labels"
      ],
      "execution_count": 0,
      "outputs": []
    },
    {
      "cell_type": "code",
      "metadata": {
        "id": "whHxE4OFwL3N",
        "colab_type": "code",
        "colab": {}
      },
      "source": [
        "import torch\n",
        "import torch.nn as nn\n",
        "import torch.optim as optim\n",
        "from torch.utils.data import DataLoader\n",
        "\n",
        "class iCaRL(nn.Module):\n",
        "  def __init__(self):\n",
        "    super(iCaRL, self).__init__()\n",
        "    \n",
        "    self.feature_extractor = ResNet18()\n",
        "    self.feature_extractor.linear = nn.Linear(512, 2048)\n",
        "    self.relu = nn.ReLU()\n",
        "    self.fc = nn.Linear(2048, 100)\n",
        "    \n",
        "    self.cls_loss = nn.BCEWithLogitsLoss()\n",
        "    self.dist_loss = nn.BCELoss()\n",
        "\n",
        "    self.optimizer = optim.SGD(self.parameters(), lr=2, weight_decay=1e-5, momentum=0.9)\n",
        "\n",
        "  def forward(self, x):\n",
        "    x = self.feature_extractor(x)\n",
        "    #x = nn.functional.norm(x)\n",
        "    x = self.relu(x)\n",
        "    x = self.fc(x)\n",
        "    return x\n",
        "\n",
        "  def classify(self, x):\n",
        "    \n",
        "    _, labels = torch.max(torch.softmax(self.forward(images), dim=1), dim=1, keepdim=False)\n",
        "\n",
        "    return labels  \n",
        "  \n",
        "\n",
        "  def update_representation(self,X):\n",
        "    # da implementare known classes, new classes\n",
        "    # da vedere che loss utilizzare\n",
        "    # da rivedere il mapping delle classi\n",
        "    previous_model = copy.deepcopy(self)\n",
        "\t\tprevious_model.cuda()\n",
        "\n",
        "    train_dataloader = DataLoader(X, batch_size=BATCH_SIZE, shuffle=True, num_workers=4, drop_last=True)\n",
        "    optimizer = self.optimizer\n",
        "    scheduler = optim.lr_scheduler.MultiStepLR(optimizer, milestones=MILESTONES, gamma=GAMMA, last_epoch=-1)\n",
        "    cudnn.benchmark # Calling this optimizes runtime\n",
        "    current_step = 0\n",
        "\n",
        "    # Start iterating over the epochs\n",
        "    for epoch in range(NUM_EPOCHS):\n",
        "      print('Starting epoch {}/{}, LR = {}'.format(epoch+1, NUM_EPOCHS, scheduler.get_last_lr()))\n",
        "    \n",
        "      # Iterate over the dataset\n",
        "      for images, labels,indices in train_dataloader:\n",
        "          # Bring data over the device of choice\n",
        "          images = images.to(DEVICE)\n",
        "          labels = labels.to(DEVICE)\n",
        "          indices = indices.to(DEVICE)\n",
        "          # PyTorch, by default, accumulates gradients after each backward pass\n",
        "          # We need to manually set the gradients to zero before starting a new iteration\n",
        "          optimizer.zero_grad() # Zero-ing the gradients\n",
        "\n",
        "          # Forward pass to the network\n",
        "          outputs = self.forward(images)\n",
        "\n",
        "          cls_loss = nn.CrossEntropyLoss()(outputs, labels)\n",
        "\n",
        "          # Se non sono le prime 10 classi..\n",
        "\t\t\t\t\tif self.n_classes//len(new_classes) > 1:\n",
        "\t\t\t\t\t\tdist_target = previous_model.forward(images)\n",
        "\t\t\t\t\t\tlogits_dist = outputs[:,:-(self.n_classes-self.n_known)]\n",
        "\t\t\t\t\t\tdist_loss = MultiClassCrossEntropy(logits_dist, dist_target, 2)\n",
        "\t\t\t\t\t\tloss = dist_loss+cls_loss\n",
        "\t\t\t\t\telse:\n",
        "\t\t\t\t\t\tloss = cls_loss\n",
        "    \n",
        "          # # One hot encoding labels for binary cross-entropy loss\n",
        "          # labels_onehot = nn.functional.one_hot(labels,100)\n",
        "          # labels_onehot = labels_onehot.type_as(outputs)\n",
        "          # criterion = self.cls_loss\n",
        "          # loss = criterion(outputs, labels_onehot)\n",
        "          # del(labels)\n",
        "          # torch.cuda.empty_cache()\n",
        "          \n",
        "          # distillation = 0\n",
        "          # g = torch.sigmoid(outputs)\n",
        "          # qi = q[indices]\n",
        "          # del(indices)\n",
        "          # for y in range(0,len(self.exemplar_sets)):\n",
        "          #   distillation += self.dist_loss(g[:,y],qi[:,y])\n",
        "          # loss += distillation\n",
        "    \n",
        "          # if current_step % LOG_FREQUENCY == 0:\n",
        "          #     print('Step {}, Loss {}'.format(current_step, loss.item()))\n",
        "\n",
        "      # Compute gradients for each layer and update weights\n",
        "          loss.backward()  # backward pass: computes gradients\n",
        "          optimizer.step() # update weights based on accumulated gradients\n",
        "          current_step += 1\n",
        "\n",
        "        # Step the scheduler\n",
        "      scheduler.step()\n"
      ],
      "execution_count": 0,
      "outputs": []
    },
    {
      "cell_type": "code",
      "metadata": {
        "id": "i02hYyIpwL09",
        "colab_type": "code",
        "colab": {}
      },
      "source": [
        "# Tutto da rivedere\n",
        "\n",
        "start_time = time.clock()\n",
        "net = iCaRL()\n",
        "K = 300\n",
        "t = 0\n",
        "test_dataset = CIFAR100_tError(DATA_DIR, train=False, transform=eval_transform, download=True)\n",
        "for i in range(0,10): # batches of 10\n",
        "  print(f\"processing batch {i+1}\")\n",
        "  #Create Datasets\n",
        "  train_datasets = []\n",
        "  # take 10 new classes\n",
        "  lbls, new_labels = make_data_labels(lbls)\n",
        "  for num,label in enumerate(new_labels):\n",
        "    train_dataset = CIFAR100_tError(DATA_DIR, train=True, transform=train_transform, download=True)\n",
        "    train_dataset.increment([label],[t])\n",
        "    test_dataset.increment([label],[t])\n",
        "    train_datasets.append(train_dataset) # List of training examples in per class sets\n",
        "    test_dataloader = DataLoader(test_dataset,batch_size=BATCH_SIZE,shuffle=True,num_workers=4)\n",
        "    t += 1\n",
        "  net.update_representation(train_datasets)\n",
        "  m = K/t #numbers of exemplars per class\n",
        "  net.reduce_exemplar_sets(m)\n",
        "  for X in train_datasets:\n",
        "    net.construct_exemplar_set(X,m) #new exemplar sets\n",
        "  # Test on Test set\n",
        "  running_corrects = 0\n",
        "  for images,labels in test_dataloader:\n",
        "    images = images.to(DEVICE)\n",
        "    labels = labels.to(DEVICE)\n",
        "    preds = net.classify(images)\n",
        "    running_corrects += torch.sum(preds == labels.data).data.item()\n",
        "    accuracy = running_corrects / float(len(test_dataset))\n",
        "    del(images)\n",
        "    del(labels)\n",
        "    torch.cuda.empty_cache()\n",
        "  print(f\"Test Accuracy: {accuracy}\")"
      ],
      "execution_count": 0,
      "outputs": []
    },
    {
      "cell_type": "code",
      "metadata": {
        "id": "yqsjFtWNwLxs",
        "colab_type": "code",
        "colab": {}
      },
      "source": [
        ""
      ],
      "execution_count": 0,
      "outputs": []
    },
    {
      "cell_type": "code",
      "metadata": {
        "id": "Vs7lcAhPwLvC",
        "colab_type": "code",
        "colab": {}
      },
      "source": [
        ""
      ],
      "execution_count": 0,
      "outputs": []
    }
  ]
}