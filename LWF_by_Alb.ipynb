{
  "nbformat": 4,
  "nbformat_minor": 0,
  "metadata": {
    "colab": {
      "name": "LWF by Alb.ipynb",
      "provenance": [],
      "authorship_tag": "ABX9TyPlQf7GUf2GGCcWS5ftqyOi",
      "include_colab_link": true
    },
    "kernelspec": {
      "name": "python3",
      "display_name": "Python 3"
    },
    "accelerator": "GPU"
  },
  "cells": [
    {
      "cell_type": "markdown",
      "metadata": {
        "id": "view-in-github",
        "colab_type": "text"
      },
      "source": [
        "<a href=\"https://colab.research.google.com/github/Nicordaro/Project_MLDL/blob/master/LWF_by_Alb.ipynb\" target=\"_parent\"><img src=\"https://colab.research.google.com/assets/colab-badge.svg\" alt=\"Open In Colab\"/></a>"
      ]
    },
    {
      "cell_type": "code",
      "metadata": {
        "id": "mKQgc-i5v8lV",
        "colab_type": "code",
        "colab": {
          "base_uri": "https://localhost:8080/",
          "height": 141
        },
        "outputId": "1176d423-4355-4ecd-a862-1eda7281fcac"
      },
      "source": [
        "import os\n",
        "# Clone github repository with data\n",
        "# if os.path.isdir('./Project_MLDL'):\n",
        "!rm -rf Project_MLDL\n",
        "if not os.path.isdir('./CIFAR100_tError'):\n",
        "  !git clone https://github.com/Nicordaro/Project_MLDL"
      ],
      "execution_count": 1,
      "outputs": [
        {
          "output_type": "stream",
          "text": [
            "Cloning into 'Project_MLDL'...\n",
            "remote: Enumerating objects: 56, done.\u001b[K\n",
            "remote: Counting objects:   1% (1/56)\u001b[K\rremote: Counting objects:   3% (2/56)\u001b[K\rremote: Counting objects:   5% (3/56)\u001b[K\rremote: Counting objects:   7% (4/56)\u001b[K\rremote: Counting objects:   8% (5/56)\u001b[K\rremote: Counting objects:  10% (6/56)\u001b[K\rremote: Counting objects:  12% (7/56)\u001b[K\rremote: Counting objects:  14% (8/56)\u001b[K\rremote: Counting objects:  16% (9/56)\u001b[K\rremote: Counting objects:  17% (10/56)\u001b[K\rremote: Counting objects:  19% (11/56)\u001b[K\rremote: Counting objects:  21% (12/56)\u001b[K\rremote: Counting objects:  23% (13/56)\u001b[K\rremote: Counting objects:  25% (14/56)\u001b[K\rremote: Counting objects:  26% (15/56)\u001b[K\rremote: Counting objects:  28% (16/56)\u001b[K\rremote: Counting objects:  30% (17/56)\u001b[K\rremote: Counting objects:  32% (18/56)\u001b[K\rremote: Counting objects:  33% (19/56)\u001b[K\rremote: Counting objects:  35% (20/56)\u001b[K\rremote: Counting objects:  37% (21/56)\u001b[K\rremote: Counting objects:  39% (22/56)\u001b[K\rremote: Counting objects:  41% (23/56)\u001b[K\rremote: Counting objects:  42% (24/56)\u001b[K\rremote: Counting objects:  44% (25/56)\u001b[K\rremote: Counting objects:  46% (26/56)\u001b[K\rremote: Counting objects:  48% (27/56)\u001b[K\rremote: Counting objects:  50% (28/56)\u001b[K\rremote: Counting objects:  51% (29/56)\u001b[K\rremote: Counting objects:  53% (30/56)\u001b[K\rremote: Counting objects:  55% (31/56)\u001b[K\rremote: Counting objects:  57% (32/56)\u001b[K\rremote: Counting objects:  58% (33/56)\u001b[K\rremote: Counting objects:  60% (34/56)\u001b[K\rremote: Counting objects:  62% (35/56)\u001b[K\rremote: Counting objects:  64% (36/56)\u001b[K\rremote: Counting objects:  66% (37/56)\u001b[K\rremote: Counting objects:  67% (38/56)\u001b[K\rremote: Counting objects:  69% (39/56)\u001b[K\rremote: Counting objects:  71% (40/56)\u001b[K\rremote: Counting objects:  73% (41/56)\u001b[K\rremote: Counting objects:  75% (42/56)\u001b[K\rremote: Counting objects:  76% (43/56)\u001b[K\rremote: Counting objects:  78% (44/56)\u001b[K\rremote: Counting objects:  80% (45/56)\u001b[K\rremote: Counting objects:  82% (46/56)\u001b[K\rremote: Counting objects:  83% (47/56)\u001b[K\rremote: Counting objects:  85% (48/56)\u001b[K\rremote: Counting objects:  87% (49/56)\u001b[K\rremote: Counting objects:  89% (50/56)\u001b[K\rremote: Counting objects:  91% (51/56)\u001b[K\rremote: Counting objects:  92% (52/56)\u001b[K\rremote: Counting objects:  94% (53/56)\u001b[K\rremote: Counting objects:  96% (54/56)\u001b[K\rremote: Counting objects:  98% (55/56)\u001b[K\rremote: Counting objects: 100% (56/56)\u001b[K\rremote: Counting objects: 100% (56/56), done.\u001b[K\n",
            "remote: Compressing objects: 100% (56/56), done.\u001b[K\n",
            "remote: Total 276 (delta 32), reused 0 (delta 0), pack-reused 220\u001b[K\n",
            "Receiving objects: 100% (276/276), 936.48 KiB | 6.89 MiB/s, done.\n",
            "Resolving deltas: 100% (139/139), done.\n"
          ],
          "name": "stdout"
        }
      ]
    },
    {
      "cell_type": "code",
      "metadata": {
        "id": "EVBnS0nqwLAk",
        "colab_type": "code",
        "colab": {}
      },
      "source": [
        "import logging\n",
        "import matplotlib.pyplot as plt\n",
        "import numpy as np\n",
        "import random\n",
        "import torch\n",
        "import torchvision\n",
        "import torch.nn as nn\n",
        "import torch.optim as optim\n",
        "import time\n",
        "import gc\n",
        "import torch\n",
        "import torch.nn as nn\n",
        "import torch.optim as optim\n",
        "from torch.utils.data import DataLoader\n",
        "import copy\n",
        "\n",
        "from PIL import Image\n",
        "from Project_MLDL.CIFAR100_tError import CIFAR100_tError\n",
        "from Project_MLDL.model_finetuning import ResNet18\n",
        "from torch.utils.data import Subset, DataLoader\n",
        "from torch.backends import cudnn\n",
        "from torchvision import transforms\n",
        "from torchvision.models import resnet18\n",
        "from torchvision.models import resnet34\n",
        "from tqdm import tqdm\n",
        "\n",
        "# Garbage collector\n",
        "gc.enable()"
      ],
      "execution_count": 0,
      "outputs": []
    },
    {
      "cell_type": "code",
      "metadata": {
        "id": "lHLoP9gWwL_k",
        "colab_type": "code",
        "colab": {}
      },
      "source": [
        "DEVICE = 'cuda' # 'cuda' or 'cpu'\n",
        "\n",
        "# Init at 10 because first train is on 10 classes\n",
        "NUM_CLASSES = 10\n",
        "\n",
        "# Used for the pseudorandom shuffle of the split\n",
        "SEED = 12\n",
        "\n",
        "BATCH_SIZE = 128     # Higher batch sizes allows for larger learning rates. An empirical heuristic suggests that, when changing\n",
        "                     # the batch size, learning rate should change by the same factor to have comparable results\n",
        "\n",
        "LR = 2         # The initial Learning Rate\n",
        "MOMENTUM = 0.9       # Hyperparameter for SGD, keep this at 0.9 when using SGD\n",
        "WEIGHT_DECAY = 1e-5  # Regularization, you can keep this at the default\n",
        "\n",
        "NUM_EPOCHS = 70     # Total number of training epochs (iterations over dataset)\n",
        "MILESTONES = [48, 62]  # How many epochs before decreasing learning rate (if using a step-down policy)\n",
        "GAMMA = 0.2          # Multiplicative factor for learning rate step-down\n",
        "\n",
        "LOG_FREQUENCY = 50"
      ],
      "execution_count": 0,
      "outputs": []
    },
    {
      "cell_type": "code",
      "metadata": {
        "id": "sEb3ZCA-wL8r",
        "colab_type": "code",
        "colab": {}
      },
      "source": [
        "# Define transforms for training phase\n",
        "train_transform = transforms.Compose([transforms.RandomHorizontalFlip(), # Randomly flip the image with probability of 0.5\n",
        "                                      transforms.Pad(4), # Add padding\n",
        "                                      transforms.RandomCrop(32),# Crops a random squares of the image\n",
        "                                      transforms.ToTensor(), # Turn PIL Image to torch.Tensor\n",
        "                                      transforms.Normalize((0.485, 0.456, 0.406), (0.229, 0.224, 0.225))  # https://gist.github.com/weiaicunzai/e623931921efefd4c331622c344d8151\n",
        "])\n",
        "# Define transforms for the evaluation phase\n",
        "eval_transform = transforms.Compose([\n",
        "                                      transforms.ToTensor(),\n",
        "                                      transforms.Normalize((0.485, 0.456, 0.406), (0.229, 0.224, 0.225))                                 \n",
        "])"
      ],
      "execution_count": 0,
      "outputs": []
    },
    {
      "cell_type": "code",
      "metadata": {
        "id": "laYd7X2IwL6G",
        "colab_type": "code",
        "colab": {}
      },
      "source": [
        "DATA_DIR = './CIFAR100'\n",
        "\n",
        "lbls = [i for i in range(0,100)]  #Array of classes integer-encoded (?)\n",
        "random.seed(SEED)\n",
        "random.shuffle(lbls)\n",
        "\n",
        "def make_data_labels(lbls):       #After shuffle, take first 10 classes, and remove the first 10 from the list passed as argument\n",
        "    new_labels=[]\n",
        "    for el in lbls[:10]:\n",
        "        new_labels.append(el)\n",
        "    lbls = lbls[10:]\n",
        "\n",
        "    return lbls, new_labels"
      ],
      "execution_count": 0,
      "outputs": []
    },
    {
      "cell_type": "code",
      "metadata": {
        "id": "whHxE4OFwL3N",
        "colab_type": "code",
        "colab": {}
      },
      "source": [
        "from torch.autograd import Variable\n",
        "\n",
        "def MultiClassCrossEntropy(logits, labels, T):\n",
        "\tlabels = Variable(labels.data, requires_grad=False).cuda()\n",
        "\toutputs = torch.log_softmax(logits/T, dim=1)   # compute the log of softmax values\n",
        "\tlabels = torch.softmax(labels/T, dim=1)\n",
        "\toutputs = torch.sum(outputs * labels, dim=1, keepdim=False)\n",
        "\toutputs = -torch.mean(outputs, dim=0, keepdim=False)\n",
        "\treturn Variable(outputs.data, requires_grad=True).cuda()\n",
        "\n",
        "class LWFNet(nn.Module):\n",
        "\n",
        "  def __init__(self):\n",
        "    super(LWFNet, self).__init__()\n",
        "    \n",
        "    self.feature_extractor = ResNet18()\n",
        "    self.feature_extractor.linear = nn.Linear(512, 2048)\n",
        "    self.relu = nn.ReLU()\n",
        "    self.fc = nn.Linear(2048, 100)\n",
        "    \n",
        "    self.cls_loss = nn.BCEWithLogitsLoss()\n",
        "    self.dist_loss = nn.BCELoss()\n",
        "    self.optimizer = optim.SGD(self.parameters(), lr=2, weight_decay=1e-5, momentum=0.9)\n",
        "\n",
        "    self.known_classes = 0\n",
        "    self.num_classes = 100\n",
        "\n",
        "\n",
        "  def forward(self, x):\n",
        "    x = self.feature_extractor(x)\n",
        "    #x = nn.functional.norm(x)\n",
        "    x = self.relu(x)\n",
        "    x = self.fc(x)\n",
        "    return x\n",
        "\n",
        "\n",
        "  def classify(self, images):\n",
        "    _, labels = torch.max(torch.softmax(self.forward(images), dim=1), dim=1, keepdim=False)\n",
        "    return labels  \n",
        "  \n",
        "\n",
        "  def update_representation(self, training_dataset):\n",
        "    \n",
        "    previous_model = copy.deepcopy(self)\n",
        "    previous_model.to(DEVICE)\n",
        "\n",
        "    train_dataloader = DataLoader(training_dataset, batch_size=BATCH_SIZE, shuffle=True, num_workers=4, drop_last=True)\n",
        "\n",
        "    net.train()\n",
        "\n",
        "    optimizer = self.optimizer\n",
        "    scheduler = optim.lr_scheduler.MultiStepLR(optimizer, milestones=MILESTONES, gamma=GAMMA, last_epoch=-1)\n",
        "    cudnn.benchmark # Calling this optimizes runtime\n",
        "    current_step = 0\n",
        "\n",
        "    self.known_classes += 10\n",
        "\n",
        "    # Start iterating over the epochs\n",
        "    for epoch in range(NUM_EPOCHS):\n",
        "      print('Starting epoch {}/{}, LR = {}'.format(epoch+1, NUM_EPOCHS, scheduler.get_last_lr()))\n",
        "    \n",
        "      # Iterate over the dataset\n",
        "      for images, labels in train_dataloader:\n",
        "        # Bring data over the device of choice\n",
        "        images = images.to(DEVICE)\n",
        "        labels = labels.to(DEVICE)\n",
        "          \n",
        "        optimizer.zero_grad() # Zero-ing the gradients\n",
        "\n",
        "        outputs = net(images)  # Forward pass to the network\n",
        "\n",
        "        # One hot encoding labels for binary cross-entropy loss\n",
        "        labels_onehot = nn.functional.one_hot(labels,100)\n",
        "        labels_onehot = labels_onehot.type_as(outputs)\n",
        "\n",
        "        loss = self.cls_loss(outputs, labels_onehot)\n",
        "\n",
        "        # Se non sono le prime 10 classi..\n",
        "        if (self.known_classes // 10) > 1:\n",
        "          dist_target = previous_model.forward(images)\n",
        "          logits_dist = outputs[:,:-(self.num_classes-self.known_classes)]\n",
        "          dist_loss = MultiClassCrossEntropy(logits_dist, dist_target, 2)\n",
        "          loss += dist_loss\n",
        "\n",
        "        loss.backward()  # backward pass: computes gradients\n",
        "        optimizer.step() # update weights based on accumulated gradients\n",
        "        current_step += 1\n",
        "\n",
        "      scheduler.step()  # Step the scheduler\n",
        "    return"
      ],
      "execution_count": 0,
      "outputs": []
    },
    {
      "cell_type": "code",
      "metadata": {
        "id": "i02hYyIpwL09",
        "colab_type": "code",
        "colab": {}
      },
      "source": [
        "net = LWFNet()\n",
        "net = net.to(DEVICE)\n",
        "\n",
        "NUM_GROUPS = 10\n",
        "\n",
        "test_dataset = CIFAR100_tError(DATA_DIR, train=False, transform=eval_transform, download=True)\n",
        "\n",
        "for i in range(0, NUM_GROUPS):\n",
        "  print('\\n', f'Training network on group {i+1} of {NUM_GROUPS}', '\\n')\n",
        "\n",
        "  # Every iteration the first 10 classes of the shuffled list of all unseen \n",
        "  # classes are selected to train the network and removed from the shuffled list\n",
        "  lbls, new_labels = make_data_labels(lbls)\n",
        "\n",
        "  # Training set is the train dataset of exactly 10 new classes\n",
        "  train_dataset = CIFAR100_tError(DATA_DIR, train=True, transform=train_transform, download=True)\n",
        "  train_dataset.increment(new_labels, [j for j in range(0+i*10, 10+i*10)])\n",
        "\n",
        "  # Evaluation set is the subset of the test dataset of the only 10 new classes\n",
        "  # (for this reason -> \"Not so fair\" Validation)\n",
        "  eval_dataset = CIFAR100_tError(DATA_DIR, train=False, transform=eval_transform, download=True)\n",
        "  eval_dataset.increment(new_labels, [j for j in range(0+i*10, 10+i*10)])    \n",
        "    \n",
        "  # Test dataset is the test dataset of the 10 new classes and all the previous\n",
        "  test_dataset.increment(new_labels, [j for j in range(0+i*10, 10+i*10)])\n",
        "  test_dataloader = DataLoader(test_dataset, batch_size=BATCH_SIZE, shuffle=True, num_workers=4)\n",
        "    \n",
        "  net.update_representation(train_dataset)\n",
        "\n",
        "  # Test on Test set\n",
        "  net.train(False)\n",
        "  running_corrects = 0\n",
        "  for images,labels in test_dataloader:\n",
        "    images = images.to(DEVICE)\n",
        "    labels = labels.to(DEVICE)\n",
        "\n",
        "    preds = net.classify(images)\n",
        "\n",
        "    running_corrects += torch.sum(preds == labels.data).data.item()\n",
        "\n",
        "    accuracy = running_corrects / float(len(test_dataset))\n",
        "    \n",
        "  print(f\"Test Accuracy: {accuracy}\")"
      ],
      "execution_count": 0,
      "outputs": []
    },
    {
      "cell_type": "code",
      "metadata": {
        "id": "CWjA--0KL_pN",
        "colab_type": "code",
        "colab": {}
      },
      "source": [
        ""
      ],
      "execution_count": 0,
      "outputs": []
    }
  ]
}