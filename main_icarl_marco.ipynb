{
  "nbformat": 4,
  "nbformat_minor": 0,
  "metadata": {
    "kernelspec": {
      "language": "python",
      "display_name": "Python 3",
      "name": "python3"
    },
    "language_info": {
      "pygments_lexer": "ipython3",
      "nbconvert_exporter": "python",
      "version": "3.6.4",
      "file_extension": ".py",
      "codemirror_mode": {
        "name": "ipython",
        "version": 3
      },
      "name": "python",
      "mimetype": "text/x-python"
    },
    "colab": {
      "name": "main_icarl_marco.ipynb",
      "provenance": [],
      "collapsed_sections": [],
      "include_colab_link": true
    },
    "accelerator": "GPU"
  },
  "cells": [
    {
      "cell_type": "markdown",
      "metadata": {
        "id": "view-in-github",
        "colab_type": "text"
      },
      "source": [
        "<a href=\"https://colab.research.google.com/github/Nicordaro/Project_MLDL/blob/master/main_icarl_marco.ipynb\" target=\"_parent\"><img src=\"https://colab.research.google.com/assets/colab-badge.svg\" alt=\"Open In Colab\"/></a>"
      ]
    },
    {
      "cell_type": "markdown",
      "metadata": {
        "id": "3WxaZRunY184",
        "colab_type": "text"
      },
      "source": [
        "*Cloning files needed*"
      ]
    },
    {
      "cell_type": "code",
      "metadata": {
        "trusted": true,
        "id": "fP5vAuX9dm75",
        "colab_type": "code",
        "outputId": "a1ccf73b-e622-4b5e-ae82-a137c69ed71a",
        "colab": {
          "base_uri": "https://localhost:8080/",
          "height": 144
        }
      },
      "source": [
        "import os\n",
        "# Clone github repository with data\n",
        "# if os.path.isdir('./Project_MLDL'):\n",
        "!rm -rf Project_MLDL\n",
        "if not os.path.isdir('./CIFAR100_tError'):\n",
        "  !git clone https://github.com/Nicordaro/Project_MLDL\n"
      ],
      "execution_count": 2,
      "outputs": [
        {
          "output_type": "stream",
          "text": [
            "Cloning into 'Project_MLDL'...\n",
            "remote: Enumerating objects: 11, done.\u001b[K\n",
            "remote: Counting objects:   9% (1/11)\u001b[K\rremote: Counting objects:  18% (2/11)\u001b[K\rremote: Counting objects:  27% (3/11)\u001b[K\rremote: Counting objects:  36% (4/11)\u001b[K\rremote: Counting objects:  45% (5/11)\u001b[K\rremote: Counting objects:  54% (6/11)\u001b[K\rremote: Counting objects:  63% (7/11)\u001b[K\rremote: Counting objects:  72% (8/11)\u001b[K\rremote: Counting objects:  81% (9/11)\u001b[K\rremote: Counting objects:  90% (10/11)\u001b[K\rremote: Counting objects: 100% (11/11)\u001b[K\rremote: Counting objects: 100% (11/11), done.\u001b[K\n",
            "remote: Compressing objects:   9% (1/11)\u001b[K\rremote: Compressing objects:  18% (2/11)\u001b[K\rremote: Compressing objects:  27% (3/11)\u001b[K\rremote: Compressing objects:  36% (4/11)\u001b[K\rremote: Compressing objects:  45% (5/11)\u001b[K\rremote: Compressing objects:  54% (6/11)\u001b[K\rremote: Compressing objects:  63% (7/11)\u001b[K\rremote: Compressing objects:  72% (8/11)\u001b[K\rremote: Compressing objects:  81% (9/11)\u001b[K\rremote: Compressing objects:  90% (10/11)\u001b[K\rremote: Compressing objects: 100% (11/11)\u001b[K\rremote: Compressing objects: 100% (11/11), done.\u001b[K\n",
            "Receiving objects:   0% (1/231)   \rReceiving objects:   1% (3/231)   \rReceiving objects:   2% (5/231)   \rReceiving objects:   3% (7/231)   \rReceiving objects:   4% (10/231)   \rReceiving objects:   5% (12/231)   \rReceiving objects:   6% (14/231)   \rReceiving objects:   7% (17/231)   \rReceiving objects:   8% (19/231)   \rReceiving objects:   9% (21/231)   \rReceiving objects:  10% (24/231)   \rReceiving objects:  11% (26/231)   \rReceiving objects:  12% (28/231)   \rReceiving objects:  13% (31/231)   \rReceiving objects:  14% (33/231)   \rReceiving objects:  15% (35/231)   \rReceiving objects:  16% (37/231)   \rReceiving objects:  17% (40/231)   \rReceiving objects:  18% (42/231)   \rReceiving objects:  19% (44/231)   \rReceiving objects:  20% (47/231)   \rReceiving objects:  21% (49/231)   \rReceiving objects:  22% (51/231)   \rReceiving objects:  23% (54/231)   \rReceiving objects:  24% (56/231)   \rReceiving objects:  25% (58/231)   \rReceiving objects:  26% (61/231)   \rReceiving objects:  27% (63/231)   \rReceiving objects:  28% (65/231)   \rReceiving objects:  29% (67/231)   \rReceiving objects:  30% (70/231)   \rReceiving objects:  31% (72/231)   \rReceiving objects:  32% (74/231)   \rReceiving objects:  33% (77/231)   \rReceiving objects:  34% (79/231)   \rReceiving objects:  35% (81/231)   \rReceiving objects:  36% (84/231)   \rReceiving objects:  37% (86/231)   \rReceiving objects:  38% (88/231)   \rReceiving objects:  39% (91/231)   \rReceiving objects:  40% (93/231)   \rReceiving objects:  41% (95/231)   \rReceiving objects:  42% (98/231)   \rReceiving objects:  43% (100/231)   \rReceiving objects:  44% (102/231)   \rReceiving objects:  45% (104/231)   \rReceiving objects:  46% (107/231)   \rReceiving objects:  47% (109/231)   \rReceiving objects:  48% (111/231)   \rReceiving objects:  49% (114/231)   \rReceiving objects:  50% (116/231)   \rReceiving objects:  51% (118/231)   \rReceiving objects:  52% (121/231)   \rReceiving objects:  53% (123/231)   \rReceiving objects:  54% (125/231)   \rReceiving objects:  55% (128/231)   \rReceiving objects:  56% (130/231)   \rReceiving objects:  57% (132/231)   \rReceiving objects:  58% (134/231)   \rReceiving objects:  59% (137/231)   \rReceiving objects:  60% (139/231)   \rReceiving objects:  61% (141/231)   \rReceiving objects:  62% (144/231)   \rReceiving objects:  63% (146/231)   \rReceiving objects:  64% (148/231)   \rReceiving objects:  65% (151/231)   \rReceiving objects:  66% (153/231)   \rReceiving objects:  67% (155/231)   \rReceiving objects:  68% (158/231)   \rReceiving objects:  69% (160/231)   \rReceiving objects:  70% (162/231)   \rReceiving objects:  71% (165/231)   \rReceiving objects:  72% (167/231)   \rReceiving objects:  73% (169/231)   \rReceiving objects:  74% (171/231)   \rReceiving objects:  75% (174/231)   \rReceiving objects:  76% (176/231)   \rReceiving objects:  77% (178/231)   \rReceiving objects:  78% (181/231)   \rReceiving objects:  79% (183/231)   \rReceiving objects:  80% (185/231)   \rReceiving objects:  81% (188/231)   \rReceiving objects:  82% (190/231)   \rReceiving objects:  83% (192/231)   \rReceiving objects:  84% (195/231)   \rReceiving objects:  85% (197/231)   \rReceiving objects:  86% (199/231)   \rReceiving objects:  87% (201/231)   \rReceiving objects:  88% (204/231)   \rReceiving objects:  89% (206/231)   \rReceiving objects:  90% (208/231)   \rReceiving objects:  91% (211/231)   \rReceiving objects:  92% (213/231)   \rReceiving objects:  93% (215/231)   \rReceiving objects:  94% (218/231)   \rReceiving objects:  95% (220/231)   \rReceiving objects:  96% (222/231)   \rReceiving objects:  97% (225/231)   \rremote: Total 231 (delta 5), reused 0 (delta 0), pack-reused 220\u001b[K\n",
            "Receiving objects:  98% (227/231)   \rReceiving objects:  99% (229/231)   \rReceiving objects: 100% (231/231)   \rReceiving objects: 100% (231/231), 888.21 KiB | 7.16 MiB/s, done.\n",
            "Resolving deltas:   0% (0/112)   \rResolving deltas:  24% (27/112)   \rResolving deltas:  26% (30/112)   \rResolving deltas:  41% (46/112)   \rResolving deltas:  49% (55/112)   \rResolving deltas:  55% (62/112)   \rResolving deltas:  56% (63/112)   \rResolving deltas:  57% (64/112)   \rResolving deltas:  85% (96/112)   \rResolving deltas:  87% (98/112)   \rResolving deltas:  89% (100/112)   \rResolving deltas:  90% (101/112)   \rResolving deltas:  91% (103/112)   \rResolving deltas:  92% (104/112)   \rResolving deltas:  95% (107/112)   \rResolving deltas:  99% (111/112)   \rResolving deltas: 100% (112/112)   \rResolving deltas: 100% (112/112), done.\n"
          ],
          "name": "stdout"
        }
      ]
    },
    {
      "cell_type": "markdown",
      "metadata": {
        "id": "sqazEUOdZpEb",
        "colab_type": "text"
      },
      "source": [
        "**Imports**\n",
        "\n",
        "---"
      ]
    },
    {
      "cell_type": "code",
      "metadata": {
        "_uuid": "d629ff2d2480ee46fbb7e2d37f6b5fab8052498a",
        "_cell_guid": "79c7e3d0-c299-4dcb-8224-4455121ee9b0",
        "trusted": true,
        "id": "fNgxhFrmdm7d",
        "colab_type": "code",
        "colab": {}
      },
      "source": [
        "import logging\n",
        "import matplotlib.pyplot as plt\n",
        "import numpy as np\n",
        "import random\n",
        "import torch\n",
        "import torchvision\n",
        "import torch.nn as nn\n",
        "import torch.optim as optim\n",
        "\n",
        "\n",
        "from PIL import Image\n",
        "from Project_MLDL.CIFAR100_tError import CIFAR100_tError\n",
        "from Project_MLDL.model_finetuning import ResNet18\n",
        "from torch.utils.data import Subset, DataLoader\n",
        "from torch.backends import cudnn\n",
        "from torchvision import transforms\n",
        "from torchvision.models import resnet18\n",
        "from torchvision.models import resnet34\n",
        "from tqdm import tqdm"
      ],
      "execution_count": 0,
      "outputs": []
    },
    {
      "cell_type": "markdown",
      "metadata": {
        "id": "3JqYHsh6ZHw1",
        "colab_type": "text"
      },
      "source": [
        "**Arguments**\n",
        "\n",
        "---\n",
        "\n",
        "\n",
        "\n"
      ]
    },
    {
      "cell_type": "code",
      "metadata": {
        "trusted": true,
        "id": "qCqYt307dm7m",
        "colab_type": "code",
        "colab": {}
      },
      "source": [
        "DEVICE = 'cuda' # 'cuda' or 'cpu'\n",
        "\n",
        "# Init at 10 because first train is on 10 classes\n",
        "NUM_CLASSES = 10\n",
        "\n",
        "# Used for the pseudorandom shuffle of the split\n",
        "SEED = 12\n",
        "\n",
        "BATCH_SIZE = 128     # Higher batch sizes allows for larger learning rates. An empirical heuristic suggests that, when changing\n",
        "                     # the batch size, learning rate should change by the same factor to have comparable results\n",
        "\n",
        "LR = 2         # The initial Learning Rate\n",
        "MOMENTUM = 0.9       # Hyperparameter for SGD, keep this at 0.9 when using SGD\n",
        "WEIGHT_DECAY = 1e-5  # Regularization, you can keep this at the default\n",
        "\n",
        "NUM_EPOCHS = 70     # Total number of training epochs (iterations over dataset)\n",
        "MILESTONES = [48, 62]  # How many epochs before decreasing learning rate (if using a step-down policy)\n",
        "GAMMA = 0.2          # Multiplicative factor for learning rate step-down\n",
        "\n",
        "LOG_FREQUENCY = 50"
      ],
      "execution_count": 0,
      "outputs": []
    },
    {
      "cell_type": "markdown",
      "metadata": {
        "id": "u6t7fLFuZBgF",
        "colab_type": "text"
      },
      "source": [
        "**Transformations definition**\n",
        "\n",
        "---\n",
        "\n"
      ]
    },
    {
      "cell_type": "code",
      "metadata": {
        "trusted": true,
        "id": "pFm2Gxyedm71",
        "colab_type": "code",
        "colab": {}
      },
      "source": [
        "# Define transforms for training phase\n",
        "train_transform = transforms.Compose([transforms.RandomHorizontalFlip(), # Randomly flip the image with probability of 0.5\n",
        "                                      transforms.Pad(4), # Add padding\n",
        "                                      transforms.RandomCrop(32),# Crops a random squares of the image\n",
        "                                      transforms.ToTensor(), # Turn PIL Image to torch.Tensor\n",
        "                                      transforms.Normalize((0.485, 0.456, 0.406), (0.229, 0.224, 0.225))  # https://gist.github.com/weiaicunzai/e623931921efefd4c331622c344d8151\n",
        "])\n",
        "# Define transforms for the evaluation phase\n",
        "eval_transform = transforms.Compose([\n",
        "                                      transforms.ToTensor(),\n",
        "                                      transforms.Normalize((0.485, 0.456, 0.406), (0.229, 0.224, 0.225))                                 \n",
        "])"
      ],
      "execution_count": 0,
      "outputs": []
    },
    {
      "cell_type": "markdown",
      "metadata": {
        "id": "GW30kNv9jlEL",
        "colab_type": "text"
      },
      "source": [
        "*New label function*"
      ]
    },
    {
      "cell_type": "code",
      "metadata": {
        "trusted": true,
        "id": "fXLgSBpedm8C",
        "colab_type": "code",
        "colab": {}
      },
      "source": [
        "DATA_DIR = './CIFAR100'\n",
        "\n",
        "lbls = [i for i in range(0,100)]  #Array of classes integer-encoded (?)\n",
        "random.seed(SEED)\n",
        "random.shuffle(lbls)\n",
        "\n",
        "def make_data_labels(lbls):       #After shuffle, take first 10 classes, and remove the first 10 from the list passed as argument\n",
        "    new_labels=[]\n",
        "    for el in lbls[:10]:\n",
        "        new_labels.append(el)\n",
        "    lbls = lbls[10:]\n",
        "\n",
        "    return lbls, new_labels"
      ],
      "execution_count": 0,
      "outputs": []
    },
    {
      "cell_type": "code",
      "metadata": {
        "id": "v5fv56Nh1Z9w",
        "colab_type": "code",
        "outputId": "a91a4fe9-8c59-4163-926b-13af7ad126c6",
        "colab": {
          "base_uri": "https://localhost:8080/",
          "height": 35
        }
      },
      "source": [
        "for j in range(1,2):\n",
        "  print(1)"
      ],
      "execution_count": 0,
      "outputs": [
        {
          "output_type": "stream",
          "text": [
            "1\n"
          ],
          "name": "stdout"
        }
      ]
    },
    {
      "cell_type": "markdown",
      "metadata": {
        "id": "jigjtgKJYmUU",
        "colab_type": "text"
      },
      "source": [
        "**Network Definition**\n",
        "\n",
        "---"
      ]
    },
    {
      "cell_type": "code",
      "metadata": {
        "id": "FmirquleWTnE",
        "colab_type": "code",
        "colab": {}
      },
      "source": [
        "import torch\n",
        "import torch.nn as nn\n",
        "import torch.optim as optim\n",
        "from torch.utils.data import DataLoader\n",
        "\n",
        "class iCaRL(nn.Module):\n",
        "  def __init__(self):\n",
        "    super(iCaRL, self).__init__()\n",
        "\n",
        "    self.feature_extractor = ResNet18()\n",
        "    self.feature_extractor.linear = nn.Linear(512, 2048)\n",
        "    self.relu = nn.ReLU()\n",
        "    self.fc = nn.Linear(2048, 100)\n",
        "\n",
        "    self.cls_loss = nn.BCEWithLogitsLoss()\n",
        "    self.dist_loss = nn.BCELoss()\n",
        "\n",
        "    self.optimizer = optim.SGD(self.parameters(), lr=2, weight_decay=1e-5, momentum=0.9)\n",
        "\n",
        "    self.exemplar_sets=[]\n",
        "    self.exemplars_means=[]\n",
        "\n",
        "  def forward(self, x):\n",
        "    x = self.feature_extractor(x)\n",
        "    x = nn.functional.norm(x)\n",
        "    x = self.relu(x)\n",
        "    x = self.fc(x)\n",
        "    return x\n",
        "\n",
        "  def classify(self, x):\n",
        "    \n",
        "    # x is a single image\n",
        "    x  = x.unsqueeze(dim=0)\n",
        "\n",
        "    exemplar_means = []\n",
        "\n",
        "    # Compute exemplar means\n",
        "    for Py in self.exemplar_sets:\n",
        "      features=[]\n",
        "      for p in Py:\n",
        "        feature = self.feature_extractor(p)\n",
        "        features.append(feature)\n",
        "      features = torch.stack(features)\n",
        "      mu_y = features.mean(0) # compute the mean for class y\n",
        "      mu_y.data = mu_y.data / mu_y.data.norm() # Normalize\n",
        "      exemplar_means.append(mu_y) # array of means, one for each class\n",
        "\n",
        "    self.exemplar_means = exemplar_means #update array of exemplar means\n",
        "  \n",
        "    means = torch.cat(exemplar_means,dim=0) # (n_classes, feature_size)\n",
        "    feature_x = self.feature_extractor(x) # (1, feature_size)\n",
        "\n",
        "    # normalize \n",
        "    for i in range(feature_x.size(0)):\n",
        "      feature_x.data[i] = feature_x.data[i] / feature_x.data[i].norm()\n",
        "\n",
        "    feature_x = torch.cat([feature_x]*means.size()[0],dim=0)\n",
        "\n",
        "    # find the nearest prototype\n",
        "    label = torch.argmin((feature_x - means).pow(2).sum(1),dim=0)\n",
        "\n",
        "    return label.item()\n",
        "\n",
        "  def reduce_exemplar_sets(self,m):\n",
        "    for y, P_y in enumerate(self.exemplar_sets):\n",
        "      self.exemplar_sets[y] = P_y[:m]\n",
        "  \n",
        "  def construct_exemplar_set(self,X,m):\n",
        "    \n",
        "    # X dataset containing all elements of class y\n",
        "\n",
        "    loader = DataLoader(X,128,True,drop_last=False) # create dataloader\n",
        "\n",
        "    features = []\n",
        "    for images,labels in loader:\n",
        "      feature = self.feature_extractor(images) #(batchsize, 2048)\n",
        "      features.append(feature)\n",
        "\n",
        "    features_stacked = torch.cat(features)# (size,2048)\n",
        "    mean = features_stacked.mean(0) #current class mean (1,2048)\n",
        "    mean = torch.stack([mean]*features_stacked.size()[0]) # (size,2048)\n",
        "     \n",
        "\n",
        "    P = [] # exemplar set\n",
        "    for k in range(1,m+1):\n",
        "      s = torch.zeros(1,2048)\n",
        "      for j in range(1,k):\n",
        "        s = s + self.feature_extractor(P[j-1])\n",
        "      s = torch.cat([s]*features_stacked.size()[0])\n",
        "      index = torch.argmin((mean-(1/k)*(features_stacked+s)).pow(2).sum(1),dim=0)\n",
        "      pk = X[index.item()][0].unsqueeze(dim=0)\n",
        "      P.append(pk)\n",
        "     \n",
        "    self.exemplar_sets.append(P)\n",
        "\n",
        "  def update_representation(self,X):\n",
        "    #prin(ci)\n",
        "    print(\"ciao\")"
      ],
      "execution_count": 0,
      "outputs": []
    },
    {
      "cell_type": "code",
      "metadata": {
        "id": "rfFKyVwGi8pr",
        "colab_type": "code",
        "colab": {}
      },
      "source": [
        "net = iCarl()\n",
        "K = 2000 \n",
        "t = 0\n",
        "test_dataset = CIFAR100_tError(DATA_DIR, train=False, transform=eval_transform, download=True)\n",
        "for i in range(0,10): # batches of 10\n",
        "  #Create Datasets\n",
        "  train_datasets = []\n",
        "  # take 10 new classes\n",
        "  lbls, new_labels = make_data_labels(lbls)\n",
        "  for num,label in enumerate(new_labels):\n",
        "    train_dataset = CIFAR100_tError(DATA_DIR, train=True, transform=train_transform, download=True)\n",
        "    train_dataset.increment(label,[t])\n",
        "    test_dataset.increment(label,[t])\n",
        "    train_datasets.append(train_dataset) # List of training examples in per class sets\n",
        "    t += 1\n",
        "  net.update_representation(train_datasets)\n",
        "  m = K/t #numbers of exemplars per class\n",
        "  net.reduce_exemplar_sets(m)\n",
        "  for X in train_datasets:\n",
        "    net.construct_exemplar_set(X,m) #new exemplar sets\n",
        "  # Test on Test set\n",
        "  running_corrects = 0\n",
        "  for image,label in test_dataset:\n",
        "    prediction = net.classify(image)\n",
        "    if label == prediction:\n",
        "      running_corrects += 1\n",
        "   accuracy = running_corrects / float(len(test_dataset))\n",
        "  print(f\"Test Accuracy: {accuracy}\")"
      ],
      "execution_count": 0,
      "outputs": []
    },
    {
      "cell_type": "markdown",
      "metadata": {
        "id": "Qaeqgqc2Xr1r",
        "colab_type": "text"
      },
      "source": [
        "**Define plot function**\n",
        "\n",
        "---\n",
        "\n"
      ]
    },
    {
      "cell_type": "code",
      "metadata": {
        "id": "rr8d6IXeXrJt",
        "colab_type": "code",
        "colab": {}
      },
      "source": [
        "def accuracy_plot(accuracies):\n",
        "  ### FOR MEAN STD PLOT https://stackoverflow.com/questions/22481854/plot-mean-and-standard-deviation\n",
        "  from scipy import interpolate\n",
        "\n",
        "  tck,u     = interpolate.splprep( [[i*10 for i in range(1,len(accuracies)+1)],accuracies] ,s = 0 )\n",
        "  xnew,ynew = interpolate.splev( np.linspace( 0, 1, 100 ), tck,der = 0)\n",
        "\n",
        "  fig, ax = plt.subplots(figsize=(15,14), facecolor='white')\n",
        "\n",
        "  plt.rc('font', size=20)\n",
        "  plt.plot( [i*10 for i in range(1,len(accuracies)+1)],accuracies,'.' , xnew ,ynew, label = \"accuracy\", c='orange' )\n",
        "  ax.set_ylabel(\"Accuracy\")\n",
        "  ax.set_xlabel(\"Classes\")\n",
        "  ax.minorticks_on()\n",
        "  plt.title(\"Accuracies obtained with finetuning of a ResNet network\")\n",
        "  plt.yticks(np.arange(0, 1.1, .1))\n",
        "  plt.xticks(np.arange(0, 110, 10))\n",
        "  plt.grid(axis='y',which='major', linestyle='-', linewidth='0.5', color='black') \n",
        "  plt.grid(axis='y',which='minor', linestyle=':', linewidth='0.5', color='grey')\n",
        "  for in_i, in_j in zip([i*10 for i in range(1,len(accuracies)+1)], accuracies):  # Plot also the value of the point close to it\n",
        "          ax.annotate(str(round(in_j, 3)), xy=(in_i, in_j))\n",
        "\n",
        "  plt.savefig('test.png', format='png', dpi=300)\n",
        "  plt.show()"
      ],
      "execution_count": 0,
      "outputs": []
    },
    {
      "cell_type": "markdown",
      "metadata": {
        "id": "VphrtfF8XqsN",
        "colab_type": "text"
      },
      "source": [
        "*Print & Plot*"
      ]
    },
    {
      "cell_type": "code",
      "metadata": {
        "trusted": true,
        "id": "6Asycu5ddm8X",
        "colab_type": "code",
        "outputId": "99745762-7b61-4eed-a47d-af20b3db79f7",
        "colab": {
          "base_uri": "https://localhost:8080/",
          "height": 866
        }
      },
      "source": [
        "print(test_accuracies)\n",
        "\n",
        "accuracy_plot(test_accuracies)\n",
        "#obtained [0.844, 0.4525, 0.2976666666666667, 0.224, 0.1808, 0.1535, 0.125, 0.113625, 0.10577777777777778, 0.0929]"
      ],
      "execution_count": 0,
      "outputs": [
        {
          "output_type": "stream",
          "text": [
            "[0.84, 0.4595, 0.30666666666666664, 0.23, 0.184, 0.15383333333333332, 0.13185714285714287, 0.115375, 0.10644444444444444, 0.0958]\n"
          ],
          "name": "stdout"
        },
        {
          "output_type": "display_data",
          "data": {
            "image/png": "[encoded data removed]",
            "text/plain": [
              "<Figure size 1080x1008 with 1 Axes>"
            ]
          },
          "metadata": {
            "tags": []
          }
        }
      ]
    }
  ]
}